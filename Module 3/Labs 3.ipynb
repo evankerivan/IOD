{
 "cells": [
  {
   "cell_type": "code",
   "execution_count": 1,
   "id": "9587bb42",
   "metadata": {},
   "outputs": [],
   "source": [
    "import sqlite3\n",
    "sqlite_db = 'test_db.sqlite'\n",
    "conn = sqlite3.connect(sqlite_db)\n",
    "c = conn.cursor()"
   ]
  },
  {
   "cell_type": "code",
   "execution_count": 40,
   "id": "795aa19a",
   "metadata": {},
   "outputs": [],
   "source": [
    "c.execute('CREATE TABLE students (student_id INTEGER PRIMARY KEY, name TEXT, age INTEGER, major TEXT);')\n",
    "conn.commit()"
   ]
  },
  {
   "cell_type": "code",
   "execution_count": 39,
   "id": "c82d77e2",
   "metadata": {},
   "outputs": [
    {
     "data": {
      "text/plain": [
       "<sqlite3.Cursor at 0x1053831c0>"
      ]
     },
     "execution_count": 39,
     "metadata": {},
     "output_type": "execute_result"
    }
   ],
   "source": [
    "c.execute('DROP TABLE students;')\n"
   ]
  },
  {
   "cell_type": "code",
   "execution_count": 20,
   "id": "4a235976",
   "metadata": {},
   "outputs": [],
   "source": [
    "student1 = (1, 'mary', 15, 'science')\n",
    "\n",
    "# Execute Command\n",
    "c.execute('INSERT INTO students VALUES (?,?,?,?)',student1)\n",
    "\n",
    "# Remember to commit the changes\n",
    "conn.commit()"
   ]
  },
  {
   "cell_type": "code",
   "execution_count": 21,
   "id": "6f119b34",
   "metadata": {},
   "outputs": [
    {
     "data": {
      "text/plain": [
       "[('mary',)]"
      ]
     },
     "execution_count": 21,
     "metadata": {},
     "output_type": "execute_result"
    }
   ],
   "source": [
    "all_students=c.execute(\"SELECT name FROM students\")\n",
    "all_students.fetchall()"
   ]
  },
  {
   "cell_type": "code",
   "execution_count": 22,
   "id": "ca23dda8",
   "metadata": {},
   "outputs": [
    {
     "name": "stdout",
     "output_type": "stream",
     "text": [
      "<sqlite3.Cursor object at 0x1053831c0>\n"
     ]
    }
   ],
   "source": []
  },
  {
   "cell_type": "code",
   "execution_count": 24,
   "id": "cfe54561",
   "metadata": {},
   "outputs": [],
   "source": [
    "c.execute('CREATE TABLE enrollments (enrollment_id INTEGER PRIMARY KEY, student_id integer FOREIGN_KEY, course_id INTERGER FORIEGN_KEY);')\n",
    "conn.commit()"
   ]
  },
  {
   "cell_type": "code",
   "execution_count": 25,
   "id": "d230eb43",
   "metadata": {},
   "outputs": [],
   "source": [
    "c.execute('CREATE TABLE exams (exam_id INTEGER PRIMARY KEY, enrollment_id INTEGER FOREIGN_KEY, score INTEGER);')\n",
    "conn.commit()"
   ]
  },
  {
   "cell_type": "code",
   "execution_count": 43,
   "id": "1613231a",
   "metadata": {},
   "outputs": [
    {
     "data": {
      "text/plain": [
       "<function Connection.commit()>"
      ]
     },
     "execution_count": 43,
     "metadata": {},
     "output_type": "execute_result"
    }
   ],
   "source": [
    "values = [(None,'Rachel',22, \"geometry\"),(None,'Janet',25, \"english\"),(None,'Jim',22, \"cartography\"),(None,'Steve',27, \"math\"),(None,'Heather',23, \"maths\"),(None,'Andrew',19, \"cartography\"),(None,'Angela',21, \"english\"),(None,'Geoff',22, \"art\"),(None,'Mary',37, \"geography\")]\n",
    "c.executemany(\"INSERT INTO students (student_id, name, age, major) VALUES (?, ?, ?, ?)\", values)\n",
    "conn.commit"
   ]
  },
  {
   "cell_type": "code",
   "execution_count": 45,
   "id": "9c128acf",
   "metadata": {},
   "outputs": [
    {
     "data": {
      "text/plain": [
       "<function Connection.commit()>"
      ]
     },
     "execution_count": 45,
     "metadata": {},
     "output_type": "execute_result"
    }
   ],
   "source": [
    "values = [(None,'James',29, \"physics\"),(None,'Fred',25, \"philosophy\"),(None,'Brenda',22, \"math\"),(None,'Tim',22, \"art\"),(None,'Stu',24, \"physics\"),(None,'Carl',17, \"cartography\"),(None,'Janice',19, \"english\"),(None,'Linda',26, \"law\"),(None,'Sarah',32, \"geography\")]\n",
    "c.executemany(\"INSERT INTO students (student_id, name, age, major) VALUES (?, ?, ?, ?)\", values)\n",
    "conn.commit"
   ]
  },
  {
   "cell_type": "code",
   "execution_count": 46,
   "id": "c69e577a",
   "metadata": {},
   "outputs": [
    {
     "data": {
      "text/plain": [
       "[(1, 'Rachel', 22, 'geometry'),\n",
       " (2, 'Janet', 25, 'english'),\n",
       " (3, 'Jim', 22, 'cartography'),\n",
       " (4, 'Steve', 27, 'math'),\n",
       " (5, 'Heather', 23, 'maths'),\n",
       " (6, 'Andrew', 19, 'cartography'),\n",
       " (7, 'Angela', 21, 'english'),\n",
       " (8, 'Geoff', 22, 'art'),\n",
       " (9, 'Mary', 37, 'geography'),\n",
       " (10, 'James', 29, 'physics'),\n",
       " (11, 'Fred', 25, 'philosophy'),\n",
       " (12, 'Brenda', 22, 'math'),\n",
       " (13, 'Tim', 22, 'art'),\n",
       " (14, 'Stu', 24, 'physics'),\n",
       " (15, 'Carl', 17, 'cartography'),\n",
       " (16, 'Janice', 19, 'english'),\n",
       " (17, 'Linda', 26, 'law'),\n",
       " (18, 'Sarah', 32, 'geography')]"
      ]
     },
     "execution_count": 46,
     "metadata": {},
     "output_type": "execute_result"
    }
   ],
   "source": [
    "all_students=c.execute(\"SELECT student_id, name, age, major FROM students\")\n",
    "all_students.fetchall()"
   ]
  },
  {
   "cell_type": "code",
   "execution_count": null,
   "id": "417cb249",
   "metadata": {},
   "outputs": [],
   "source": [
    "exam_values = [(None,'James',29, \"physics\"),(None,'Fred',25, \"philosophy\"),(None,'Brenda',22, \"math\"),(None,'Tim',22, \"art\"),(None,'Stu',24, \"physics\"),(None,'Carl',17, \"cartography\"),(None,'Janice',19, \"english\"),(None,'Linda',26, \"law\"),(None,'Sarah',32, \"geography\")]\n",
    "c.executemany(\"INSERT INTO students (student_id, name, age, major) EXAM_VALUES (?, ?, ?, ?)\", values)\n",
    "conn.commit"
   ]
  }
 ],
 "metadata": {
  "kernelspec": {
   "display_name": "Python 3 (ipykernel)",
   "language": "python",
   "name": "python3"
  },
  "language_info": {
   "codemirror_mode": {
    "name": "ipython",
    "version": 3
   },
   "file_extension": ".py",
   "mimetype": "text/x-python",
   "name": "python",
   "nbconvert_exporter": "python",
   "pygments_lexer": "ipython3",
   "version": "3.11.3"
  }
 },
 "nbformat": 4,
 "nbformat_minor": 5
}
