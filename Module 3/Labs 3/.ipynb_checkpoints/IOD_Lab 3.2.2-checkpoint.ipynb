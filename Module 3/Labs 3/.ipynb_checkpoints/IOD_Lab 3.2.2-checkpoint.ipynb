{
 "cells": [
  {
   "cell_type": "markdown",
   "metadata": {
    "id": "nOGGU7gNKck0"
   },
   "source": [
    "<div>\n",
    "<img src=https://www.institutedata.com/wp-content/uploads/2019/10/iod_h_tp_primary_c.svg width=\"300\">\n",
    "</div>"
   ]
  },
  {
   "cell_type": "markdown",
   "metadata": {
    "id": "_D_idRWZKck4"
   },
   "source": [
    "# Lab 3.2.2\n",
    "# *Mining Social Media on Reddit*"
   ]
  },
  {
   "cell_type": "markdown",
   "metadata": {
    "id": "atJ1XMr3Kck7"
   },
   "source": [
    "## The Reddit API and the PRAW Package"
   ]
  },
  {
   "cell_type": "markdown",
   "metadata": {
    "id": "aJ9o1EfAKck-"
   },
   "source": [
    "The Reddit API is rich and complex, with many endpoints (https://www.reddit.com/dev/api/). It includes methods for navigating its collections, which include various kinds of media as well as comments. Fortunately, the Python library PRAW reduces much of this complexity.\n",
    "\n",
    "Reddit requires developers to create and authenticate an app before they can use the API, but the process is much less onerous than some, and does not have waiting period for approval of new developers."
   ]
  },
  {
   "cell_type": "markdown",
   "metadata": {
    "id": "egz9IUhlKclB"
   },
   "source": [
    "### 1. Create a Reddit App\n",
    "\n",
    "Go to https://www.reddit.com/prefs/apps and click \"create an app\".\n",
    "\n",
    "Enter the following in the form:\n",
    "\n",
    "- a name for your app\n",
    "- select \"script\" radio button\n",
    "- a description\n",
    "- a redirect URI\n",
    "\n",
    "(Nb. For pulling data into a data science experiment, a local port can be used for the Redirect URI; try http://127.0.0.1:1410)\n",
    "\n",
    "\n",
    "- click \"create app\"\n",
    "- from the form that displays, copy the following to a local text file (or to this notebook):\n",
    "\n",
    "  - name (the name you gave to your app)\n",
    "  - redirect URI\n",
    "  - personal use script (this is your OAuth 2 Client ID)\n",
    "  - secret (this is your OAuth 2 Secret)"
   ]
  },
  {
   "cell_type": "markdown",
   "metadata": {
    "id": "LF9V-LJ2KclE"
   },
   "source": [
    "### 2. Register for API Access\n",
    "\n",
    "- follow the link at https://www.reddit.com/wiki/api and read the terms of use for Reddit API access\n",
    "- fill in the form fields at the bottom\n",
    "  - make sure to enter your new OAuth Client ID where indicated\n",
    "  - your use case could be something like \"Training in API usage for data science projects\"\n",
    "  - your platform could be something like \"Jupyter Notebooks / Python\"\n",
    "  \n",
    "- click \"SUBMIT\"\n",
    "\n",
    "- when asked for User-Agent, enter something that fits this pattern:\n",
    "  `your_os-python:your_reddit_appname:v1.0 (by /u/your_reddit_username)`"
   ]
  },
  {
   "cell_type": "markdown",
   "metadata": {
    "id": "JIsv8YAMKclG"
   },
   "source": [
    "### 3. Load Python Libraries"
   ]
  },
  {
   "cell_type": "code",
   "execution_count": 1,
   "metadata": {
    "colab": {
     "base_uri": "https://localhost:8080/"
    },
    "executionInfo": {
     "elapsed": 4231,
     "status": "ok",
     "timestamp": 1685516919188,
     "user": {
      "displayName": "Maheshkumar Paik",
      "userId": "02349378107593826691"
     },
     "user_tz": -480
    },
    "id": "U3ZVHsiYoubq",
    "outputId": "ab731409-5046-47f5-aeed-c7d5a5b8f4bb"
   },
   "outputs": [
    {
     "name": "stdout",
     "output_type": "stream",
     "text": [
      "Collecting praw\n",
      "  Downloading praw-7.7.1-py3-none-any.whl.metadata (9.8 kB)\n",
      "Collecting prawcore<3,>=2.1 (from praw)\n",
      "  Downloading prawcore-2.4.0-py3-none-any.whl.metadata (5.0 kB)\n",
      "Collecting update-checker>=0.18 (from praw)\n",
      "  Downloading update_checker-0.18.0-py3-none-any.whl.metadata (2.3 kB)\n",
      "Requirement already satisfied: websocket-client>=0.54.0 in /Applications/anaconda3/lib/python3.11/site-packages (from praw) (0.58.0)\n",
      "Requirement already satisfied: requests<3.0,>=2.6.0 in /Applications/anaconda3/lib/python3.11/site-packages (from prawcore<3,>=2.1->praw) (2.29.0)\n",
      "Requirement already satisfied: six in /Applications/anaconda3/lib/python3.11/site-packages (from websocket-client>=0.54.0->praw) (1.16.0)\n",
      "Requirement already satisfied: charset-normalizer<4,>=2 in /Applications/anaconda3/lib/python3.11/site-packages (from requests<3.0,>=2.6.0->prawcore<3,>=2.1->praw) (2.0.4)\n",
      "Requirement already satisfied: idna<4,>=2.5 in /Applications/anaconda3/lib/python3.11/site-packages (from requests<3.0,>=2.6.0->prawcore<3,>=2.1->praw) (3.4)\n",
      "Requirement already satisfied: urllib3<1.27,>=1.21.1 in /Applications/anaconda3/lib/python3.11/site-packages (from requests<3.0,>=2.6.0->prawcore<3,>=2.1->praw) (1.26.16)\n",
      "Requirement already satisfied: certifi>=2017.4.17 in /Applications/anaconda3/lib/python3.11/site-packages (from requests<3.0,>=2.6.0->prawcore<3,>=2.1->praw) (2023.7.22)\n",
      "Downloading praw-7.7.1-py3-none-any.whl (191 kB)\n",
      "\u001b[2K   \u001b[90m━━━━━━━━━━━━━━━━━━━━━━━━━━━━━━━━━━━━━━━━\u001b[0m \u001b[32m191.0/191.0 kB\u001b[0m \u001b[31m1.6 MB/s\u001b[0m eta \u001b[36m0:00:00\u001b[0ma \u001b[36m0:00:01\u001b[0m\n",
      "\u001b[?25hDownloading prawcore-2.4.0-py3-none-any.whl (17 kB)\n",
      "Downloading update_checker-0.18.0-py3-none-any.whl (7.0 kB)\n",
      "Installing collected packages: update-checker, prawcore, praw\n",
      "Successfully installed praw-7.7.1 prawcore-2.4.0 update-checker-0.18.0\n",
      "\n",
      "\u001b[1m[\u001b[0m\u001b[34;49mnotice\u001b[0m\u001b[1;39;49m]\u001b[0m\u001b[39;49m A new release of pip is available: \u001b[0m\u001b[31;49m24.1.2\u001b[0m\u001b[39;49m -> \u001b[0m\u001b[32;49m24.2\u001b[0m\n",
      "\u001b[1m[\u001b[0m\u001b[34;49mnotice\u001b[0m\u001b[1;39;49m]\u001b[0m\u001b[39;49m To update, run: \u001b[0m\u001b[32;49mpip install --upgrade pip\u001b[0m\n"
     ]
    }
   ],
   "source": [
    "!pip install praw"
   ]
  },
  {
   "cell_type": "code",
   "execution_count": 2,
   "metadata": {
    "id": "xqi2BT66KclI"
   },
   "outputs": [],
   "source": [
    "import praw\n",
    "import requests\n",
    "import json\n",
    "import pprint\n",
    "from datetime import datetime, date, time"
   ]
  },
  {
   "cell_type": "markdown",
   "metadata": {
    "id": "wwXaO9GPKclP"
   },
   "source": [
    "### 4. Authenticate from your Python script"
   ]
  },
  {
   "cell_type": "markdown",
   "metadata": {
    "id": "ZF5oh54RKclR"
   },
   "source": [
    "You could assign your authentication details explicitly, as follows:"
   ]
  },
  {
   "cell_type": "code",
   "execution_count": 3,
   "metadata": {
    "id": "qH2-X9juKclS"
   },
   "outputs": [],
   "source": [
    "my_user_agent = ''   # your user Agent string goes in here\n",
    "my_client_id = ''   # your Client ID string goes in here\n",
    "my_client_secret = ''   # your Secret string goes in here"
   ]
  },
  {
   "cell_type": "markdown",
   "metadata": {
    "id": "1TmzPxHIKclX"
   },
   "source": [
    "A better way would be to store these details externally, so they are not displayed in the notebook:\n",
    "\n",
    "- create a file called \"auth_reddit.json\" in your \"notebooks\" directory, and save your credentials there in JSON format:\n",
    "\n",
    "`{   \"my_client_id\": \"your Client ID string goes in here\",` <br>\n",
    "&nbsp;&nbsp;&nbsp;&nbsp;&nbsp;&nbsp;&nbsp;&nbsp;` \"my_client_secret\": \"your Secret string goes in here\",` <br>\n",
    "&nbsp;&nbsp;&nbsp;&nbsp;&nbsp;&nbsp;&nbsp;&nbsp;`\"my_user_agent\": \"your user Agent string goes in here\"` <br>\n",
    "`}`\n",
    "\n",
    "Use the following code to load the credentials:  "
   ]
  },
  {
   "cell_type": "code",
   "execution_count": 4,
   "metadata": {
    "colab": {
     "base_uri": "https://localhost:8080/",
     "height": 35
    },
    "executionInfo": {
     "elapsed": 324,
     "status": "ok",
     "timestamp": 1685517832027,
     "user": {
      "displayName": "Maheshkumar Paik",
      "userId": "02349378107593826691"
     },
     "user_tz": -480
    },
    "id": "mFbFWGnVKclY",
    "outputId": "97c00516-ffaa-4ea3-a62f-943f12278dcf"
   },
   "outputs": [
    {
     "data": {
      "text/plain": [
       "'/Users/evankerivan/Desktop/IOD/Module 3/Labs 3'"
      ]
     },
     "execution_count": 4,
     "metadata": {},
     "output_type": "execute_result"
    }
   ],
   "source": [
    "pwd()  # make sure your working directory is where the file is"
   ]
  },
  {
   "cell_type": "code",
   "execution_count": 18,
   "metadata": {
    "colab": {
     "base_uri": "https://localhost:8080/"
    },
    "executionInfo": {
     "elapsed": 333,
     "status": "ok",
     "timestamp": 1685518100680,
     "user": {
      "displayName": "Maheshkumar Paik",
      "userId": "02349378107593826691"
     },
     "user_tz": -480
    },
    "id": "Jc5_dh-jKclc",
    "outputId": "8b5c246d-e9aa-4713-d041-6d7257ea69af"
   },
   "outputs": [
    {
     "name": "stdout",
     "output_type": "stream",
     "text": [
      "{   'my_client_id': '6K8Nvw41_odfEXs4keuD-Q',\n",
      "    'my_client_secret': 'fElk_8_2SX9BETkWZ9tuTVD6sP3M2A',\n",
      "    'my_user_agent': 'your_os-python:ekdata:v1.0 (by /u/Hour_Philosophy6391)'}\n"
     ]
    }
   ],
   "source": [
    "path_auth = 'creditintials.json'\n",
    "auth = json.loads(open(path_auth).read())\n",
    "pp = pprint.PrettyPrinter(indent=4)\n",
    "# For debugging only:\n",
    "\n",
    "pp.pprint(auth)\n",
    "\n",
    "\n"
   ]
  },
  {
   "cell_type": "code",
   "execution_count": 22,
   "metadata": {
    "id": "IyPlUZ-wtRrS"
   },
   "outputs": [
    {
     "ename": "KeyError",
     "evalue": "'6K8Nvw41_odfEXs4keuD-Q'",
     "output_type": "error",
     "traceback": [
      "\u001b[0;31m---------------------------------------------------------------------------\u001b[0m",
      "\u001b[0;31mKeyError\u001b[0m                                  Traceback (most recent call last)",
      "Cell \u001b[0;32mIn[22], line 1\u001b[0m\n\u001b[0;32m----> 1\u001b[0m my_client_id \u001b[38;5;241m=\u001b[39m auth[\u001b[38;5;124m'\u001b[39m\u001b[38;5;124m6K8Nvw41_odfEXs4keuD-Q\u001b[39m\u001b[38;5;124m'\u001b[39m]\n\u001b[1;32m      2\u001b[0m my_client_secret \u001b[38;5;241m=\u001b[39m auth[\u001b[38;5;124m'\u001b[39m\u001b[38;5;124mfElk_8_2SX9BETkWZ9tuTVD6sP3M2A\u001b[39m\u001b[38;5;124m'\u001b[39m]\n\u001b[1;32m      3\u001b[0m my_user_agent \u001b[38;5;241m=\u001b[39m auth[\u001b[38;5;124m'\u001b[39m\u001b[38;5;124myour_os-python:ekdata:v1.0 (by /u/Hour_Philosophy6391)\u001b[39m\u001b[38;5;124m'\u001b[39m]\n",
      "\u001b[0;31mKeyError\u001b[0m: '6K8Nvw41_odfEXs4keuD-Q'"
     ]
    }
   ],
   "source": [
    "my_user_agent = auth['my_user_agent']\n",
    "my_client_id = auth['my_client_id']\n",
    "my_client_secret = auth['my_client_secret']"
   ]
  },
  {
   "cell_type": "markdown",
   "metadata": {
    "id": "lVKFy9rZKclf"
   },
   "source": [
    "Security considerations:\n",
    "- this method only keeps your credentials invisible as long as nobody else gets access to this notebook file\n",
    "- if you wanted another user to have access to the executable notebook without divulging your credentials you should set up an OAuth 2.0 workflow to let them obtain and apply their own API tokens when using your app\n",
    "- if you just want to share your analyses, you could use a separate script (which you don't share) to fetch the data and save it locally, then use a second notebook (with no API access) to load and analyse the locally stored data"
   ]
  },
  {
   "cell_type": "markdown",
   "metadata": {
    "id": "fgHqt72rKclg"
   },
   "source": [
    "### 5. Exploring the API"
   ]
  },
  {
   "cell_type": "markdown",
   "metadata": {
    "id": "ByEQS6QsKclh"
   },
   "source": [
    "Here is how to connect to Reddit with read-only access:"
   ]
  },
  {
   "cell_type": "code",
   "execution_count": 23,
   "metadata": {
    "colab": {
     "base_uri": "https://localhost:8080/"
    },
    "executionInfo": {
     "elapsed": 392,
     "status": "ok",
     "timestamp": 1685518185231,
     "user": {
      "displayName": "Maheshkumar Paik",
      "userId": "02349378107593826691"
     },
     "user_tz": -480
    },
    "id": "8hkZJlcJKcli",
    "outputId": "8e736632-b9cc-4ddd-808c-9fa125dada0f"
   },
   "outputs": [
    {
     "name": "stdout",
     "output_type": "stream",
     "text": [
      "Read-only = True\n"
     ]
    }
   ],
   "source": [
    "reddit = praw.Reddit(client_id = my_client_id,\n",
    "                     client_secret = my_client_secret,\n",
    "                     user_agent = my_user_agent)\n",
    "\n",
    "print('Read-only = ' + str(reddit.read_only))  # Output: True"
   ]
  },
  {
   "cell_type": "markdown",
   "metadata": {
    "id": "slGz0lS5Kclk"
   },
   "source": [
    "In the next cell, put the cursor after the '.' and hit the [tab] key to see the available members and methods in the response object:"
   ]
  },
  {
   "cell_type": "code",
   "execution_count": 24,
   "metadata": {
    "id": "McKdW7YGqmk3"
   },
   "outputs": [
    {
     "data": {
      "text/plain": [
       "<praw.models.auth.Auth at 0x116d36c10>"
      ]
     },
     "execution_count": 24,
     "metadata": {},
     "output_type": "execute_result"
    }
   ],
   "source": [
    "reddit.auth"
   ]
  },
  {
   "cell_type": "code",
   "execution_count": 32,
   "metadata": {
    "id": "poGsr4X9tv42"
   },
   "outputs": [],
   "source": [
    "subreddit_name = 'sydney'\n",
    "subreddit = reddit.subreddit(subreddit_name)"
   ]
  },
  {
   "cell_type": "code",
   "execution_count": 33,
   "metadata": {
    "colab": {
     "base_uri": "https://localhost:8080/"
    },
    "executionInfo": {
     "elapsed": 96527,
     "status": "ok",
     "timestamp": 1685518357553,
     "user": {
      "displayName": "Maheshkumar Paik",
      "userId": "02349378107593826691"
     },
     "user_tz": -480
    },
    "id": "_iuNlRadtx9T",
    "outputId": "deee9289-d1f9-4811-eb8e-80db3438e8f1"
   },
   "outputs": [],
   "source": [
    "comments = []\n",
    "for comment in subreddit.comments(limit=1000):\n",
    "    comments.append(comment)"
   ]
  },
  {
   "cell_type": "code",
   "execution_count": 34,
   "metadata": {
    "colab": {
     "base_uri": "https://localhost:8080/"
    },
    "executionInfo": {
     "elapsed": 7,
     "status": "ok",
     "timestamp": 1685521538900,
     "user": {
      "displayName": "Maheshkumar Paik",
      "userId": "02349378107593826691"
     },
     "user_tz": -480
    },
    "id": "6MvyYewEKcll",
    "outputId": "3c40f831-334b-4f57-bd1b-d229134ae7f8"
   },
   "outputs": [
    {
     "data": {
      "text/plain": [
       "Subreddit(display_name='sydney')"
      ]
     },
     "execution_count": 34,
     "metadata": {},
     "output_type": "execute_result"
    }
   ],
   "source": [
    "reddit.subreddit(subreddit_name)"
   ]
  },
  {
   "cell_type": "markdown",
   "metadata": {
    "id": "AKfXBu7yKcln"
   },
   "source": [
    "Consult the PRAW and Reddit API documentation. Print a few of the response members below:"
   ]
  },
  {
   "cell_type": "code",
   "execution_count": 35,
   "metadata": {
    "id": "31Njl99lKcln"
   },
   "outputs": [
    {
     "name": "stdout",
     "output_type": "stream",
     "text": [
      "Author: Beagle-Mumma\n",
      "Body: Fabulous camouflage, so a great pic 👏\n",
      "Score: 1\n",
      "Created: 1722411159.0\n",
      "----------------------------------------\n",
      "Author: Eclairebeary\n",
      "Body: Hahaha! 😂\n",
      "Score: 1\n",
      "Created: 1722410714.0\n",
      "----------------------------------------\n",
      "Author: SydUrbanHippie\n",
      "Body: I freakin' love tawnies. Grew up with them roosting in our yard in Queensland. They are so unique.\n",
      "Score: 2\n",
      "Created: 1722410661.0\n",
      "----------------------------------------\n",
      "Author: seven_mile_reach\n",
      "Body: legitmately thought this was a medical issue lol\n",
      "Score: 2\n",
      "Created: 1722410562.0\n",
      "----------------------------------------\n",
      "Author: still_love_wombats\n",
      "Body: Oh. That’s a nice red. My Mum has the blue kettle.\n",
      "Score: 2\n",
      "Created: 1722410453.0\n",
      "----------------------------------------\n"
     ]
    }
   ],
   "source": [
    "   for comment in comments[:5]:\n",
    "            print(f\"Author: {comment.author}\")\n",
    "            print(f\"Body: {comment.body}\")\n",
    "            print(f\"Score: {comment.score}\")\n",
    "            print(f\"Created: {comment.created_utc}\")\n",
    "            print(\"-\" * 40)"
   ]
  },
  {
   "cell_type": "markdown",
   "metadata": {
    "id": "5L10cuKfKclp"
   },
   "source": [
    "Content in Reddit is grouped by topics called \"subreddits\". Content, called \"submissions\", is fetched by calling the `subreddit` method of the connection object (which is our `reddit` variable) with an argument that matches an actual topic.\n",
    "\n",
    "We also need to append a further method call to a \"subinstance\", such as one of the following:\n",
    "\n",
    "- controversial\n",
    "- gilded\n",
    "- hot\n",
    "- new\n",
    "- rising\n",
    "- top\n",
    "\n",
    "One of the submission objects members is `title`. Fetch and print 10 submission titles from the 'learnpython' subreddit using one of the subinstances above:"
   ]
  },
  {
   "cell_type": "code",
   "execution_count": 36,
   "metadata": {
    "colab": {
     "base_uri": "https://localhost:8080/"
    },
    "executionInfo": {
     "elapsed": 433,
     "status": "ok",
     "timestamp": 1685521546523,
     "user": {
      "displayName": "Maheshkumar Paik",
      "userId": "02349378107593826691"
     },
     "user_tz": -480
    },
    "id": "2W1iCDE9Kclp",
    "outputId": "1af1e406-d056-4cf6-da9c-e80705981b37"
   },
   "outputs": [
    {
     "name": "stdout",
     "output_type": "stream",
     "text": [
      "Ask Anything Monday - Weekly Thread\n",
      "Issue Webscraping site with 'Load More' button\n",
      "Where to code ?\n",
      "When I send the .exefile of my coding, it doesn't work anymore.\n",
      "I Want to learn Python and develop games, from where should I start.\n",
      "Synthesizer module - struct.error:  'H' format requires 0 <= number <= 65535\n",
      "Multi threading vs concurrency \n",
      "I need help with coding (first time)\n",
      "Does being an engineer/coder mean just looking up all the answers to your problems?\n",
      "pipx stuck on installing\n"
     ]
    }
   ],
   "source": [
    "for submission in reddit.subreddit('learnpython').hot(limit=10):\n",
    "    print(submission.title)"
   ]
  },
  {
   "cell_type": "markdown",
   "metadata": {
    "id": "00coF0YJKclr"
   },
   "source": [
    "Now retrieve 10 authors:"
   ]
  },
  {
   "cell_type": "code",
   "execution_count": 37,
   "metadata": {
    "colab": {
     "base_uri": "https://localhost:8080/"
    },
    "executionInfo": {
     "elapsed": 7086,
     "status": "ok",
     "timestamp": 1685521557229,
     "user": {
      "displayName": "Maheshkumar Paik",
      "userId": "02349378107593826691"
     },
     "user_tz": -480
    },
    "id": "U1vTByCGKclr",
    "outputId": "836a8bf7-dbaa-45f2-ae11-559bee7c2744"
   },
   "outputs": [
    {
     "name": "stdout",
     "output_type": "stream",
     "text": [
      "AutoModerator\n",
      "all-kinds-of-soup\n",
      "TinyBelli\n",
      "Meta12121\n",
      "DailyMinecraftBuilds\n",
      "BreonOnPC\n",
      "arup_r\n",
      "zatilyx-_-\n",
      "AccordingBeyond2985\n",
      "vk8a8\n"
     ]
    }
   ],
   "source": [
    "for submission in reddit.subreddit('learnpython').hot(limit=10):\n",
    "    print(submission.author)"
   ]
  },
  {
   "cell_type": "markdown",
   "metadata": {
    "id": "dOFMMl6AKclt"
   },
   "source": [
    "Note that we obtained the titles and authors from separate API calls. Can we expect these to correspond to the same submissions? If not, how could we gurantee that they do?"
   ]
  },
  {
   "cell_type": "code",
   "execution_count": 38,
   "metadata": {
    "id": "eIPVr-WaKclu"
   },
   "outputs": [],
   "source": [
    "submissions=reddit.subreddit('learnpython')"
   ]
  },
  {
   "cell_type": "markdown",
   "metadata": {
    "id": "IjIJ6ojAKclv"
   },
   "source": [
    "Why doesn't the next cell produce output?"
   ]
  },
  {
   "cell_type": "code",
   "execution_count": 39,
   "metadata": {
    "colab": {
     "base_uri": "https://localhost:8080/",
     "height": 183
    },
    "executionInfo": {
     "elapsed": 6,
     "status": "error",
     "timestamp": 1685521616248,
     "user": {
      "displayName": "Maheshkumar Paik",
      "userId": "02349378107593826691"
     },
     "user_tz": -480
    },
    "id": "ifxjcJ2aKclw",
    "outputId": "7e555d2c-0489-4eaa-888d-66fe598c1bf9"
   },
   "outputs": [
    {
     "ename": "TypeError",
     "evalue": "'Subreddit' object is not iterable",
     "output_type": "error",
     "traceback": [
      "\u001b[0;31m---------------------------------------------------------------------------\u001b[0m",
      "\u001b[0;31mTypeError\u001b[0m                                 Traceback (most recent call last)",
      "Cell \u001b[0;32mIn[39], line 1\u001b[0m\n\u001b[0;32m----> 1\u001b[0m \u001b[38;5;28;01mfor\u001b[39;00m submission \u001b[38;5;129;01min\u001b[39;00m submissions:\n\u001b[1;32m      2\u001b[0m     \u001b[38;5;28mprint\u001b[39m(submission\u001b[38;5;241m.\u001b[39mcomments)\n",
      "\u001b[0;31mTypeError\u001b[0m: 'Subreddit' object is not iterable"
     ]
    }
   ],
   "source": [
    "for submission in submissions:\n",
    "    print(submission.comments)"
   ]
  },
  {
   "cell_type": "code",
   "execution_count": null,
   "metadata": {
    "id": "kPNVNapBKcly"
   },
   "outputs": [],
   "source": []
  },
  {
   "cell_type": "markdown",
   "metadata": {
    "id": "4aZ2OSd_Kclz"
   },
   "source": [
    "Print two comments associated with each of these submissions:"
   ]
  },
  {
   "cell_type": "code",
   "execution_count": 40,
   "metadata": {
    "colab": {
     "base_uri": "https://localhost:8080/"
    },
    "executionInfo": {
     "elapsed": 81419,
     "status": "ok",
     "timestamp": 1685521718870,
     "user": {
      "displayName": "Maheshkumar Paik",
      "userId": "02349378107593826691"
     },
     "user_tz": -480
    },
    "id": "RO4ppDPJKcl0",
    "outputId": "523482f9-0c62-42c2-d039-f0b34962ba26"
   },
   "outputs": [
    {
     "name": "stdout",
     "output_type": "stream",
     "text": [
      "Dear python enthusiasts,\n",
      "\n",
      "I am looking for an IT-\"type\" tool for automating python scripts. I have the following requirements\n",
      "\n",
      "* It should be able to start/stop and restart python scripts\n",
      "* Have levels where one script is started after another\n",
      "* Show which scripts are alive\n",
      "* Separated into frontend and backend, where Backend MUST be written in python doing the above three points\n",
      "* MIT or BSD licensed (also pip installable is great!), so that I can add my own features\n",
      "\n",
      "Frontend should do the following:\n",
      "\n",
      "* See in a dashboard all controlled scripts (by this tool) and whether a script is running or not (I can also make one only if the backend is available)\n",
      "* See also - in what all computers this tool has been installed\n",
      "\n",
      "I could make my own, but that is not the point of this inquiry. I would like to save my work if any great tools already exists, especially the python backend, where people have thought about it even better.\n",
      "\n",
      "Any suggestions welcome, thank you upfront.\n",
      "I have been learning python for a week now. Referred 3 different youtube tutorials. I am at function, done with strings, lists, tuples, dictionary and loops.\n",
      "But the major thing I realized is that I am not able to apply them on my own.\n",
      "And I need a guide or tutorial where evert function is listed as a general formula.\n",
      "For ex: def function \n",
      " Def name_of_function(parameter):\n",
      "    ''' documentation '''\n",
      "   X=i%2==0  (Body/what will function do)\n",
      "   Return x\n",
      "name_of _function(argument)\n",
      "\n",
      "Like this all functions and loops, and how many ways to apply. Where to apply.\n",
      "Can you price a link to the page with the load more. I wanted to inspect it to give better feedback.\n",
      "If you look at the network tab you can see what happens when you click the button and see about trying to emulate that kind of GET/POST or whatever it does.\n",
      "[https://www.wholefoodsmarket.com/products/all-products](https://www.wholefoodsmarket.com/products/all-products)\n",
      "If you're looking for an IDE, I like pyCharm. Online only for very very simple scripts, Replit is good.\n",
      "> I know how to code \n",
      "\n",
      "\n",
      "What have you been using to code?\n",
      ">     sound_dir = r'C:\\Users\\User\\Desktop\\bot\\Sound'\n",
      "\n",
      "Well, I'm pretty sure this is only going to be valid on _your_ PC.\n",
      "I see, thanks for pointing that out!\n",
      "Start by getting your bearings back, such as by making a small program or two (which can be anything, even unrelated to games). If that's not enough, maybe browse through Automate the Boring Stuff with Python until you remember most things.\n",
      "\n",
      "Once you have a decent grasp of Python again, my suggestion would be to [jump into Arcade](https://api.arcade.academy/en/latest/). It's kind of like a modern version of Pygame, but built on top of Pyglet instead of SDL2.\n",
      "\n",
      "If you'd prefer a game engine instead, there's Godot. Its own scripting language, GDScript, is very close to Python.\n",
      "If you want to make games consider not choosing Python for it\n",
      "\n",
      "You can't actually create a true exe file with Python which players will be able to launch without installing your version of python and the modules\n",
      "\n",
      "Even if you ship python game in form of frozen binary with interpreter and all the modules, there are further limitations with this approach. And more important, Python lacks performance and type safety\n",
      "* \"Concurrency\" is the general concept of having several pieces of code executing \"at the same time\", for instance in seperate \"cores\" of the CPU. But if there are more pieces of code than CPU cores any running piece can be interrupted, put on the back burner, and the core assigned to another piece. The whole idea is: you don't control the relative order of execution of the pieces of code between themselves, unless you add specific control structures (lock, semaphores...). If you update a database for instance and the code reads a row, updates some fields and writes it back, you can get in situations like this:\n",
      "\n",
      "Ideally you want:\n",
      "```\n",
      "code 1\n",
      "\n",
      "READ ROW\n",
      "APPLY UPDATE 1\n",
      "WRITE ROW WITH UPDATE 1\n",
      "\n",
      "code 2 \n",
      "\n",
      "READ ROW WITH UPDATE 1\n",
      "APPLY UPDATE 2\n",
      "WRITE ROW WITH UPDATE 1 AND UPDATE 2\n",
      "```\n",
      "If you are not careful you can get:\n",
      "```\n",
      "code1                     code 2\n",
      "\n",
      "READ ROW\n",
      "                          READ ROW\n",
      "APPLY UPDATE 1            APPLY UPATE 2\n",
      "WRITE ROW WITH UPDATE 1\n",
      "                          WRITE ROW WITH UPDATE 2\n",
      "```\n",
      "So you lost `UPDATE 1`. When doing concurrency you want to use \"locks\" to insure that noone else writes the row while the code is doing the read/update/write.\n",
      "\n",
      "* \"multithreading\" is implementing the concurrency via \"threads\" that are units of execution inside a process. The great thing about threads is that threads in the same process access the same memory and I/O so the exchange of data between threads can happen at any time and is very fast. The dangerous thing about threads is that threads in the same process access the same memory and I/O so the exchange of data between threads can happen at any time and is very fast. The problem of Python is that due to a big central lock (the GIL), threads in a Python process can't execute code concurrently, so you can't use all your processor cores with a single process. Threads are still usable in the many cases where they are mostly used to wait for I/O (file access, network access). Some Python libraries can also use multithreading under the hood.\n",
      "* \"parallel processing\" is a vague term. In python this often means using sub-processes  to process large amounts of data so that you can use all CPU cores (or even several CPUs or systems).\n",
      "do you have pyautogui on the raspberry pi? ~~and are you running it on thonny from your computer or on the pi itself?~~\n",
      ">the mouse doesn’t move at all\n",
      "\n",
      "That's  because x and y don't change.\n",
      "No modern professional works using only the knowledge they have in the moment. All doctors, lawyers, engineers, scientists, car mechanics, etc have reference sources, historically in massive bookshelves full of reference volumes, but in modern times it's in google and specialty apps. Hell I even saw my plumber reading the instructions on the water heater website.\n",
      "> Is problem solving looking everything up \n",
      "\n",
      "No.  Searching the 'net is a valuable resource, but code and hints you find often aren't *exactly* what you want, and usually only solves one of your many problems.  You have to know how to modify the on-line answer you found to do exactly what you want, and then incorporate that new code into the larger program.  When you need to do something really off-beat you won't find many hints and that's when you have to get creative.\n"
     ]
    }
   ],
   "source": [
    "submissions = reddit.subreddit('learnpython').hot(limit=10)\n",
    "for submission in submissions:\n",
    "    top_level_comments = list(submission.comments)\n",
    "    all_comments = submission.comments.list()[:2]\n",
    "    for comment in all_comments:\n",
    "        print(comment.body)"
   ]
  },
  {
   "cell_type": "markdown",
   "metadata": {
    "id": "JvYEOesKKcl2"
   },
   "source": [
    "Referring to the API documentation, explore the submissions object and print some interesting data:"
   ]
  },
  {
   "cell_type": "code",
   "execution_count": 51,
   "metadata": {
    "id": "glEShYZbKcl3"
   },
   "outputs": [
    {
     "name": "stdout",
     "output_type": "stream",
     "text": [
      "Title: pipx stuck on installing\n",
      "Author: vk8a8\n",
      "Score: 1\n",
      "Number of Comments: 0\n",
      "Created: 1722410734.0\n",
      "URL: https://www.reddit.com/r/learnpython/comments/1egh360/pipx_stuck_on_installing/\n",
      "Selftext: trying to install scipy with \n",
      "\n",
      "    $ pipx install scipy\n",
      "\n",
      "but it is stuck at \"installing scipy\"\n",
      "\n",
      "pipx v1.6.0...\n",
      "----------------------------------------\n",
      "Title: When I send the .exefile of my coding, it doesn't work anymore.\n",
      "Author: Meta12121\n",
      "Score: 2\n",
      "Number of Comments: 5\n",
      "Created: 1722410126.0\n",
      "URL: https://www.reddit.com/r/learnpython/comments/1eggxyq/when_i_send_the_exefile_of_my_coding_it_doesnt/\n",
      "Selftext: What the program is supposed to do is play an alert msg when it sees certain text, but when I used pyinstaller and send the .exe to others, it doesnt work. I tested the exe for myself and it works for...\n",
      "----------------------------------------\n",
      "Title: Getting a strange error when trying to upgrade pip for the venv (using VS Code integration if it makes a difference)\n",
      "Author: ArrivalCareless9549\n",
      "Score: 1\n",
      "Number of Comments: 0\n",
      "Created: 1722410017.0\n",
      "URL: https://www.reddit.com/r/learnpython/comments/1eggx0c/getting_a_strange_error_when_trying_to_upgrade/\n",
      "Selftext:     [notice] A new release of pip is available: 24.1.2 -> 24.2\n",
      "    [notice] To update, run: c:\\Users\\...\\.venv\\Scripts\\python.exe -m pip install --upgrade pip\n",
      "    PS C:\\Users\\...>  c:\\Users\\...\\.venv\\...\n",
      "----------------------------------------\n",
      "Title: Tkinter changing frames\n",
      "Author: myspy123\n",
      "Score: 1\n",
      "Number of Comments: 0\n",
      "Created: 1722409885.0\n",
      "URL: https://www.reddit.com/r/learnpython/comments/1eggvu1/tkinter_changing_frames/\n",
      "Selftext: Hey guys I am looking into ways to implement a button than can change the frame of my tkinter \n",
      "interface (my interface will only have 2 frames). \n",
      "\n",
      "After reviewing a lot of the documentation I believe ...\n",
      "----------------------------------------\n",
      "Title: Asking a neural network WHY it changed weights\n",
      "Author: DefinitelyNotEmu\n",
      "Score: 1\n",
      "Number of Comments: 1\n",
      "Created: 1722408253.0\n",
      "URL: https://www.reddit.com/r/learnpython/comments/1eggh3a/asking_a_neural_network_why_it_changed_weights/\n",
      "Selftext: Here's some fun and interesting code I wrote to ask my basic neural network **WHY** the weights changed during hebbian learning.\n",
      "\n",
      "This is part of the Dosidicus project[https://github.com/ViciousSquid/...\n",
      "----------------------------------------\n",
      "Title: Multi threading vs concurrency \n",
      "Author: arup_r\n",
      "Score: 2\n",
      "Number of Comments: 1\n",
      "Created: 1722403298.0\n",
      "URL: https://www.reddit.com/r/learnpython/comments/1egf6r7/multi_threading_vs_concurrency/\n",
      "Selftext: Can anyone please explain the difference between multithreading, concurrency and parallel processing? I'm having hard time to explain this when being asked. I want to understand this core concept. Can...\n",
      "----------------------------------------\n",
      "Title: Issue Webscraping site with 'Load More' button\n",
      "Author: all-kinds-of-soup\n",
      "Score: 4\n",
      "Number of Comments: 2\n",
      "Created: 1722403071.0\n",
      "URL: https://www.reddit.com/r/learnpython/comments/1egf4l0/issue_webscraping_site_with_load_more_button/\n",
      "Selftext: Having a little trouble with a project. I made a script to webscrape product information from wholefoods site, but in the all products page there is a Load More button at the bottom and my current scr...\n",
      "----------------------------------------\n",
      "Title: Im sure this has been asked before... but... can I study python offline ?\n",
      "Author: donovannametaken\n",
      "Score: 0\n",
      "Number of Comments: 11\n",
      "Created: 1722402018.0\n",
      "URL: https://www.reddit.com/r/learnpython/comments/1egeu3c/im_sure_this_has_been_asked_before_but_can_i/\n",
      "Selftext: At the moment I dont have an intirnet connection (i do at work so i can download what i need), can i study offline and make some stuff, ill probably get intirnet by the end of the year but by that tim...\n",
      "----------------------------------------\n",
      "Title: help flowcharting code to understand fully\n",
      "Author: jonasonoutlook\n",
      "Score: 1\n",
      "Number of Comments: 3\n",
      "Created: 1722397951.0\n",
      "URL: https://www.reddit.com/r/learnpython/comments/1egdn8l/help_flowcharting_code_to_understand_fully/\n",
      "Selftext: I'm not sure if this is something this subreddit usually helps with but I'm working on an assignment for an intro to python class that is supposed to simulate an atm and this line of code showed up an...\n",
      "----------------------------------------\n",
      "Title: Help me with the code Voice recorder app\n",
      "Author: Josue_py\n",
      "Score: 1\n",
      "Number of Comments: 1\n",
      "Created: 1722393831.0\n",
      "URL: https://www.reddit.com/r/learnpython/comments/1egcbm9/help_me_with_the_code_voice_recorder_app/\n",
      "Selftext: I want to create a mobile voice recorder app,i think its everything good but the traceback show me that:\n",
      "\n",
      "Line 70,in <module>\n",
      "\n",
      "ft.app(target=main)\n",
      "\n",
      "NameError: name 'main' is not defined.Did you mean: ...\n",
      "----------------------------------------\n"
     ]
    }
   ],
   "source": [
    "subreddit_name = 'learnpython'\n",
    "subreddit = reddit.subreddit(subreddit_name)\n",
    "submissions = subreddit.new(limit=10)  # Get the 10 most recent submissions\n",
    "\n",
    "for submission in submissions:\n",
    "            print(f\"Title: {submission.title}\")\n",
    "            print(f\"Author: {submission.author}\")\n",
    "            print(f\"Score: {submission.score}\")\n",
    "            print(f\"Number of Comments: {submission.num_comments}\")\n",
    "            print(f\"Created: {submission.created_utc}\")\n",
    "            print(f\"URL: {submission.url}\")\n",
    "            print(f\"Selftext: {submission.selftext[:200]}...\")  # Print the first 200 characters of the selftext\n",
    "            print(\"-\" * 40)\n"
   ]
  },
  {
   "cell_type": "markdown",
   "metadata": {
    "id": "Khno5kpWKcl5"
   },
   "source": [
    "#### Posting to Reddit"
   ]
  },
  {
   "cell_type": "markdown",
   "metadata": {
    "id": "zjnyN1OfKcl6"
   },
   "source": [
    "To be able to post to your Reddit account (i.e. contribute submissions), you need to connect to the API with read/write privilege. This requires an *authorised instance*, which is obtained by including your Reddit user name and password in the connection request:"
   ]
  },
  {
   "cell_type": "code",
   "execution_count": null,
   "metadata": {
    "colab": {
     "base_uri": "https://localhost:8080/"
    },
    "executionInfo": {
     "elapsed": 12,
     "status": "ok",
     "timestamp": 1685521718870,
     "user": {
      "displayName": "Maheshkumar Paik",
      "userId": "02349378107593826691"
     },
     "user_tz": -480
    },
    "id": "ZXG7kouZKcl7",
    "outputId": "5afb108d-aab6-4bb9-af3e-8329d75b1c72"
   },
   "outputs": [],
   "source": [
    "reddit = praw.Reddit(client_id='my client id',\n",
    "                     client_secret='my client secret',\n",
    "                     user_agent='my user agent',\n",
    "                     username='my username',\n",
    "                     password='my password')\n",
    "print(reddit.read_only)  # Output: False"
   ]
  },
  {
   "cell_type": "markdown",
   "metadata": {
    "id": "nEjrsF9vKcl-"
   },
   "source": [
    "You could hide these last two credentials by adding them to your JSON file and then reading all five values at once."
   ]
  },
  {
   "cell_type": "code",
   "execution_count": null,
   "metadata": {
    "id": "BVcbR0K1Kcl_"
   },
   "outputs": [],
   "source": []
  },
  {
   "cell_type": "markdown",
   "metadata": {
    "id": "WqBG4xS5Kk3X"
   },
   "source": [
    ">\n",
    ">\n"
   ]
  },
  {
   "cell_type": "markdown",
   "metadata": {
    "id": "EfPDz2gEKnRn"
   },
   "source": [
    ">\n",
    ">\n"
   ]
  },
  {
   "cell_type": "markdown",
   "metadata": {
    "id": "5Uo-KnYhKoRA"
   },
   "source": [
    "\n",
    "\n",
    "---\n",
    "\n",
    "\n",
    "\n",
    "---\n",
    "\n",
    "\n",
    "\n",
    "> > > > > > > > > © 2024 Institute of Data\n",
    "\n",
    "\n",
    "---\n",
    "\n",
    "\n",
    "\n",
    "---\n",
    "\n",
    "\n",
    "\n"
   ]
  }
 ],
 "metadata": {
  "colab": {
   "provenance": []
  },
  "kernelspec": {
   "display_name": "Python 3 (ipykernel)",
   "language": "python",
   "name": "python3"
  },
  "language_info": {
   "codemirror_mode": {
    "name": "ipython",
    "version": 3
   },
   "file_extension": ".py",
   "mimetype": "text/x-python",
   "name": "python",
   "nbconvert_exporter": "python",
   "pygments_lexer": "ipython3",
   "version": "3.11.3"
  }
 },
 "nbformat": 4,
 "nbformat_minor": 1
}
