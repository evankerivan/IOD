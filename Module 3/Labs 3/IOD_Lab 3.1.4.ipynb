{
 "cells": [
  {
   "cell_type": "markdown",
   "metadata": {
    "id": "s8RoBuCkB_bW"
   },
   "source": [
    "<div>\n",
    "<img src=https://www.institutedata.com/wp-content/uploads/2019/10/iod_h_tp_primary_c.svg width=\"300\">\n",
    "</div>"
   ]
  },
  {
   "cell_type": "markdown",
   "metadata": {
    "id": "cW5QEs4PB_bY"
   },
   "source": [
    "# Lab 3.1.4\n",
    "# *Python with MongoDB*"
   ]
  },
  {
   "cell_type": "markdown",
   "metadata": {
    "id": "VjUpP-kFB_bb"
   },
   "source": [
    "## Introduction to PyMongo"
   ]
  },
  {
   "cell_type": "markdown",
   "metadata": {
    "id": "wj_xDQwGKbpL"
   },
   "source": [
    "For this lab you will firstly need to install two programs (both for Windows and Mac users). If using Windows download then run the `msi` package in both cases.\n",
    "\n",
    "1) MongoDB Community Server from https://www.mongodb.com/try/download/community\n",
    "\n",
    "2) MongoDB Command Line Database Tools from https://www.mongodb.com/try/download/database-tools"
   ]
  },
  {
   "cell_type": "markdown",
   "metadata": {
    "id": "BTMUSSJ76fK-"
   },
   "source": [
    "**Installation instructions for Windows users:**\n",
    "\n",
    "[Install MongoDB Community Edition on Windows](https://www.mongodb.com/docs/manual/tutorial/install-mongodb-on-windows/)"
   ]
  },
  {
   "cell_type": "markdown",
   "metadata": {
    "id": "4-MG3HS74Naj"
   },
   "source": [
    "**The following resources may assist Mac users:**\n",
    "\n",
    "[Install MongoDB Community Edition on macOS](https://www.mongodb.com/docs/manual/tutorial/install-mongodb-on-os-x/)\n",
    "\n",
    "[How to Install Latest MongoDB on macOS](https://www.youtube.com/watch?v=NLw7Tln6IeM)\n",
    "\n",
    "[How to install HomeBrew (often this helps, if you are having issues with your setup)](https://www.youtube.com/watch?v=IWJKRmFLn-g)"
   ]
  },
  {
   "cell_type": "code",
   "execution_count": 1,
   "metadata": {
    "id": "ude3llGg4Naj"
   },
   "outputs": [
    {
     "name": "stdout",
     "output_type": "stream",
     "text": [
      "Requirement already satisfied: pymongo in /Applications/anaconda3/lib/python3.11/site-packages (4.8.0)\n",
      "Requirement already satisfied: dnspython<3.0.0,>=1.16.0 in /Applications/anaconda3/lib/python3.11/site-packages (from pymongo) (2.6.1)\n",
      "\n",
      "\u001b[1m[\u001b[0m\u001b[34;49mnotice\u001b[0m\u001b[1;39;49m]\u001b[0m\u001b[39;49m A new release of pip is available: \u001b[0m\u001b[31;49m24.1.2\u001b[0m\u001b[39;49m -> \u001b[0m\u001b[32;49m24.2\u001b[0m\n",
      "\u001b[1m[\u001b[0m\u001b[34;49mnotice\u001b[0m\u001b[1;39;49m]\u001b[0m\u001b[39;49m To update, run: \u001b[0m\u001b[32;49mpip install --upgrade pip\u001b[0m\n"
     ]
    }
   ],
   "source": [
    "!pip install pymongo"
   ]
  },
  {
   "cell_type": "code",
   "execution_count": 16,
   "metadata": {
    "colab": {
     "base_uri": "https://localhost:8080/",
     "height": 383
    },
    "executionInfo": {
     "elapsed": 11,
     "status": "error",
     "timestamp": 1710482077396,
     "user": {
      "displayName": "Isabella Uslu",
      "userId": "15471511092561094644"
     },
     "user_tz": -660
    },
    "id": "56Yk9yQtB_bd",
    "outputId": "e8fe2eb1-981e-410b-fd58-93eddc833c78"
   },
   "outputs": [
    {
     "name": "stdout",
     "output_type": "stream",
     "text": [
      "Mongo version 4.8.0\n"
     ]
    }
   ],
   "source": [
    "from IPython.display import display, HTML\n",
    "import pymongo\n",
    "import pandas as pd\n",
    "from pymongo import MongoClient\n",
    "print ('Mongo version ' + pymongo.__version__)"
   ]
  },
  {
   "cell_type": "markdown",
   "metadata": {
    "id": "h5nSnXML4Pst"
   },
   "source": [
    "**Start the mongod server (if it isn't already running):**\n",
    "\n",
    "Windows:\n",
    "1. Using Command Prompt navigate to the folder containing `mongod.exe` (e.g. by typing cd \"C:\\Program Files\\MongoDB\\Server\\7.0\\bin\").\n",
    "2.  Execute `mongod` at the prompt.\n",
    "\n",
    "Mac:\n",
    "1. Run `brew services start mongodb-community@7.0`"
   ]
  },
  {
   "cell_type": "code",
   "execution_count": 17,
   "metadata": {
    "id": "NiYV2_VIB_bm"
   },
   "outputs": [],
   "source": [
    "# Creating a client object in our local machine\n",
    "client = MongoClient('localhost', 27017)"
   ]
  },
  {
   "cell_type": "code",
   "execution_count": 18,
   "metadata": {
    "id": "xkfJBF5i4Nal"
   },
   "outputs": [
    {
     "name": "stdout",
     "output_type": "stream",
     "text": [
      "['admin', 'config', 'local', 'test']\n"
     ]
    }
   ],
   "source": [
    "print(client.list_database_names())"
   ]
  },
  {
   "cell_type": "markdown",
   "metadata": {
    "id": "bAbG5bfy4Nam"
   },
   "source": [
    "In MongoDB, a **database** stores and manages collections of related data, similar to how you might organise files into folders on your computer."
   ]
  },
  {
   "cell_type": "markdown",
   "metadata": {
    "id": "vG8SqZDo4Nam"
   },
   "source": [
    "Create a new database:"
   ]
  },
  {
   "cell_type": "code",
   "execution_count": 19,
   "metadata": {
    "id": "UGsudTe24Nan"
   },
   "outputs": [],
   "source": [
    "db = client.test"
   ]
  },
  {
   "cell_type": "markdown",
   "metadata": {
    "id": "mLZ7RvZn4Nan"
   },
   "source": [
    "A **collection** in MongoDB is similar to a table in a relational database.\n",
    "Collections store documents (records) in a structured format (usually in BSON, which is a binary representation of JSON).\n",
    "The people collection likely contains documents related to people, such as user profiles, contact information, or other relevant data.\n",
    "Each document within the people collection represents an individual person or entity."
   ]
  },
  {
   "cell_type": "code",
   "execution_count": 20,
   "metadata": {
    "id": "6fu1nY6w4Nan"
   },
   "outputs": [
    {
     "name": "stdout",
     "output_type": "stream",
     "text": [
      "['admin', 'config', 'local', 'test']\n"
     ]
    }
   ],
   "source": [
    "print(client.list_database_names())"
   ]
  },
  {
   "cell_type": "markdown",
   "metadata": {
    "id": "g6jvYhsz4Nao"
   },
   "source": [
    "It is important to note that MongoDB is lazy: the db won't get created until data has been written to it!"
   ]
  },
  {
   "cell_type": "markdown",
   "metadata": {
    "id": "HvVFPpgRB_cA"
   },
   "source": [
    "Create a collection called \"shoppers\" (with object name `mycol`):"
   ]
  },
  {
   "cell_type": "code",
   "execution_count": 21,
   "metadata": {
    "id": "txROG8XV4Nap"
   },
   "outputs": [],
   "source": [
    "#ANSWER\n",
    "mycol= db.shoppers"
   ]
  },
  {
   "cell_type": "code",
   "execution_count": 22,
   "metadata": {},
   "outputs": [
    {
     "data": {
      "text/plain": [
       "Collection(Database(MongoClient(host=['localhost:27017'], document_class=dict, tz_aware=False, connect=True), 'test'), 'shoppers')"
      ]
     },
     "execution_count": 22,
     "metadata": {},
     "output_type": "execute_result"
    }
   ],
   "source": [
    "mycol"
   ]
  },
  {
   "cell_type": "markdown",
   "metadata": {
    "id": "TRIbsM6VB_cE"
   },
   "source": [
    "Create a document (i.e. a dictionary) with two name:value items\n",
    "(\"name\" = \"Paul\", and \"address\" = \"Mansfield Ave\") and insert\n",
    "it into the \"shoppers\" collection:"
   ]
  },
  {
   "cell_type": "code",
   "execution_count": 38,
   "metadata": {
    "id": "KI1lYOBvB_cF"
   },
   "outputs": [
    {
     "data": {
      "text/plain": [
       "InsertOneResult(ObjectId('66a8b7eca401425ff87babfc'), acknowledged=True)"
      ]
     },
     "execution_count": 38,
     "metadata": {},
     "output_type": "execute_result"
    }
   ],
   "source": [
    "#ANSWER:\n",
    "mydict = {\"name\": \"Paul\", \"address\": \"Mansfield AVE\"}\n",
    "mycol.insert_one(mydict)"
   ]
  },
  {
   "cell_type": "markdown",
   "metadata": {
    "id": "_EEiTjd_B_cH"
   },
   "source": [
    "Now test for the existence of the database:"
   ]
  },
  {
   "cell_type": "code",
   "execution_count": 39,
   "metadata": {
    "id": "JsPz--uIB_cI"
   },
   "outputs": [
    {
     "name": "stdout",
     "output_type": "stream",
     "text": [
      "['admin', 'config', 'local', 'test']\n"
     ]
    }
   ],
   "source": [
    "#ANSWER:\n",
    "db_list = client.list_database_names()\n",
    "print(db_list)"
   ]
  },
  {
   "cell_type": "markdown",
   "metadata": {
    "id": "WvgAowAdB_cK"
   },
   "source": [
    "List all collections in the database:"
   ]
  },
  {
   "cell_type": "code",
   "execution_count": 40,
   "metadata": {
    "id": "JMl-YlPNB_cK"
   },
   "outputs": [
    {
     "name": "stdout",
     "output_type": "stream",
     "text": [
      "['shoppers']\n"
     ]
    }
   ],
   "source": [
    "#ANSWER\n",
    "collections = db.list_collection_names()\n",
    "print(collections)"
   ]
  },
  {
   "cell_type": "code",
   "execution_count": 42,
   "metadata": {
    "id": "ZBpH0Q9dB_cM"
   },
   "outputs": [],
   "source": [
    "# Insert another record in the \"shoppers\" collection\n",
    "#(\"name\" = \"Rafa\", \"address\" = \"Holder Drive\")\n",
    "#and return the value of the _id field:"
   ]
  },
  {
   "cell_type": "code",
   "execution_count": 43,
   "metadata": {
    "id": "LzSwoIlIB_cN"
   },
   "outputs": [
    {
     "name": "stdout",
     "output_type": "stream",
     "text": [
      "66a8b803a401425ff87babfd\n"
     ]
    }
   ],
   "source": [
    "mydict = {\"name\": \"Rafa\", \"address\": \"Holder Drive\"}\n",
    "insert_result = mycol.insert_one(mydict)\n",
    "inserted_id = insert_result.inserted_id\n",
    "print(inserted_id)"
   ]
  },
  {
   "cell_type": "markdown",
   "metadata": {
    "id": "g81P900vB_cP"
   },
   "source": [
    "Given the list of dicts below, insert multiple documents into\n",
    "the collection using the insert_many() method:"
   ]
  },
  {
   "cell_type": "code",
   "execution_count": 44,
   "metadata": {
    "id": "E7fwTxbcB_cP"
   },
   "outputs": [],
   "source": [
    "mylist = [\n",
    "  { \"name\": \"Ashton\", \"address\": \"Axle St\"},\n",
    "  { \"name\": \"Benjamin\", \"address\": \"Green Dr\"},\n",
    "  { \"name\": \"Sally\", \"address\": \"Holly Blvd\"},\n",
    "  { \"name\": \"Helen\", \"address\": \"Castor Prom\"},\n",
    "  { \"name\": \"Craig\", \"address\": \"Parsons Way\"},\n",
    "  { \"name\": \"Betty\", \"address\": \"Watters St\"},\n",
    "  { \"name\": \"Aparna\", \"address\": \"Yonder Dr\"},\n",
    "  { \"name\": \"Kent\", \"address\": \"Garrison St\"},\n",
    "  { \"name\": \"Violet\", \"address\": \"Station St\"},\n",
    "  { \"name\": \"Svetlana\", \"address\": \"Wayman Ave\"}\n",
    "]"
   ]
  },
  {
   "cell_type": "code",
   "execution_count": 45,
   "metadata": {
    "id": "g6xDpO86B_cR"
   },
   "outputs": [],
   "source": [
    "insert_result = mycol.insert_many(mylist)\n"
   ]
  },
  {
   "cell_type": "markdown",
   "metadata": {
    "id": "ZmuKgJ5SB_cU"
   },
   "source": [
    "#Print a list of the _id values of the inserted documents:\n",
    "print(inserted_id)"
   ]
  },
  {
   "cell_type": "code",
   "execution_count": 49,
   "metadata": {
    "id": "zLS5mhlIB_cV",
    "outputId": "99da9bdf-3130-4ac4-b3d7-c44b6f622d5a"
   },
   "outputs": [
    {
     "name": "stdout",
     "output_type": "stream",
     "text": [
      "{'_id': 1, 'name': 'Paul', 'address': 'Mansfield Ave'}\n",
      "{'_id': 2, 'name': 'Rafa', 'address': 'Holder Drive'}\n",
      "{'_id': 3, 'name': 'Ashton', 'address': 'Axle St'}\n",
      "{'_id': 4, 'name': 'Benjamin', 'address': 'Green Dr'}\n",
      "{'_id': 5, 'name': 'Sally', 'address': 'Holly Blvd'}\n",
      "{'_id': 6, 'name': 'Helen', 'address': 'Castor Prom'}\n",
      "{'_id': 7, 'name': 'Craig', 'address': 'Parsons Way'}\n",
      "{'_id': 8, 'name': 'Betty', 'address': 'Watters St'}\n",
      "{'_id': 9, 'name': 'Aparna', 'address': 'Yonder Dr'}\n",
      "{'_id': 10, 'name': 'Kent', 'address': 'Garrison St'}\n",
      "{'_id': 11, 'name': 'Violet', 'address': 'Station St'}\n",
      "{'_id': 12, 'name': 'Svetlana', 'address': 'Wayman Ave'}\n",
      "{'_id': ObjectId('66a870a1a401425ff87babf9'), 'name': 'Paul', 'address': 'Mansfield AVE'}\n",
      "{'_id': ObjectId('66a87125a401425ff87babfa'), 'name': 'Rafa', 'address': 'Holder Drive'}\n",
      "{'_id': ObjectId('66a8b560a401425ff87babfb'), 'name': 'Rafa', 'address': 'Holder Drive'}\n",
      "{'_id': ObjectId('66a8b7eca401425ff87babfc'), 'name': 'Paul', 'address': 'Mansfield AVE'}\n",
      "{'_id': ObjectId('66a8b803a401425ff87babfd'), 'name': 'Rafa', 'address': 'Holder Drive'}\n",
      "{'_id': ObjectId('66a8b807a401425ff87babfe'), 'name': 'Ashton', 'address': 'Axle St'}\n",
      "{'_id': ObjectId('66a8b807a401425ff87babff'), 'name': 'Benjamin', 'address': 'Green Dr'}\n",
      "{'_id': ObjectId('66a8b807a401425ff87bac00'), 'name': 'Sally', 'address': 'Holly Blvd'}\n",
      "{'_id': ObjectId('66a8b807a401425ff87bac01'), 'name': 'Helen', 'address': 'Castor Prom'}\n",
      "{'_id': ObjectId('66a8b807a401425ff87bac02'), 'name': 'Craig', 'address': 'Parsons Way'}\n",
      "{'_id': ObjectId('66a8b807a401425ff87bac03'), 'name': 'Betty', 'address': 'Watters St'}\n",
      "{'_id': ObjectId('66a8b807a401425ff87bac04'), 'name': 'Aparna', 'address': 'Yonder Dr'}\n",
      "{'_id': ObjectId('66a8b807a401425ff87bac05'), 'name': 'Kent', 'address': 'Garrison St'}\n",
      "{'_id': ObjectId('66a8b807a401425ff87bac06'), 'name': 'Violet', 'address': 'Station St'}\n",
      "{'_id': ObjectId('66a8b807a401425ff87bac07'), 'name': 'Svetlana', 'address': 'Wayman Ave'}\n"
     ]
    }
   ],
   "source": [
    "for x in mycol.find():\n",
    "    print(x)"
   ]
  },
  {
   "cell_type": "markdown",
   "metadata": {
    "id": "kC0U_tYqB_cX"
   },
   "source": [
    "Execute the next cell to insert a list of dicts with specified `_id`s:"
   ]
  },
  {
   "cell_type": "code",
   "execution_count": 52,
   "metadata": {
    "id": "RnAv0sMdB_cX",
    "outputId": "4f0760ea-05b1-4a4a-d879-784ac104ce6c"
   },
   "outputs": [
    {
     "name": "stdout",
     "output_type": "stream",
     "text": [
      "[13, 14, 15, 16]\n"
     ]
    }
   ],
   "source": [
    "mylist = [\n",
    "  { \"_id\": 13, \"name\": \"Paul\", \"address\": \"Mansfield Ave\"},\n",
    "  { \"_id\": 14, \"name\": \"Rafa\", \"address\": \"Holder Drive\"},\n",
    "  { \"_id\": 15, \"name\": \"Ashton\", \"address\": \"Axle St\"},\n",
    "  { \"_id\": 16, \"name\": \"Benjamin\", \"address\": \"Green Dr\"},\n",
    "  #{ \"_id\": 5, \"name\": \"Sally\", \"address\": \"Holly Blvd\"},\n",
    "  #{ \"_id\": 6, \"name\": \"Helen\", \"address\": \"Castor Prom\"},\n",
    "  #{ \"_id\": 7, \"name\": \"Craig\", \"address\": \"Parsons Way\"},\n",
    "  #{ \"_id\": 8, \"name\": \"Betty\", \"address\": \"Watters St\"},\n",
    "  #{ \"_id\": 9, \"name\": \"Aparna\", \"address\": \"Yonder Dr\"},\n",
    "  #{ \"_id\": 10, \"name\": \"Kent\", \"address\": \"Garrison St\"},\n",
    "  #{ \"_id\": 11, \"name\": \"Violet\", \"address\": \"Station St\"},\n",
    "  #{ \"_id\": 12, \"name\": \"Svetlana\", \"address\": \"Wayman Ave\"}\n",
    "]\n",
    "x = mycol.insert_many(mylist)\n",
    "print(x.inserted_ids)"
   ]
  },
  {
   "cell_type": "markdown",
   "metadata": {
    "id": "vVPR7vhNB_cZ"
   },
   "source": [
    "Now try inserting a new dict with an existing `_id`:"
   ]
  },
  {
   "cell_type": "code",
   "execution_count": 54,
   "metadata": {
    "id": "Gklp0IIIB_ca"
   },
   "outputs": [],
   "source": [
    "# Warning -- This code will return an error as id no: 12 is already exists\n",
    "x = mycol.insert_one({ \"_id\": 24, \"name\": \"Lola\", \"address\": \"Prospect Dr\"})"
   ]
  },
  {
   "cell_type": "markdown",
   "metadata": {
    "id": "3CKpbRGDB_cb"
   },
   "source": [
    "So, if we want to manage `_id`s in code, we need to be careful!"
   ]
  },
  {
   "cell_type": "markdown",
   "metadata": {
    "id": "eAyExvFAB_cc"
   },
   "source": [
    "This returns the first document in the collection:"
   ]
  },
  {
   "cell_type": "markdown",
   "metadata": {
    "id": "DFCVFHu7B_ch"
   },
   "source": [
    "This returns (and prints) all documents in the collection:"
   ]
  },
  {
   "cell_type": "code",
   "execution_count": 56,
   "metadata": {
    "id": "UXVB_CSMB_ch"
   },
   "outputs": [
    {
     "name": "stdout",
     "output_type": "stream",
     "text": [
      "{'_id': 1, 'name': 'Paul', 'address': 'Mansfield Ave'}\n",
      "{'_id': 2, 'name': 'Rafa', 'address': 'Holder Drive'}\n",
      "{'_id': 3, 'name': 'Ashton', 'address': 'Axle St'}\n",
      "{'_id': 4, 'name': 'Benjamin', 'address': 'Green Dr'}\n",
      "{'_id': 5, 'name': 'Sally', 'address': 'Holly Blvd'}\n",
      "{'_id': 6, 'name': 'Helen', 'address': 'Castor Prom'}\n",
      "{'_id': 7, 'name': 'Craig', 'address': 'Parsons Way'}\n",
      "{'_id': 8, 'name': 'Betty', 'address': 'Watters St'}\n",
      "{'_id': 9, 'name': 'Aparna', 'address': 'Yonder Dr'}\n",
      "{'_id': 10, 'name': 'Kent', 'address': 'Garrison St'}\n",
      "{'_id': 11, 'name': 'Violet', 'address': 'Station St'}\n",
      "{'_id': 12, 'name': 'Svetlana', 'address': 'Wayman Ave'}\n",
      "{'_id': ObjectId('66a870a1a401425ff87babf9'), 'name': 'Paul', 'address': 'Mansfield AVE'}\n",
      "{'_id': ObjectId('66a87125a401425ff87babfa'), 'name': 'Rafa', 'address': 'Holder Drive'}\n",
      "{'_id': ObjectId('66a8b560a401425ff87babfb'), 'name': 'Rafa', 'address': 'Holder Drive'}\n",
      "{'_id': ObjectId('66a8b7eca401425ff87babfc'), 'name': 'Paul', 'address': 'Mansfield AVE'}\n",
      "{'_id': ObjectId('66a8b803a401425ff87babfd'), 'name': 'Rafa', 'address': 'Holder Drive'}\n",
      "{'_id': ObjectId('66a8b807a401425ff87babfe'), 'name': 'Ashton', 'address': 'Axle St'}\n",
      "{'_id': ObjectId('66a8b807a401425ff87babff'), 'name': 'Benjamin', 'address': 'Green Dr'}\n",
      "{'_id': ObjectId('66a8b807a401425ff87bac00'), 'name': 'Sally', 'address': 'Holly Blvd'}\n",
      "{'_id': ObjectId('66a8b807a401425ff87bac01'), 'name': 'Helen', 'address': 'Castor Prom'}\n",
      "{'_id': ObjectId('66a8b807a401425ff87bac02'), 'name': 'Craig', 'address': 'Parsons Way'}\n",
      "{'_id': ObjectId('66a8b807a401425ff87bac03'), 'name': 'Betty', 'address': 'Watters St'}\n",
      "{'_id': ObjectId('66a8b807a401425ff87bac04'), 'name': 'Aparna', 'address': 'Yonder Dr'}\n",
      "{'_id': ObjectId('66a8b807a401425ff87bac05'), 'name': 'Kent', 'address': 'Garrison St'}\n",
      "{'_id': ObjectId('66a8b807a401425ff87bac06'), 'name': 'Violet', 'address': 'Station St'}\n",
      "{'_id': ObjectId('66a8b807a401425ff87bac07'), 'name': 'Svetlana', 'address': 'Wayman Ave'}\n",
      "{'_id': 13, 'name': 'Paul', 'address': 'Mansfield Ave'}\n",
      "{'_id': 14, 'name': 'Rafa', 'address': 'Holder Drive'}\n",
      "{'_id': 15, 'name': 'Ashton', 'address': 'Axle St'}\n",
      "{'_id': 16, 'name': 'Benjamin', 'address': 'Green Dr'}\n",
      "{'_id': 24, 'name': 'Lola', 'address': 'Prospect Dr'}\n"
     ]
    }
   ],
   "source": [
    "for x in mycol.find():\n",
    "    print(x)"
   ]
  },
  {
   "cell_type": "markdown",
   "metadata": {
    "id": "6dQsHIF6B_cj"
   },
   "source": [
    "This returns only the name and address fields:"
   ]
  },
  {
   "cell_type": "code",
   "execution_count": 57,
   "metadata": {
    "id": "OKY_Buz0B_ck"
   },
   "outputs": [
    {
     "name": "stdout",
     "output_type": "stream",
     "text": [
      "{'name': 'Paul', 'address': 'Mansfield Ave'}\n",
      "{'name': 'Rafa', 'address': 'Holder Drive'}\n",
      "{'name': 'Ashton', 'address': 'Axle St'}\n",
      "{'name': 'Benjamin', 'address': 'Green Dr'}\n",
      "{'name': 'Sally', 'address': 'Holly Blvd'}\n",
      "{'name': 'Helen', 'address': 'Castor Prom'}\n",
      "{'name': 'Craig', 'address': 'Parsons Way'}\n",
      "{'name': 'Betty', 'address': 'Watters St'}\n",
      "{'name': 'Aparna', 'address': 'Yonder Dr'}\n",
      "{'name': 'Kent', 'address': 'Garrison St'}\n",
      "{'name': 'Violet', 'address': 'Station St'}\n",
      "{'name': 'Svetlana', 'address': 'Wayman Ave'}\n",
      "{'name': 'Paul', 'address': 'Mansfield AVE'}\n",
      "{'name': 'Rafa', 'address': 'Holder Drive'}\n",
      "{'name': 'Rafa', 'address': 'Holder Drive'}\n",
      "{'name': 'Paul', 'address': 'Mansfield AVE'}\n",
      "{'name': 'Rafa', 'address': 'Holder Drive'}\n",
      "{'name': 'Ashton', 'address': 'Axle St'}\n",
      "{'name': 'Benjamin', 'address': 'Green Dr'}\n",
      "{'name': 'Sally', 'address': 'Holly Blvd'}\n",
      "{'name': 'Helen', 'address': 'Castor Prom'}\n",
      "{'name': 'Craig', 'address': 'Parsons Way'}\n",
      "{'name': 'Betty', 'address': 'Watters St'}\n",
      "{'name': 'Aparna', 'address': 'Yonder Dr'}\n",
      "{'name': 'Kent', 'address': 'Garrison St'}\n",
      "{'name': 'Violet', 'address': 'Station St'}\n",
      "{'name': 'Svetlana', 'address': 'Wayman Ave'}\n",
      "{'name': 'Paul', 'address': 'Mansfield Ave'}\n",
      "{'name': 'Rafa', 'address': 'Holder Drive'}\n",
      "{'name': 'Ashton', 'address': 'Axle St'}\n",
      "{'name': 'Benjamin', 'address': 'Green Dr'}\n",
      "{'name': 'Lola', 'address': 'Prospect Dr'}\n"
     ]
    }
   ],
   "source": [
    "for x in mycol.find({},{ \"_id\": 0, \"name\": 1, \"address\": 1 }):\n",
    "    print(x)"
   ]
  },
  {
   "cell_type": "markdown",
   "metadata": {
    "id": "9jAQ7LAdB_cm"
   },
   "source": [
    "Print only the `_id` and name fields:"
   ]
  },
  {
   "cell_type": "code",
   "execution_count": 58,
   "metadata": {
    "id": "FP14yQUQB_cn"
   },
   "outputs": [
    {
     "name": "stdout",
     "output_type": "stream",
     "text": [
      "{'name': 'Paul'}\n",
      "{'name': 'Rafa'}\n",
      "{'name': 'Ashton'}\n",
      "{'name': 'Benjamin'}\n",
      "{'name': 'Sally'}\n",
      "{'name': 'Helen'}\n",
      "{'name': 'Craig'}\n",
      "{'name': 'Betty'}\n",
      "{'name': 'Aparna'}\n",
      "{'name': 'Kent'}\n",
      "{'name': 'Violet'}\n",
      "{'name': 'Svetlana'}\n",
      "{'name': 'Paul'}\n",
      "{'name': 'Rafa'}\n",
      "{'name': 'Rafa'}\n",
      "{'name': 'Paul'}\n",
      "{'name': 'Rafa'}\n",
      "{'name': 'Ashton'}\n",
      "{'name': 'Benjamin'}\n",
      "{'name': 'Sally'}\n",
      "{'name': 'Helen'}\n",
      "{'name': 'Craig'}\n",
      "{'name': 'Betty'}\n",
      "{'name': 'Aparna'}\n",
      "{'name': 'Kent'}\n",
      "{'name': 'Violet'}\n",
      "{'name': 'Svetlana'}\n",
      "{'name': 'Paul'}\n",
      "{'name': 'Rafa'}\n",
      "{'name': 'Ashton'}\n",
      "{'name': 'Benjamin'}\n",
      "{'name': 'Lola'}\n"
     ]
    }
   ],
   "source": [
    "#ANSWER\n",
    "for x in mycol.find({},{ \"_id\": 0, \"name\": 1}):\n",
    "    print(x)"
   ]
  },
  {
   "cell_type": "markdown",
   "metadata": {
    "id": "esHLntbmB_cp"
   },
   "source": [
    "So, we must explicitly use `\"_id\": 0` to exclude it, but for other fields we simply omit them from the dict argument."
   ]
  },
  {
   "cell_type": "markdown",
   "metadata": {
    "id": "hSOdFGEpB_cq"
   },
   "source": [
    "To include field conditionals in a query, we use `$` operators. This finds addresses starting with \"S\" or greater:"
   ]
  },
  {
   "cell_type": "code",
   "execution_count": 59,
   "metadata": {
    "id": "KaHOWDwkB_cq",
    "outputId": "ad0a4e7b-72ba-4d56-9279-1fc242e30cf1"
   },
   "outputs": [
    {
     "name": "stdout",
     "output_type": "stream",
     "text": [
      "{'_id': 8, 'name': 'Betty', 'address': 'Watters St'}\n",
      "{'_id': 9, 'name': 'Aparna', 'address': 'Yonder Dr'}\n",
      "{'_id': 11, 'name': 'Violet', 'address': 'Station St'}\n",
      "{'_id': 12, 'name': 'Svetlana', 'address': 'Wayman Ave'}\n",
      "{'_id': ObjectId('66a8b807a401425ff87bac03'), 'name': 'Betty', 'address': 'Watters St'}\n",
      "{'_id': ObjectId('66a8b807a401425ff87bac04'), 'name': 'Aparna', 'address': 'Yonder Dr'}\n",
      "{'_id': ObjectId('66a8b807a401425ff87bac06'), 'name': 'Violet', 'address': 'Station St'}\n",
      "{'_id': ObjectId('66a8b807a401425ff87bac07'), 'name': 'Svetlana', 'address': 'Wayman Ave'}\n"
     ]
    }
   ],
   "source": [
    "myquery = { \"address\": { \"$gt\": \"S\" } }\n",
    "mydoc = mycol.find(myquery)\n",
    "for x in mydoc:\n",
    "    print(x)"
   ]
  },
  {
   "cell_type": "markdown",
   "metadata": {
    "id": "i3fUXWpiB_cs"
   },
   "source": [
    "Here are some more comparison operators:\n",
    "\n",
    "            $gt, $gte, $eq, $in, $nin, $exists, $and, $or, $not\n",
    "            \n",
    "Experiment with these until you understand how to use them."
   ]
  },
  {
   "cell_type": "code",
   "execution_count": null,
   "metadata": {
    "id": "ensDpd9VB_ct"
   },
   "outputs": [],
   "source": []
  },
  {
   "cell_type": "markdown",
   "metadata": {
    "id": "IxvWRoS3B_cu"
   },
   "source": [
    "Now find all docs with an address that begins with \"W\":  \n",
    "(HINT: The value for \"address\" in the argument should be the regex-based dict { \"$regex\": \"^W\" }.)"
   ]
  },
  {
   "cell_type": "code",
   "execution_count": 60,
   "metadata": {
    "id": "i5zMYTsdB_cu"
   },
   "outputs": [
    {
     "name": "stdout",
     "output_type": "stream",
     "text": [
      "{'_id': 8, 'name': 'Betty', 'address': 'Watters St'}\n",
      "{'_id': 12, 'name': 'Svetlana', 'address': 'Wayman Ave'}\n",
      "{'_id': ObjectId('66a8b807a401425ff87bac03'), 'name': 'Betty', 'address': 'Watters St'}\n",
      "{'_id': ObjectId('66a8b807a401425ff87bac07'), 'name': 'Svetlana', 'address': 'Wayman Ave'}\n"
     ]
    }
   ],
   "source": [
    "#ANSWER:\n",
    "myquery = { \"address\": { \"$regex\": \"^W\"} }\n",
    "mydoc = mycol.find(myquery)\n",
    "for x in mydoc:\n",
    "    print(x)"
   ]
  },
  {
   "cell_type": "markdown",
   "metadata": {
    "id": "B1W9jlEnB_cw"
   },
   "source": [
    "Sorting can be applied by invoking the sort() method after the find() method. Sort the collection by the name field:"
   ]
  },
  {
   "cell_type": "code",
   "execution_count": 72,
   "metadata": {
    "id": "fzxxFYrtB_cw"
   },
   "outputs": [
    {
     "name": "stdout",
     "output_type": "stream",
     "text": [
      "{'_id': 9, 'name': 'Aparna', 'address': 'Yonder Dr'}\n",
      "{'_id': ObjectId('66a8b807a401425ff87bac04'), 'name': 'Aparna', 'address': 'Yonder Dr'}\n",
      "{'_id': 3, 'name': 'Ashton', 'address': 'Axle St'}\n",
      "{'_id': ObjectId('66a8b807a401425ff87babfe'), 'name': 'Ashton', 'address': 'Axle St'}\n",
      "{'_id': 15, 'name': 'Ashton', 'address': 'Axle St'}\n",
      "{'_id': 4, 'name': 'Benjamin', 'address': 'Green Dr'}\n",
      "{'_id': ObjectId('66a8b807a401425ff87babff'), 'name': 'Benjamin', 'address': 'Green Dr'}\n",
      "{'_id': 16, 'name': 'Benjamin', 'address': 'Green Dr'}\n",
      "{'_id': 8, 'name': 'Betty', 'address': 'Watters St'}\n",
      "{'_id': ObjectId('66a8b807a401425ff87bac03'), 'name': 'Betty', 'address': 'Watters St'}\n",
      "{'_id': 7, 'name': 'Craig', 'address': 'Parsons Way'}\n",
      "{'_id': ObjectId('66a8b807a401425ff87bac02'), 'name': 'Craig', 'address': 'Parsons Way'}\n",
      "{'_id': 6, 'name': 'Helen', 'address': 'Castor Prom'}\n",
      "{'_id': ObjectId('66a8b807a401425ff87bac01'), 'name': 'Helen', 'address': 'Castor Prom'}\n",
      "{'_id': 10, 'name': 'Kent', 'address': 'Garrison St'}\n",
      "{'_id': ObjectId('66a8b807a401425ff87bac05'), 'name': 'Kent', 'address': 'Garrison St'}\n",
      "{'_id': 24, 'name': 'Lola', 'address': 'Prospect Dr'}\n",
      "{'_id': 1, 'name': 'Paul', 'address': 'Mansfield Ave'}\n",
      "{'_id': ObjectId('66a870a1a401425ff87babf9'), 'name': 'Paul', 'address': 'Mansfield AVE'}\n",
      "{'_id': ObjectId('66a8b7eca401425ff87babfc'), 'name': 'Paul', 'address': 'Mansfield AVE'}\n",
      "{'_id': 13, 'name': 'Paul', 'address': 'Mansfield Ave'}\n",
      "{'_id': 2, 'name': 'Rafa', 'address': 'Holder Drive'}\n",
      "{'_id': ObjectId('66a87125a401425ff87babfa'), 'name': 'Rafa', 'address': 'Holder Drive'}\n",
      "{'_id': ObjectId('66a8b560a401425ff87babfb'), 'name': 'Rafa', 'address': 'Holder Drive'}\n",
      "{'_id': ObjectId('66a8b803a401425ff87babfd'), 'name': 'Rafa', 'address': 'Holder Drive'}\n",
      "{'_id': 14, 'name': 'Rafa', 'address': 'Holder Drive'}\n",
      "{'_id': 5, 'name': 'Sally', 'address': 'Holly Blvd'}\n",
      "{'_id': ObjectId('66a8b807a401425ff87bac00'), 'name': 'Sally', 'address': 'Holly Blvd'}\n",
      "{'_id': 12, 'name': 'Svetlana', 'address': 'Wayman Ave'}\n",
      "{'_id': ObjectId('66a8b807a401425ff87bac07'), 'name': 'Svetlana', 'address': 'Wayman Ave'}\n",
      "{'_id': 11, 'name': 'Violet', 'address': 'Station St'}\n",
      "{'_id': ObjectId('66a8b807a401425ff87bac06'), 'name': 'Violet', 'address': 'Station St'}\n"
     ]
    }
   ],
   "source": [
    "#ANSWER:\n",
    "myquery = {}\n",
    "mydoc = mycol.find(myquery).sort(\"name\", 1)\n",
    "for x in mydoc:\n",
    "    print(x)"
   ]
  },
  {
   "cell_type": "markdown",
   "metadata": {
    "id": "esbldZv0B_cx"
   },
   "source": [
    "Now sort in reverse order (HINT: The sort() method takes an optional second parameter.)"
   ]
  },
  {
   "cell_type": "code",
   "execution_count": 75,
   "metadata": {
    "id": "k5oDnwVb4Naw"
   },
   "outputs": [
    {
     "name": "stdout",
     "output_type": "stream",
     "text": [
      "{'_id': 11, 'name': 'Violet', 'address': 'Station St'}\n",
      "{'_id': ObjectId('66a8b807a401425ff87bac06'), 'name': 'Violet', 'address': 'Station St'}\n",
      "{'_id': 12, 'name': 'Svetlana', 'address': 'Wayman Ave'}\n",
      "{'_id': ObjectId('66a8b807a401425ff87bac07'), 'name': 'Svetlana', 'address': 'Wayman Ave'}\n",
      "{'_id': 5, 'name': 'Sally', 'address': 'Holly Blvd'}\n",
      "{'_id': ObjectId('66a8b807a401425ff87bac00'), 'name': 'Sally', 'address': 'Holly Blvd'}\n",
      "{'_id': 2, 'name': 'Rafa', 'address': 'Holder Drive'}\n",
      "{'_id': ObjectId('66a87125a401425ff87babfa'), 'name': 'Rafa', 'address': 'Holder Drive'}\n",
      "{'_id': ObjectId('66a8b560a401425ff87babfb'), 'name': 'Rafa', 'address': 'Holder Drive'}\n",
      "{'_id': ObjectId('66a8b803a401425ff87babfd'), 'name': 'Rafa', 'address': 'Holder Drive'}\n",
      "{'_id': 14, 'name': 'Rafa', 'address': 'Holder Drive'}\n",
      "{'_id': 1, 'name': 'Paul', 'address': 'Mansfield Ave'}\n",
      "{'_id': ObjectId('66a870a1a401425ff87babf9'), 'name': 'Paul', 'address': 'Mansfield AVE'}\n",
      "{'_id': ObjectId('66a8b7eca401425ff87babfc'), 'name': 'Paul', 'address': 'Mansfield AVE'}\n",
      "{'_id': 13, 'name': 'Paul', 'address': 'Mansfield Ave'}\n",
      "{'_id': 24, 'name': 'Lola', 'address': 'Prospect Dr'}\n",
      "{'_id': 10, 'name': 'Kent', 'address': 'Garrison St'}\n",
      "{'_id': ObjectId('66a8b807a401425ff87bac05'), 'name': 'Kent', 'address': 'Garrison St'}\n",
      "{'_id': 6, 'name': 'Helen', 'address': 'Castor Prom'}\n",
      "{'_id': ObjectId('66a8b807a401425ff87bac01'), 'name': 'Helen', 'address': 'Castor Prom'}\n",
      "{'_id': 7, 'name': 'Craig', 'address': 'Parsons Way'}\n",
      "{'_id': ObjectId('66a8b807a401425ff87bac02'), 'name': 'Craig', 'address': 'Parsons Way'}\n",
      "{'_id': 8, 'name': 'Betty', 'address': 'Watters St'}\n",
      "{'_id': ObjectId('66a8b807a401425ff87bac03'), 'name': 'Betty', 'address': 'Watters St'}\n",
      "{'_id': 4, 'name': 'Benjamin', 'address': 'Green Dr'}\n",
      "{'_id': ObjectId('66a8b807a401425ff87babff'), 'name': 'Benjamin', 'address': 'Green Dr'}\n",
      "{'_id': 16, 'name': 'Benjamin', 'address': 'Green Dr'}\n",
      "{'_id': 3, 'name': 'Ashton', 'address': 'Axle St'}\n",
      "{'_id': ObjectId('66a8b807a401425ff87babfe'), 'name': 'Ashton', 'address': 'Axle St'}\n",
      "{'_id': 15, 'name': 'Ashton', 'address': 'Axle St'}\n",
      "{'_id': 9, 'name': 'Aparna', 'address': 'Yonder Dr'}\n",
      "{'_id': ObjectId('66a8b807a401425ff87bac04'), 'name': 'Aparna', 'address': 'Yonder Dr'}\n"
     ]
    }
   ],
   "source": [
    "#ANSWER\n",
    "#ANSWER:\n",
    "myquery = {}\n",
    "mydoc = mycol.find(myquery).sort(\"name\", -1)\n",
    "for x in mydoc:\n",
    "    print(x)"
   ]
  },
  {
   "cell_type": "markdown",
   "metadata": {
    "id": "s0oVQyDGB_cy"
   },
   "source": [
    "A single record can be deleted by specifying some criterion:"
   ]
  },
  {
   "cell_type": "code",
   "execution_count": 76,
   "metadata": {
    "id": "8yxmQAs6B_cy",
    "outputId": "1bc9d528-4034-438e-a68b-acc7f11efce4"
   },
   "outputs": [
    {
     "data": {
      "text/plain": [
       "DeleteResult({'n': 1, 'ok': 1.0}, acknowledged=True)"
      ]
     },
     "execution_count": 76,
     "metadata": {},
     "output_type": "execute_result"
    }
   ],
   "source": [
    "mycol.delete_one({ \"address\": \"Castor Prom\" })"
   ]
  },
  {
   "cell_type": "markdown",
   "metadata": {
    "id": "QqH7lF-uB_c0"
   },
   "source": [
    "Now delete all docs with the 2-digit `Id` values:"
   ]
  },
  {
   "cell_type": "code",
   "execution_count": 80,
   "metadata": {
    "id": "0pyYX1YUB_c0"
   },
   "outputs": [
    {
     "data": {
      "text/plain": [
       "DeleteResult({'n': 0, 'ok': 1.0}, acknowledged=True)"
      ]
     },
     "execution_count": 80,
     "metadata": {},
     "output_type": "execute_result"
    }
   ],
   "source": [
    "#ANSWER:\n",
    "mycol.delete_many({\"_id\": {\"$regex\": r\"^\\d{2}$\"}})\n"
   ]
  },
  {
   "cell_type": "markdown",
   "metadata": {
    "id": "CsjxNZY6B_c1"
   },
   "source": [
    "This would delete all docs:\n",
    "`x = mycol.delete_many({})`\n",
    "\n",
    "This would remove the collection:\n",
    "`mycol.drop()`\n",
    "\n",
    "This would drop the database:\n",
    "`client.drop_database('test')`"
   ]
  },
  {
   "cell_type": "markdown",
   "metadata": {
    "id": "2Dnc3vItB_c2"
   },
   "source": [
    "Change the first instance of \"address\" == \"Garrison St\" to \"Somers Ave\" using update_one().  \n",
    "(HINT: The 1st parameter of update_one() is the criterion (query); the 2nd is dict specifying the field to change and its new value.)"
   ]
  },
  {
   "cell_type": "code",
   "execution_count": 82,
   "metadata": {
    "id": "lhd3SoGjB_c2"
   },
   "outputs": [
    {
     "data": {
      "text/plain": [
       "UpdateResult({'n': 1, 'nModified': 1, 'ok': 1.0, 'updatedExisting': True}, acknowledged=True)"
      ]
     },
     "execution_count": 82,
     "metadata": {},
     "output_type": "execute_result"
    }
   ],
   "source": [
    "#ANSWER:\n",
    "mycol.update_one(\n",
    "    {\"address\": \"Garrison St\"}, \n",
    "    {\"$set\": {\"address\": \"Somers Ave\"}})"
   ]
  },
  {
   "cell_type": "markdown",
   "metadata": {
    "id": "56frrtHFB_c3"
   },
   "source": [
    "The limit() method can be applied after the find() method to limit the number of docs returned. Show the first 5 docs:"
   ]
  },
  {
   "cell_type": "code",
   "execution_count": 84,
   "metadata": {
    "id": "iKI5zKUbB_c4",
    "scrolled": true
   },
   "outputs": [
    {
     "name": "stdout",
     "output_type": "stream",
     "text": [
      "{'_id': 1, 'name': 'Paul', 'address': 'Mansfield Ave'}\n",
      "{'_id': 2, 'name': 'Rafa', 'address': 'Holder Drive'}\n",
      "{'_id': 3, 'name': 'Ashton', 'address': 'Axle St'}\n",
      "{'_id': 4, 'name': 'Benjamin', 'address': 'Green Dr'}\n",
      "{'_id': 5, 'name': 'Sally', 'address': 'Holly Blvd'}\n"
     ]
    }
   ],
   "source": [
    "#ANSWER:\n",
    "mydoc = mycol.find().limit(5)\n",
    "for x in mydoc:\n",
    "    print(x)"
   ]
  },
  {
   "cell_type": "markdown",
   "metadata": {
    "id": "eT0nESi-B_c5"
   },
   "source": [
    "## PyMongo for Data Science"
   ]
  },
  {
   "cell_type": "markdown",
   "metadata": {
    "id": "S_MH0UFpB_c5"
   },
   "source": [
    "MongoDB has many more features of interest to developers, but the main focus of a data scientist will be wrangling and munging the data. It may or may not be desirable to do all the data munging in Pandas; for a large, distributed database, it may be imperative to perform aggregation in MongoDB."
   ]
  },
  {
   "cell_type": "code",
   "execution_count": 77,
   "metadata": {
    "id": "TM1rIsJuB_c5"
   },
   "outputs": [],
   "source": [
    "# Ref:  https://rsandstroem.github.io/MongoDBDemo.html\n",
    "\n",
    "import pandas as pd\n",
    "import numpy as np"
   ]
  },
  {
   "cell_type": "markdown",
   "metadata": {
    "id": "L6kZkdjRB_c7"
   },
   "source": [
    "The following code in the next few cells, will create a database named \"command_test\" which populates its data from a local JSON file called dummyData.json (you need to download this from the Google Classroom DATA folder) using the mongoimport program.\n",
    "\n",
    "**Step 1**. Using the command prompt (Windows) or Terminal (Mac) change to the directory containing the file mongoimport.exe (example: cd \"C:\\Program Files\\MongoDB\\Tools\\100\\bin\")"
   ]
  },
  {
   "cell_type": "markdown",
   "metadata": {
    "id": "gr7dgFCC4Naz"
   },
   "source": [
    "**Step 2**. After you have changed your directory, copy/paste the line below in the command prompt/ terminal after modifying \"dummydata.json\" to include the path on your system where the file is located:\n",
    "<br>\n",
    "\n",
    "      mongoimport --db command_test --collection people --drop --file \"dummyData.json\"       \n",
    "\n",
    "- db: stands for database name that you use --> in our case, it is \"command_test\"\n",
    "- collection: stands for the collection you created within the database --> in our case it is \"people\"\n",
    "- file: stands for the file path to your \"dummyData.json\" file, which you downloaded from our Google Classroom DATA folder - you may need to modify \"dummyData.json\""
   ]
  },
  {
   "cell_type": "markdown",
   "metadata": {
    "id": "xFH0rxoY4Naz"
   },
   "source": [
    "**Step 3**. Copy/paste the line below into the command prompt or terminal:\n",
    "<br>\n",
    "\n",
    "    mongoimport -d command_test -c people --file \"dummyData.json\"\n"
   ]
  },
  {
   "cell_type": "code",
   "execution_count": 97,
   "metadata": {
    "id": "6WP7YGNXKbpZ"
   },
   "outputs": [],
   "source": [
    "client = MongoClient('localhost', 27017) #connects to your local mongoDB"
   ]
  },
  {
   "cell_type": "markdown",
   "metadata": {
    "id": "5ut5OAY14Naz"
   },
   "source": [
    "If the above is successful, running the next cell should produce three records corresponding to the youngest people."
   ]
  },
  {
   "cell_type": "code",
   "execution_count": 98,
   "metadata": {
    "id": "fXByi5IfB_c_"
   },
   "outputs": [],
   "source": [
    "db = client.command_test\n",
    "collection = db.people\n",
    "cursor = collection.find().sort('Age',pymongo.ASCENDING).limit(3)\n",
    "for doc in cursor:\n",
    "    print (doc)"
   ]
  },
  {
   "cell_type": "markdown",
   "metadata": {
    "id": "vPnfkW2tB_dA"
   },
   "source": [
    "Here is a small demonstration of the MongoDB aggregation framework. We want to create a table of the number of persons in each country and their average age. To do it we group by country. We extract the results from MongoDB aggregation into a pandas dataframe, and use the country as index."
   ]
  },
  {
   "cell_type": "code",
   "execution_count": 96,
   "metadata": {},
   "outputs": [
    {
     "name": "stdout",
     "output_type": "stream",
     "text": [
      "Empty DataFrame\n",
      "Columns: []\n",
      "Index: []\n"
     ]
    }
   ],
   "source": [
    "pipeline = [\n",
    "    {\"$group\": {\"_id\": \"$Country\", \"AvgAge\": {\"$avg\": \"$Age\"}, \"Count\": {\"$sum\": 1}}},\n",
    "    {\"$sort\": {\"Count\": -1, \"AvgAge\": 1}}\n",
    "]\n",
    "\n",
    "aggResult = collection.aggregate(pipeline)  # returns a cursor\n",
    "\n",
    "df1 = pd.DataFrame(list(aggResult))\n",
    "\n",
    "print(df1.head())\n",
    "\n",
    "\n"
   ]
  },
  {
   "cell_type": "markdown",
   "metadata": {
    "id": "H9vaINaBB_dB"
   },
   "source": [
    "For simple cases one can either use a cursor through find(\"search term\") or use the \"$match\" operator in the aggregation framework, like this:"
   ]
  },
  {
   "cell_type": "code",
   "execution_count": 101,
   "metadata": {
    "id": "3oymmJpUB_dB"
   },
   "outputs": [
    {
     "name": "stdout",
     "output_type": "stream",
     "text": [
      "Empty DataFrame\n",
      "Columns: []\n",
      "Index: []\n"
     ]
    }
   ],
   "source": [
    "pipeline = [\n",
    "        {\"$match\": {\"Country\":\"China\"}},\n",
    "]\n",
    "aggResult = collection.aggregate(pipeline)\n",
    "df2 = pd.DataFrame(list(aggResult))\n",
    "df2.head()\n",
    "print(df2.head())"
   ]
  },
  {
   "cell_type": "markdown",
   "metadata": {
    "id": "terLdzDaB_dC"
   },
   "source": [
    "Now we can apply all the power of Python libraries to analyse and visualise the data. Here, we will use the folium package to plot markers for the locations of the people we just found in China (click on a marker to see their data):"
   ]
  },
  {
   "cell_type": "code",
   "execution_count": null,
   "metadata": {
    "id": "v2lsaYlAB_dC"
   },
   "outputs": [],
   "source": [
    "# Un-comment and execute to install folium pkg (1st time only):\n",
    "# import sys\n",
    "# !{sys.executable} -m pip install folium"
   ]
  },
  {
   "cell_type": "code",
   "execution_count": 91,
   "metadata": {
    "id": "SuRbCt48B_dD"
   },
   "outputs": [
    {
     "name": "stdout",
     "output_type": "stream",
     "text": [
      "Folium version 0.16.0\n"
     ]
    },
    {
     "data": {
      "text/html": [
       "<div style=\"width:100%;\"><div style=\"position:relative;width:100%;height:0;padding-bottom:60%;\"><span style=\"color:#565656\">Make this Notebook Trusted to load map: File -> Trust Notebook</span><iframe srcdoc=\"&lt;!DOCTYPE html&gt;\n",
       "&lt;html&gt;\n",
       "&lt;head&gt;\n",
       "    \n",
       "    &lt;meta http-equiv=&quot;content-type&quot; content=&quot;text/html; charset=UTF-8&quot; /&gt;\n",
       "    \n",
       "        &lt;script&gt;\n",
       "            L_NO_TOUCH = false;\n",
       "            L_DISABLE_3D = false;\n",
       "        &lt;/script&gt;\n",
       "    \n",
       "    &lt;style&gt;html, body {width: 100%;height: 100%;margin: 0;padding: 0;}&lt;/style&gt;\n",
       "    &lt;style&gt;#map {position:absolute;top:0;bottom:0;right:0;left:0;}&lt;/style&gt;\n",
       "    &lt;script src=&quot;https://cdn.jsdelivr.net/npm/leaflet@1.9.3/dist/leaflet.js&quot;&gt;&lt;/script&gt;\n",
       "    &lt;script src=&quot;https://code.jquery.com/jquery-3.7.1.min.js&quot;&gt;&lt;/script&gt;\n",
       "    &lt;script src=&quot;https://cdn.jsdelivr.net/npm/bootstrap@5.2.2/dist/js/bootstrap.bundle.min.js&quot;&gt;&lt;/script&gt;\n",
       "    &lt;script src=&quot;https://cdnjs.cloudflare.com/ajax/libs/Leaflet.awesome-markers/2.0.2/leaflet.awesome-markers.js&quot;&gt;&lt;/script&gt;\n",
       "    &lt;link rel=&quot;stylesheet&quot; href=&quot;https://cdn.jsdelivr.net/npm/leaflet@1.9.3/dist/leaflet.css&quot;/&gt;\n",
       "    &lt;link rel=&quot;stylesheet&quot; href=&quot;https://cdn.jsdelivr.net/npm/bootstrap@5.2.2/dist/css/bootstrap.min.css&quot;/&gt;\n",
       "    &lt;link rel=&quot;stylesheet&quot; href=&quot;https://netdna.bootstrapcdn.com/bootstrap/3.0.0/css/bootstrap.min.css&quot;/&gt;\n",
       "    &lt;link rel=&quot;stylesheet&quot; href=&quot;https://cdn.jsdelivr.net/npm/@fortawesome/fontawesome-free@6.2.0/css/all.min.css&quot;/&gt;\n",
       "    &lt;link rel=&quot;stylesheet&quot; href=&quot;https://cdnjs.cloudflare.com/ajax/libs/Leaflet.awesome-markers/2.0.2/leaflet.awesome-markers.css&quot;/&gt;\n",
       "    &lt;link rel=&quot;stylesheet&quot; href=&quot;https://cdn.jsdelivr.net/gh/python-visualization/folium/folium/templates/leaflet.awesome.rotate.min.css&quot;/&gt;\n",
       "    \n",
       "            &lt;meta name=&quot;viewport&quot; content=&quot;width=device-width,\n",
       "                initial-scale=1.0, maximum-scale=1.0, user-scalable=no&quot; /&gt;\n",
       "            &lt;style&gt;\n",
       "                #map_468ca9ea22855b1507974c6399daa457 {\n",
       "                    position: relative;\n",
       "                    width: 100.0%;\n",
       "                    height: 100.0%;\n",
       "                    left: 0.0%;\n",
       "                    top: 0.0%;\n",
       "                }\n",
       "                .leaflet-container { font-size: 1rem; }\n",
       "            &lt;/style&gt;\n",
       "        \n",
       "&lt;/head&gt;\n",
       "&lt;body&gt;\n",
       "    \n",
       "    \n",
       "            &lt;div class=&quot;folium-map&quot; id=&quot;map_468ca9ea22855b1507974c6399daa457&quot; &gt;&lt;/div&gt;\n",
       "        \n",
       "&lt;/body&gt;\n",
       "&lt;script&gt;\n",
       "    \n",
       "    \n",
       "            var map_468ca9ea22855b1507974c6399daa457 = L.map(\n",
       "                &quot;map_468ca9ea22855b1507974c6399daa457&quot;,\n",
       "                {\n",
       "                    center: [35.0, 100.0],\n",
       "                    crs: L.CRS.EPSG3857,\n",
       "                    zoom: 4,\n",
       "                    zoomControl: true,\n",
       "                    preferCanvas: false,\n",
       "                }\n",
       "            );\n",
       "\n",
       "            \n",
       "\n",
       "        \n",
       "    \n",
       "            var tile_layer_ba44590b280c2773df15891e73889c64 = L.tileLayer(\n",
       "                &quot;https://tile.openstreetmap.org/{z}/{x}/{y}.png&quot;,\n",
       "                {&quot;attribution&quot;: &quot;\\u0026copy; \\u003ca href=\\&quot;https://www.openstreetmap.org/copyright\\&quot;\\u003eOpenStreetMap\\u003c/a\\u003e contributors&quot;, &quot;detectRetina&quot;: false, &quot;maxNativeZoom&quot;: 19, &quot;maxZoom&quot;: 19, &quot;minZoom&quot;: 0, &quot;noWrap&quot;: false, &quot;opacity&quot;: 1, &quot;subdomains&quot;: &quot;abc&quot;, &quot;tms&quot;: false}\n",
       "            );\n",
       "        \n",
       "    \n",
       "            tile_layer_ba44590b280c2773df15891e73889c64.addTo(map_468ca9ea22855b1507974c6399daa457);\n",
       "        \n",
       "&lt;/script&gt;\n",
       "&lt;/html&gt;\" style=\"position:absolute;width:100%;height:100%;left:0;top:0;border:none !important;\" allowfullscreen webkitallowfullscreen mozallowfullscreen></iframe></div></div>"
      ],
      "text/plain": [
       "<folium.folium.Map at 0x135d73890>"
      ]
     },
     "execution_count": 91,
     "metadata": {},
     "output_type": "execute_result"
    }
   ],
   "source": [
    "import folium\n",
    "print ('Folium version ' + folium.__version__)\n",
    "\n",
    "world_map = folium.Map(location = [35, 100], zoom_start = 4)\n",
    "for i in range(len(df2)):\n",
    "    location = [float(loc) for loc in df2.Location[i].split(',')]\n",
    "    folium.Marker(location = location, popup = df2.Name[i] + ', age:' + str(df2.Age[i])).add_to(world_map)\n",
    "\n",
    "world_map"
   ]
  },
  {
   "cell_type": "code",
   "execution_count": 92,
   "metadata": {
    "id": "vYQ_XhoF4Na0"
   },
   "outputs": [
    {
     "name": "stdout",
     "output_type": "stream",
     "text": [
      "['admin', 'config', 'local', 'test']\n",
      "['admin', 'config', 'local']\n"
     ]
    }
   ],
   "source": [
    "#Finally drop the databases created in the lab:\n",
    "print(client.list_database_names())\n",
    "client.drop_database('test')\n",
    "client.drop_database('command_test')\n",
    "print(client.list_database_names())"
   ]
  },
  {
   "cell_type": "markdown",
   "metadata": {
    "id": "Sr0Uxfq8B_dD"
   },
   "source": [
    "## HOMEWORK:\n"
   ]
  },
  {
   "cell_type": "markdown",
   "metadata": {
    "id": "82_s5XvcB_dD"
   },
   "source": [
    "1. Read up on how to perform aggregation in mongoDB. Insert a duplicate record into the collection:\n",
    "        mydict = {\"name\": \"Benjamin\", \"address\": \"Green Dr\"}\n",
    "   Now write a command to find docs with a duplicate \"name\" field (using aggregation) and remove them.  \n",
    "   Print the collection."
   ]
  },
  {
   "cell_type": "code",
   "execution_count": null,
   "metadata": {
    "id": "hnSSNTBuB_dD"
   },
   "outputs": [],
   "source": []
  },
  {
   "cell_type": "markdown",
   "metadata": {
    "id": "1Ndwie7xB_dE"
   },
   "source": [
    "2. Read up on how to apply indexes in mongoDB. Create an index on the \"name\" and \"address\" fields in this collection.\n",
    "   Print the indexes for the collection."
   ]
  },
  {
   "cell_type": "code",
   "execution_count": null,
   "metadata": {
    "id": "bFyHLpKyB_dE"
   },
   "outputs": [],
   "source": []
  },
  {
   "cell_type": "markdown",
   "metadata": {
    "id": "Hj8GdoOXC-Lu"
   },
   "source": [
    "\n",
    "\n",
    ">\n",
    ">\n",
    ">\n",
    "\n",
    "\n"
   ]
  },
  {
   "cell_type": "markdown",
   "metadata": {
    "id": "MlasiTKgDGdA"
   },
   "source": [
    "\n",
    "\n",
    "---\n",
    "\n",
    "\n",
    "\n",
    "---\n",
    "\n",
    "\n",
    "\n",
    "> > > > > > > > > © 2024 Institute of Data\n",
    "\n",
    "\n",
    "---\n",
    "\n",
    "\n",
    "\n",
    "---\n",
    "\n",
    "\n",
    "\n"
   ]
  }
 ],
 "metadata": {
  "colab": {
   "provenance": [
    {
     "file_id": "17D0zRG20oX_57CwR4eNwdLhO4Qhlk4Dx",
     "timestamp": 1553134552284
    }
   ]
  },
  "kernelspec": {
   "display_name": "Python 3 (ipykernel)",
   "language": "python",
   "name": "python3"
  },
  "language_info": {
   "codemirror_mode": {
    "name": "ipython",
    "version": 3
   },
   "file_extension": ".py",
   "mimetype": "text/x-python",
   "name": "python",
   "nbconvert_exporter": "python",
   "pygments_lexer": "ipython3",
   "version": "3.11.3"
  }
 },
 "nbformat": 4,
 "nbformat_minor": 1
}
