{
 "cells": [
  {
   "cell_type": "code",
   "execution_count": 1,
   "id": "22b87d54",
   "metadata": {},
   "outputs": [],
   "source": [
    "import sqlite3\n",
    "sqlite_db = 'test_db.sqlite'\n",
    "conn = sqlite3.connect(sqlite_db)\n",
    "c = conn.cursor()"
   ]
  },
  {
   "cell_type": "code",
   "execution_count": 3,
   "id": "473847b5",
   "metadata": {},
   "outputs": [
    {
     "data": {
      "text/plain": [
       "<sqlite3.Cursor at 0x105d82bc0>"
      ]
     },
     "execution_count": 3,
     "metadata": {},
     "output_type": "execute_result"
    }
   ],
   "source": [
    "# Create the students table\n",
    "c.execute('''\n",
    "CREATE TABLE students (\n",
    "    student_id INTEGER PRIMARY KEY,\n",
    "    name TEXT NOT NULL,\n",
    "    age INTEGER,\n",
    "    major TEXT\n",
    ");\n",
    "''')\n",
    "# Create the courses table\n",
    "c.execute('''\n",
    "CREATE TABLE courses (\n",
    "    course_id INTEGER PRIMARY KEY,\n",
    "    course_name TEXT NOT NULL\n",
    ");\n",
    "''')\n",
    "# Create the enrollments table\n",
    "c.execute('''\n",
    "CREATE TABLE enrollments (\n",
    "    enrollment_id INTEGER PRIMARY KEY,\n",
    "    student_id INTEGER,\n",
    "    course_id INTEGER,\n",
    "    FOREIGN KEY (student_id) REFERENCES students (student_id),\n",
    "    FOREIGN KEY (course_id) REFERENCES courses (course_id)\n",
    ");\n",
    "''')\n",
    "# Create the exams table\n",
    "c.execute('''\n",
    "CREATE TABLE exams (\n",
    "    exam_id INTEGER PRIMARY KEY,\n",
    "    enrollment_id INTEGER,\n",
    "    score INTEGER,\n",
    "    FOREIGN KEY (enrollment_id) REFERENCES enrollments (enrollment_id)\n",
    ");\n",
    "''')"
   ]
  },
  {
   "cell_type": "code",
   "execution_count": 5,
   "id": "09535c44",
   "metadata": {},
   "outputs": [
    {
     "data": {
      "text/plain": [
       "<function Connection.commit()>"
      ]
     },
     "execution_count": 5,
     "metadata": {},
     "output_type": "execute_result"
    }
   ],
   "source": [
    "values = [(None,'Rachel',22, \"geometry\"),(None,'Janet',25, \"english\"),(None,'Jim',22, \"cartography\"),(None,'Steve',27, \"math\"),(None,'Heather',23, \"maths\"),(None,'Andrew',19, \"cartography\"),(None,'Angela',21, \"english\"),(None,'Geoff',22, \"art\"),(None,'Mary',37, \"geography\"),(None,'James',29, \"physics\"),(None,'Fred',25, \"philosophy\"),(None,'Brenda',22, \"math\"),(None,'Tim',22, \"art\"),(None,'Stu',24, \"physics\"),(None,'Carl',17, \"cartography\"),(None,'Janice',19, \"english\"),(None,'Linda',26, \"law\"),(None,'Sarah',32, \"geography\")]\n",
    "c.executemany(\"INSERT INTO students (student_id, name, age, major) VALUES (?, ?, ?, ?)\", values)\n",
    "conn.commit"
   ]
  },
  {
   "cell_type": "code",
   "execution_count": 6,
   "id": "818d8b7b",
   "metadata": {},
   "outputs": [
    {
     "data": {
      "text/plain": [
       "[(1, 'Rachel', 22, 'geometry'),\n",
       " (2, 'Janet', 25, 'english'),\n",
       " (3, 'Jim', 22, 'cartography'),\n",
       " (4, 'Steve', 27, 'math'),\n",
       " (5, 'Heather', 23, 'maths'),\n",
       " (6, 'Andrew', 19, 'cartography'),\n",
       " (7, 'Angela', 21, 'english'),\n",
       " (8, 'Geoff', 22, 'art'),\n",
       " (9, 'Mary', 37, 'geography'),\n",
       " (10, 'James', 29, 'physics'),\n",
       " (11, 'Fred', 25, 'philosophy'),\n",
       " (12, 'Brenda', 22, 'math'),\n",
       " (13, 'Tim', 22, 'art'),\n",
       " (14, 'Stu', 24, 'physics'),\n",
       " (15, 'Carl', 17, 'cartography'),\n",
       " (16, 'Janice', 19, 'english'),\n",
       " (17, 'Linda', 26, 'law'),\n",
       " (18, 'Sarah', 32, 'geography')]"
      ]
     },
     "execution_count": 6,
     "metadata": {},
     "output_type": "execute_result"
    }
   ],
   "source": [
    "all_students=c.execute(\"SELECT student_id, name, age, major FROM students\")\n",
    "all_students.fetchall()"
   ]
  },
  {
   "cell_type": "code",
   "execution_count": 8,
   "id": "b194367f",
   "metadata": {},
   "outputs": [
    {
     "data": {
      "text/plain": [
       "<function Connection.commit()>"
      ]
     },
     "execution_count": 8,
     "metadata": {},
     "output_type": "execute_result"
    }
   ],
   "source": [
    "courses = [(None, \"algebra_101\"),(None, \"algebra_201\"),(None,\"mapping_101\"),(None,\"mapping_202\"),(None,\"intro_law\"),(None, \"physics_301\"),(None, \"algebra_101\"),(None, \"stats_201\"),(None, \"english_400\"),(None, \"triganometry_202\"),(None, \"intro_painting\"),(None, \"literature_301\")]\n",
    "c.executemany(\"INSERT INTO courses (course_id, course_name) VALUES (?, ?)\", courses)\n",
    "conn.commit"
   ]
  },
  {
   "cell_type": "code",
   "execution_count": 11,
   "id": "af8d3cf6",
   "metadata": {},
   "outputs": [
    {
     "data": {
      "text/plain": [
       "[(1, 'algebra_101'),\n",
       " (2, 'algebra_201'),\n",
       " (3, 'mapping_101'),\n",
       " (4, 'mapping_202'),\n",
       " (5, 'intro_law'),\n",
       " (6, 'physics_301'),\n",
       " (7, 'algebra_101'),\n",
       " (8, 'stats_201'),\n",
       " (9, 'english_400'),\n",
       " (10, 'triganometry_202'),\n",
       " (11, 'intro_painting'),\n",
       " (12, 'literature_301')]"
      ]
     },
     "execution_count": 11,
     "metadata": {},
     "output_type": "execute_result"
    }
   ],
   "source": [
    "course_list =c.execute('SELECT course_id, course_name FROM courses')\n",
    "course_list.fetchall()"
   ]
  },
  {
   "cell_type": "code",
   "execution_count": 22,
   "id": "e10ab6ec",
   "metadata": {},
   "outputs": [
    {
     "data": {
      "text/plain": [
       "<function Connection.commit()>"
      ]
     },
     "execution_count": 22,
     "metadata": {},
     "output_type": "execute_result"
    }
   ],
   "source": [
    "enrollment = [(1,3),(2,2),(2,4),(2,8),(3,1),(3,10),(3,11),(4,3),(4,5),(4,8),(5,7),(5,1),(5,3),(6,9),(6,2),(6,7),(7,2),(7,12),(7,8),(8,4),(8,3),(8,11),(9,1),(9,6),(9,12),(10,12),(10,8),(10,7),(11,5),(11,8),(11,3),(12,2),(12,1),(12,3),(13,9),(13,10),(13,4),(14,7),(14,6),(14,11),(15,6),(15,5),(15,2),(16,7),(16,2),(16,11),(17,2),(17,3),(17,5),(18,2),(18,5),(18,3)]\n",
    "c.executemany(\"INSERT INTO enrollments (student_id, course_id) VALUES (?, ?)\", enrollment)\n",
    "conn.commit"
   ]
  },
  {
   "cell_type": "code",
   "execution_count": 23,
   "id": "d9a82f7c",
   "metadata": {},
   "outputs": [
    {
     "data": {
      "text/plain": [
       "[(1, 1, 1),\n",
       " (2, 1, 2),\n",
       " (3, 1, 3),\n",
       " (4, 2, 2),\n",
       " (5, 2, 4),\n",
       " (6, 2, 8),\n",
       " (7, 3, 1),\n",
       " (8, 3, 10),\n",
       " (9, 3, 11),\n",
       " (10, 4, 3),\n",
       " (11, 4, 5),\n",
       " (12, 4, 8),\n",
       " (13, 5, 7),\n",
       " (14, 5, 1),\n",
       " (15, 5, 3),\n",
       " (16, 6, 9),\n",
       " (17, 6, 2),\n",
       " (18, 6, 7),\n",
       " (19, 7, 2),\n",
       " (20, 7, 12),\n",
       " (21, 7, 8),\n",
       " (22, 8, 4),\n",
       " (23, 8, 3),\n",
       " (24, 8, 11),\n",
       " (25, 9, 1),\n",
       " (26, 9, 6),\n",
       " (27, 9, 12),\n",
       " (28, 10, 12),\n",
       " (29, 10, 8),\n",
       " (30, 10, 7),\n",
       " (31, 11, 5),\n",
       " (32, 11, 8),\n",
       " (33, 11, 3),\n",
       " (34, 12, 2),\n",
       " (35, 12, 1),\n",
       " (36, 12, 3),\n",
       " (37, 13, 9),\n",
       " (38, 13, 10),\n",
       " (39, 13, 4),\n",
       " (40, 14, 7),\n",
       " (41, 14, 6),\n",
       " (42, 14, 11),\n",
       " (43, 15, 6),\n",
       " (44, 15, 5),\n",
       " (45, 15, 2),\n",
       " (46, 16, 7),\n",
       " (47, 16, 2),\n",
       " (48, 16, 11),\n",
       " (49, 17, 2),\n",
       " (50, 17, 3),\n",
       " (51, 17, 5),\n",
       " (52, 18, 2),\n",
       " (53, 18, 5),\n",
       " (54, 18, 3)]"
      ]
     },
     "execution_count": 23,
     "metadata": {},
     "output_type": "execute_result"
    }
   ],
   "source": [
    "enrollment_list =c.execute('SELECT enrollment_id, student_id, course_id FROM enrollments')\n",
    "enrollment_list.fetchall()"
   ]
  },
  {
   "cell_type": "code",
   "execution_count": 25,
   "id": "d65e1a47",
   "metadata": {},
   "outputs": [
    {
     "data": {
      "text/plain": [
       "<function Connection.commit()>"
      ]
     },
     "execution_count": 25,
     "metadata": {},
     "output_type": "execute_result"
    }
   ],
   "source": [
    "import random\n",
    "exam = [(i, random.randint(65, 100)) for i in range(1, 57)]\n",
    "c.executemany(\"INSERT INTO exams (enrollment_id, score) VALUES (?, ?)\", exam)\n",
    "conn.commit"
   ]
  },
  {
   "cell_type": "code",
   "execution_count": 27,
   "id": "68dcd615",
   "metadata": {},
   "outputs": [
    {
     "data": {
      "text/plain": [
       "[(1, 1, 71),\n",
       " (2, 2, 71),\n",
       " (3, 3, 67),\n",
       " (4, 4, 79),\n",
       " (5, 5, 98),\n",
       " (6, 6, 89),\n",
       " (7, 7, 78),\n",
       " (8, 8, 68),\n",
       " (9, 9, 87),\n",
       " (10, 10, 71),\n",
       " (11, 11, 79),\n",
       " (12, 12, 85),\n",
       " (13, 13, 89),\n",
       " (14, 14, 92),\n",
       " (15, 15, 79),\n",
       " (16, 16, 77),\n",
       " (17, 17, 67),\n",
       " (18, 18, 81),\n",
       " (19, 19, 73),\n",
       " (20, 20, 72),\n",
       " (21, 21, 83),\n",
       " (22, 22, 92),\n",
       " (23, 23, 70),\n",
       " (24, 24, 82),\n",
       " (25, 25, 96),\n",
       " (26, 26, 78),\n",
       " (27, 27, 81),\n",
       " (28, 28, 93),\n",
       " (29, 29, 74),\n",
       " (30, 30, 66),\n",
       " (31, 31, 67),\n",
       " (32, 32, 73),\n",
       " (33, 33, 88),\n",
       " (34, 34, 80),\n",
       " (35, 35, 89),\n",
       " (36, 36, 83),\n",
       " (37, 37, 80),\n",
       " (38, 38, 95),\n",
       " (39, 39, 94),\n",
       " (40, 40, 81),\n",
       " (41, 41, 98),\n",
       " (42, 42, 89),\n",
       " (43, 43, 97),\n",
       " (44, 44, 91),\n",
       " (45, 45, 97),\n",
       " (46, 46, 94),\n",
       " (47, 47, 79),\n",
       " (48, 48, 98),\n",
       " (49, 49, 75),\n",
       " (50, 50, 77),\n",
       " (51, 51, 66),\n",
       " (52, 52, 91),\n",
       " (53, 53, 97),\n",
       " (54, 54, 79),\n",
       " (55, 55, 79),\n",
       " (56, 56, 100)]"
      ]
     },
     "execution_count": 27,
     "metadata": {},
     "output_type": "execute_result"
    }
   ],
   "source": [
    "exam_list =c.execute('SELECT exam_id, enrollment_id, score FROM exams')\n",
    "exam_list.fetchall()"
   ]
  },
  {
   "cell_type": "code",
   "execution_count": 32,
   "id": "935bc6f5",
   "metadata": {},
   "outputs": [
    {
     "data": {
      "text/plain": [
       "<sqlite3.Cursor at 0x105d82bc0>"
      ]
     },
     "execution_count": 32,
     "metadata": {},
     "output_type": "execute_result"
    }
   ],
   "source": [
    "math_students = c.execute(\"SELECT name, major FROM students WHERE major = 'math'\")\n",
    "conn.commit\n",
    "math_students.fetchall()"
   ]
  },
  {
   "cell_type": "code",
   "execution_count": 33,
   "id": "b1b02775",
   "metadata": {},
   "outputs": [
    {
     "data": {
      "text/plain": [
       "[('Steve', 'math'), ('Brenda', 'math')]"
      ]
     },
     "execution_count": 33,
     "metadata": {},
     "output_type": "execute_result"
    }
   ],
   "source": [
    "math_students.fetchall()"
   ]
  },
  {
   "cell_type": "code",
   "execution_count": 40,
   "id": "7f9f0d15",
   "metadata": {},
   "outputs": [
    {
     "data": {
      "text/plain": [
       "[(2, 'art'),\n",
       " (3, 'cartography'),\n",
       " (3, 'english'),\n",
       " (2, 'geography'),\n",
       " (1, 'geometry'),\n",
       " (1, 'law'),\n",
       " (2, 'math'),\n",
       " (1, 'maths'),\n",
       " (1, 'philosophy'),\n",
       " (2, 'physics')]"
      ]
     },
     "execution_count": 40,
     "metadata": {},
     "output_type": "execute_result"
    }
   ],
   "source": [
    "major_students = '''SELECT COUNT(student_id), major \n",
    "                    FROM students \n",
    "                    GROUP BY major;'''\n",
    "c.execute(major_students)\n",
    "conn.commit\n",
    "major_students=c.fetchall()\n",
    "major_students"
   ]
  },
  {
   "cell_type": "code",
   "execution_count": 42,
   "id": "d0b092e8",
   "metadata": {},
   "outputs": [
    {
     "data": {
      "text/plain": [
       "[('art', 22, 22),\n",
       " ('cartography', 17, 22),\n",
       " ('english', 19, 25),\n",
       " ('geography', 32, 37),\n",
       " ('geometry', 22, 22),\n",
       " ('law', 26, 26),\n",
       " ('math', 22, 27),\n",
       " ('maths', 23, 23),\n",
       " ('philosophy', 25, 25),\n",
       " ('physics', 24, 29)]"
      ]
     },
     "execution_count": 42,
     "metadata": {},
     "output_type": "execute_result"
    }
   ],
   "source": [
    "query = '''SELECT major,min(age),max(age) \n",
    "                    FROM students \n",
    "                    GROUP BY major;'''\n",
    "c.execute(query)\n",
    "conn.commit\n",
    "age=c.fetchall()\n",
    "age"
   ]
  },
  {
   "cell_type": "code",
   "execution_count": 44,
   "id": "491658c5",
   "metadata": {},
   "outputs": [
    {
     "data": {
      "text/plain": [
       "[('art', 2, 22.0),\n",
       " ('cartography', 3, 19.333333333333332),\n",
       " ('english', 3, 21.666666666666668),\n",
       " ('geography', 2, 34.5),\n",
       " ('geometry', 1, 22.0),\n",
       " ('law', 1, 26.0),\n",
       " ('math', 2, 24.5),\n",
       " ('maths', 1, 23.0),\n",
       " ('philosophy', 1, 25.0),\n",
       " ('physics', 2, 26.5)]"
      ]
     },
     "execution_count": 44,
     "metadata": {},
     "output_type": "execute_result"
    }
   ],
   "source": [
    "query = '''SELECT major,count(age) as student_count,avg(age) as student_age\n",
    "                    FROM students \n",
    "                    GROUP BY major;'''\n",
    "c.execute(query)\n",
    "conn.commit\n",
    "age=c.fetchall()\n",
    "age"
   ]
  },
  {
   "cell_type": "code",
   "execution_count": 46,
   "id": "58ee73f0",
   "metadata": {},
   "outputs": [
    {
     "data": {
      "text/plain": [
       "[]"
      ]
     },
     "execution_count": 46,
     "metadata": {},
     "output_type": "execute_result"
    }
   ],
   "source": [
    "query = '''SELECT name\n",
    "            FROM students \n",
    "            WHERE student_id not in (select student_id from enrollments);'''\n",
    "c.execute(query)\n",
    "conn.commit\n",
    "result=c.fetchall()\n",
    "result"
   ]
  },
  {
   "cell_type": "code",
   "execution_count": null,
   "id": "04f89f67",
   "metadata": {},
   "outputs": [],
   "source": []
  }
 ],
 "metadata": {
  "kernelspec": {
   "display_name": "Python 3 (ipykernel)",
   "language": "python",
   "name": "python3"
  },
  "language_info": {
   "codemirror_mode": {
    "name": "ipython",
    "version": 3
   },
   "file_extension": ".py",
   "mimetype": "text/x-python",
   "name": "python",
   "nbconvert_exporter": "python",
   "pygments_lexer": "ipython3",
   "version": "3.11.3"
  }
 },
 "nbformat": 4,
 "nbformat_minor": 5
}
