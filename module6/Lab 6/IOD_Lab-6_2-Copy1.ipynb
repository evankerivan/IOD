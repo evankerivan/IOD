{
 "cells": [
  {
   "cell_type": "markdown",
   "metadata": {
    "id": "-GdLTXyzcDIE"
   },
   "source": [
    "<div>\n",
    "<img src=https://www.institutedata.com/wp-content/uploads/2019/10/iod_h_tp_primary_c.svg width=\"300\">\n",
    "</div>"
   ]
  },
  {
   "cell_type": "markdown",
   "metadata": {
    "id": "S6YUpexPcDIH"
   },
   "source": [
    "# Lab 6.2: K-Means bad cases\n",
    "\n",
    "INSTRUCTIONS:\n",
    "\n",
    "- Replace the `___` with proper code to run the cells\n",
    "- Observe and understand the results\n",
    "- Answer the questions"
   ]
  },
  {
   "cell_type": "code",
   "execution_count": 2,
   "metadata": {
    "id": "zum-RbNDcDII"
   },
   "outputs": [],
   "source": [
    "## Import Libraries\n",
    "\n",
    "import numpy as np\n",
    "import pandas as pd\n",
    "\n",
    "%matplotlib inline\n",
    "import matplotlib.pyplot as plt\n",
    "\n",
    "# from sklearn import datasets\n",
    "from sklearn.datasets import make_circles\n",
    "import seaborn as sbn"
   ]
  },
  {
   "cell_type": "code",
   "execution_count": 3,
   "metadata": {
    "id": "ZAW0It7ZcDIO"
   },
   "outputs": [],
   "source": [
    "## Create data points (circles)\n",
    "\n",
    "np.random.seed(42)\n",
    "X = np.random.randn(100, 2)\n",
    "# Introduce some outliers\n",
    "outliers = np.array([[8, 8], [9, 9], [10, 10]])\n",
    "X = np.vstack([X, outliers])\n"
   ]
  },
  {
   "cell_type": "code",
   "execution_count": 5,
   "metadata": {},
   "outputs": [
    {
     "name": "stdout",
     "output_type": "stream",
     "text": [
      "[[ 4.96714153e-01 -1.38264301e-01]\n",
      " [ 6.47688538e-01  1.52302986e+00]\n",
      " [-2.34153375e-01 -2.34136957e-01]\n",
      " [ 1.57921282e+00  7.67434729e-01]\n",
      " [-4.69474386e-01  5.42560044e-01]\n",
      " [-4.63417693e-01 -4.65729754e-01]\n",
      " [ 2.41962272e-01 -1.91328024e+00]\n",
      " [-1.72491783e+00 -5.62287529e-01]\n",
      " [-1.01283112e+00  3.14247333e-01]\n",
      " [-9.08024076e-01 -1.41230370e+00]\n",
      " [ 1.46564877e+00 -2.25776300e-01]\n",
      " [ 6.75282047e-02 -1.42474819e+00]\n",
      " [-5.44382725e-01  1.10922590e-01]\n",
      " [-1.15099358e+00  3.75698018e-01]\n",
      " [-6.00638690e-01 -2.91693750e-01]\n",
      " [-6.01706612e-01  1.85227818e+00]\n",
      " [-1.34972247e-02 -1.05771093e+00]\n",
      " [ 8.22544912e-01 -1.22084365e+00]\n",
      " [ 2.08863595e-01 -1.95967012e+00]\n",
      " [-1.32818605e+00  1.96861236e-01]\n",
      " [ 7.38466580e-01  1.71368281e-01]\n",
      " [-1.15648282e-01 -3.01103696e-01]\n",
      " [-1.47852199e+00 -7.19844208e-01]\n",
      " [-4.60638771e-01  1.05712223e+00]\n",
      " [ 3.43618290e-01 -1.76304016e+00]\n",
      " [ 3.24083969e-01 -3.85082280e-01]\n",
      " [-6.76922000e-01  6.11676289e-01]\n",
      " [ 1.03099952e+00  9.31280119e-01]\n",
      " [-8.39217523e-01 -3.09212376e-01]\n",
      " [ 3.31263431e-01  9.75545127e-01]\n",
      " [-4.79174238e-01 -1.85658977e-01]\n",
      " [-1.10633497e+00 -1.19620662e+00]\n",
      " [ 8.12525822e-01  1.35624003e+00]\n",
      " [-7.20101216e-02  1.00353290e+00]\n",
      " [ 3.61636025e-01 -6.45119755e-01]\n",
      " [ 3.61395606e-01  1.53803657e+00]\n",
      " [-3.58260391e-02  1.56464366e+00]\n",
      " [-2.61974510e+00  8.21902504e-01]\n",
      " [ 8.70470682e-02 -2.99007350e-01]\n",
      " [ 9.17607765e-02 -1.98756891e+00]\n",
      " [-2.19671888e-01  3.57112572e-01]\n",
      " [ 1.47789404e+00 -5.18270218e-01]\n",
      " [-8.08493603e-01 -5.01757044e-01]\n",
      " [ 9.15402118e-01  3.28751110e-01]\n",
      " [-5.29760204e-01  5.13267433e-01]\n",
      " [ 9.70775493e-02  9.68644991e-01]\n",
      " [-7.02053094e-01 -3.27662147e-01]\n",
      " [-3.92108153e-01 -1.46351495e+00]\n",
      " [ 2.96120277e-01  2.61055272e-01]\n",
      " [ 5.11345664e-03 -2.34587133e-01]\n",
      " [-1.41537074e+00 -4.20645323e-01]\n",
      " [-3.42714517e-01 -8.02277269e-01]\n",
      " [-1.61285712e-01  4.04050857e-01]\n",
      " [ 1.88618590e+00  1.74577813e-01]\n",
      " [ 2.57550391e-01 -7.44459158e-02]\n",
      " [-1.91877122e+00 -2.65138754e-02]\n",
      " [ 6.02302099e-02  2.46324211e+00]\n",
      " [-1.92360965e-01  3.01547342e-01]\n",
      " [-3.47117697e-02 -1.16867804e+00]\n",
      " [ 1.14282281e+00  7.51933033e-01]\n",
      " [ 7.91031947e-01 -9.09387455e-01]\n",
      " [ 1.40279431e+00 -1.40185106e+00]\n",
      " [ 5.86857094e-01  2.19045563e+00]\n",
      " [-9.90536325e-01 -5.66297730e-01]\n",
      " [ 9.96513651e-02 -5.03475654e-01]\n",
      " [-1.55066343e+00  6.85629748e-02]\n",
      " [-1.06230371e+00  4.73592431e-01]\n",
      " [-9.19424234e-01  1.54993441e+00]\n",
      " [-7.83253292e-01 -3.22061516e-01]\n",
      " [ 8.13517217e-01 -1.23086432e+00]\n",
      " [ 2.27459935e-01  1.30714275e+00]\n",
      " [-1.60748323e+00  1.84633859e-01]\n",
      " [ 2.59882794e-01  7.81822872e-01]\n",
      " [-1.23695071e+00 -1.32045661e+00]\n",
      " [ 5.21941566e-01  2.96984673e-01]\n",
      " [ 2.50492850e-01  3.46448209e-01]\n",
      " [-6.80024722e-01  2.32253697e-01]\n",
      " [ 2.93072473e-01 -7.14351418e-01]\n",
      " [ 1.86577451e+00  4.73832921e-01]\n",
      " [-1.19130350e+00  6.56553609e-01]\n",
      " [-9.74681670e-01  7.87084604e-01]\n",
      " [ 1.15859558e+00 -8.20682318e-01]\n",
      " [ 9.63376129e-01  4.12780927e-01]\n",
      " [ 8.22060160e-01  1.89679298e+00]\n",
      " [-2.45388116e-01 -7.53736164e-01]\n",
      " [-8.89514430e-01 -8.15810285e-01]\n",
      " [-7.71017094e-02  3.41151975e-01]\n",
      " [ 2.76690799e-01  8.27183249e-01]\n",
      " [ 1.30018919e-02  1.45353408e+00]\n",
      " [-2.64656833e-01  2.72016917e+00]\n",
      " [ 6.25667348e-01 -8.57157556e-01]\n",
      " [-1.07089250e+00  4.82472415e-01]\n",
      " [-2.23462785e-01  7.14000494e-01]\n",
      " [ 4.73237625e-01 -7.28289127e-02]\n",
      " [-8.46793718e-01 -1.51484722e+00]\n",
      " [-4.46514952e-01  8.56398794e-01]\n",
      " [ 2.14093744e-01 -1.24573878e+00]\n",
      " [ 1.73180926e-01  3.85317380e-01]\n",
      " [-8.83857436e-01  1.53725106e-01]\n",
      " [ 5.82087184e-02 -1.14297030e+00]\n",
      " [ 8.00000000e+00  8.00000000e+00]\n",
      " [ 9.00000000e+00  9.00000000e+00]\n",
      " [ 1.00000000e+01  1.00000000e+01]]\n"
     ]
    }
   ],
   "source": [
    "print(X)"
   ]
  },
  {
   "cell_type": "code",
   "execution_count": 6,
   "metadata": {},
   "outputs": [
    {
     "name": "stdout",
     "output_type": "stream",
     "text": [
      "\n"
     ]
    }
   ],
   "source": [
    "print(_)"
   ]
  },
  {
   "cell_type": "code",
   "execution_count": 8,
   "metadata": {
    "id": "sdtBepK7cDIT"
   },
   "outputs": [],
   "source": [
    "## Convert data into a DataFrame\n",
    "\n",
    "# Declare the column names\n",
    "columns = 'A B'.split()\n",
    "\n",
    "# Load the dataset as a pandas data frame\n",
    "X = pd.DataFrame(X, columns = columns)"
   ]
  },
  {
   "cell_type": "code",
   "execution_count": 6,
   "metadata": {},
   "outputs": [
    {
     "name": "stdout",
     "output_type": "stream",
     "text": [
      "['A', 'B']\n"
     ]
    }
   ],
   "source": [
    "print(columns)"
   ]
  },
  {
   "cell_type": "code",
   "execution_count": null,
   "metadata": {},
   "outputs": [],
   "source": []
  },
  {
   "cell_type": "code",
   "execution_count": 7,
   "metadata": {},
   "outputs": [
    {
     "data": {
      "text/html": [
       "<div>\n",
       "<style scoped>\n",
       "    .dataframe tbody tr th:only-of-type {\n",
       "        vertical-align: middle;\n",
       "    }\n",
       "\n",
       "    .dataframe tbody tr th {\n",
       "        vertical-align: top;\n",
       "    }\n",
       "\n",
       "    .dataframe thead th {\n",
       "        text-align: right;\n",
       "    }\n",
       "</style>\n",
       "<table border=\"1\" class=\"dataframe\">\n",
       "  <thead>\n",
       "    <tr style=\"text-align: right;\">\n",
       "      <th></th>\n",
       "      <th>A</th>\n",
       "      <th>B</th>\n",
       "    </tr>\n",
       "  </thead>\n",
       "  <tbody>\n",
       "    <tr>\n",
       "      <th>0</th>\n",
       "      <td>-0.210620</td>\n",
       "      <td>0.246516</td>\n",
       "    </tr>\n",
       "    <tr>\n",
       "      <th>1</th>\n",
       "      <td>-0.349708</td>\n",
       "      <td>0.020755</td>\n",
       "    </tr>\n",
       "    <tr>\n",
       "      <th>2</th>\n",
       "      <td>0.385541</td>\n",
       "      <td>0.082358</td>\n",
       "    </tr>\n",
       "    <tr>\n",
       "      <th>3</th>\n",
       "      <td>1.001604</td>\n",
       "      <td>0.237919</td>\n",
       "    </tr>\n",
       "    <tr>\n",
       "      <th>4</th>\n",
       "      <td>0.208312</td>\n",
       "      <td>-0.150387</td>\n",
       "    </tr>\n",
       "  </tbody>\n",
       "</table>\n",
       "</div>"
      ],
      "text/plain": [
       "          A         B\n",
       "0 -0.210620  0.246516\n",
       "1 -0.349708  0.020755\n",
       "2  0.385541  0.082358\n",
       "3  1.001604  0.237919\n",
       "4  0.208312 -0.150387"
      ]
     },
     "execution_count": 7,
     "metadata": {},
     "output_type": "execute_result"
    }
   ],
   "source": [
    "X.head()"
   ]
  },
  {
   "cell_type": "code",
   "execution_count": 9,
   "metadata": {
    "id": "gIBRCis9cDIX"
   },
   "outputs": [
    {
     "name": "stdout",
     "output_type": "stream",
     "text": [
      "X is a <class 'pandas.core.frame.DataFrame'>\n",
      "X has 103 rows and 2 columns\n",
      "Basic Statistics about X__________________________________________________\n",
      "                A           B\n",
      "count  103.000000  103.000000\n",
      "mean     0.149938    0.295167\n",
      "std      1.761834    1.812041\n",
      "min     -2.619745   -1.987569\n",
      "25%     -0.691039   -0.605709\n",
      "50%     -0.013497    0.171368\n",
      "75%      0.417437    0.759684\n",
      "max     10.000000   10.000000\n",
      "\n",
      "Sample of X__________________________________________________\n",
      "          A         B\n",
      "0  0.496714 -0.138264\n",
      "1  0.647689  1.523030\n",
      "2 -0.234153 -0.234137\n",
      "3  1.579213  0.767435\n",
      "4 -0.469474  0.542560\n"
     ]
    }
   ],
   "source": [
    "## Check data\n",
    "\n",
    "# About X\n",
    "print('X is a %s' % type(X))\n",
    "print('X has %d rows and %d columns' % X.shape)\n",
    "print('Basic Statistics about X%s' % ('_'*50))\n",
    "print(X.describe())\n",
    "print('')\n",
    "print('Sample of X%s' % ('_'*50))\n",
    "print(X.head())"
   ]
  },
  {
   "cell_type": "code",
   "execution_count": 10,
   "metadata": {
    "id": "7FE7qadJcDIa"
   },
   "outputs": [
    {
     "data": {
      "image/png": "[encoded data removed]",
      "text/plain": [
       "<Figure size 500x500 with 6 Axes>"
      ]
     },
     "metadata": {},
     "output_type": "display_data"
    }
   ],
   "source": [
    "sbn.pairplot(X)\n",
    "plt.show()"
   ]
  },
  {
   "cell_type": "markdown",
   "metadata": {
    "id": "DGuCuMLhcDIf"
   },
   "source": [
    "### Question: What are other important things to know about the data? Comment on:\n",
    "- Types\n",
    "- Availability\n",
    "- Dispersion and Distribution\n",
    "\n",
    "### Question: Which features could/should be used to cluster the data points?"
   ]
  },
  {
   "cell_type": "code",
   "execution_count": 10,
   "metadata": {},
   "outputs": [
    {
     "data": {
      "text/html": [
       "<div>\n",
       "<style scoped>\n",
       "    .dataframe tbody tr th:only-of-type {\n",
       "        vertical-align: middle;\n",
       "    }\n",
       "\n",
       "    .dataframe tbody tr th {\n",
       "        vertical-align: top;\n",
       "    }\n",
       "\n",
       "    .dataframe thead th {\n",
       "        text-align: right;\n",
       "    }\n",
       "</style>\n",
       "<table border=\"1\" class=\"dataframe\">\n",
       "  <thead>\n",
       "    <tr style=\"text-align: right;\">\n",
       "      <th></th>\n",
       "      <th>A</th>\n",
       "      <th>B</th>\n",
       "    </tr>\n",
       "  </thead>\n",
       "  <tbody>\n",
       "    <tr>\n",
       "      <th>count</th>\n",
       "      <td>400.000000</td>\n",
       "      <td>400.000000</td>\n",
       "    </tr>\n",
       "    <tr>\n",
       "      <th>mean</th>\n",
       "      <td>0.000115</td>\n",
       "      <td>0.005709</td>\n",
       "    </tr>\n",
       "    <tr>\n",
       "      <th>std</th>\n",
       "      <td>0.529212</td>\n",
       "      <td>0.524754</td>\n",
       "    </tr>\n",
       "    <tr>\n",
       "      <th>min</th>\n",
       "      <td>-1.086089</td>\n",
       "      <td>-1.058164</td>\n",
       "    </tr>\n",
       "    <tr>\n",
       "      <th>25%</th>\n",
       "      <td>-0.286536</td>\n",
       "      <td>-0.291112</td>\n",
       "    </tr>\n",
       "    <tr>\n",
       "      <th>50%</th>\n",
       "      <td>-0.006409</td>\n",
       "      <td>0.018730</td>\n",
       "    </tr>\n",
       "    <tr>\n",
       "      <th>75%</th>\n",
       "      <td>0.298106</td>\n",
       "      <td>0.289370</td>\n",
       "    </tr>\n",
       "    <tr>\n",
       "      <th>max</th>\n",
       "      <td>1.110063</td>\n",
       "      <td>1.072494</td>\n",
       "    </tr>\n",
       "  </tbody>\n",
       "</table>\n",
       "</div>"
      ],
      "text/plain": [
       "                A           B\n",
       "count  400.000000  400.000000\n",
       "mean     0.000115    0.005709\n",
       "std      0.529212    0.524754\n",
       "min     -1.086089   -1.058164\n",
       "25%     -0.286536   -0.291112\n",
       "50%     -0.006409    0.018730\n",
       "75%      0.298106    0.289370\n",
       "max      1.110063    1.072494"
      ]
     },
     "execution_count": 10,
     "metadata": {},
     "output_type": "execute_result"
    }
   ],
   "source": [
    "X.describe()"
   ]
  },
  {
   "cell_type": "code",
   "execution_count": 11,
   "metadata": {},
   "outputs": [
    {
     "name": "stdout",
     "output_type": "stream",
     "text": [
      "<class 'pandas.core.frame.DataFrame'>\n",
      "RangeIndex: 400 entries, 0 to 399\n",
      "Data columns (total 2 columns):\n",
      " #   Column  Non-Null Count  Dtype  \n",
      "---  ------  --------------  -----  \n",
      " 0   A       400 non-null    float64\n",
      " 1   B       400 non-null    float64\n",
      "dtypes: float64(2)\n",
      "memory usage: 6.4 KB\n"
     ]
    }
   ],
   "source": [
    "X.info()"
   ]
  },
  {
   "cell_type": "code",
   "execution_count": 17,
   "metadata": {},
   "outputs": [
    {
     "name": "stdout",
     "output_type": "stream",
     "text": [
      "maxA= 10.0 minA= -2.6197451040897444 maxB= 10.0 minB= -1.9875689146008928\n"
     ]
    }
   ],
   "source": [
    "maxA=X['A'].max()\n",
    "minA=X['A'].min()\n",
    "minB=X['B'].min()\n",
    "maxB=X['B'].max()\n",
    "\n",
    "print('maxA=',maxA,\"minA=\", minA,\"maxB=\",maxB,\"minB=\",minB)"
   ]
  },
  {
   "cell_type": "code",
   "execution_count": 20,
   "metadata": {},
   "outputs": [
    {
     "name": "stdout",
     "output_type": "stream",
     "text": [
      "-2.6197451040897444 <built-in function max>\n"
     ]
    }
   ],
   "source": [
    "if minA>minB:\n",
    "    min=minB\n",
    "else:\n",
    "    min=minA\n",
    "\n",
    "if maxA>maxB:\n",
    "    max=maxB\n",
    "else:\n",
    "    mmax=maxA\n",
    "print(min,max)"
   ]
  },
  {
   "cell_type": "code",
   "execution_count": 19,
   "metadata": {
    "id": "ff-KC1BjcDIg"
   },
   "outputs": [
    {
     "ename": "TypeError",
     "evalue": "float() argument must be a string or a real number, not 'builtin_function_or_method'",
     "output_type": "error",
     "traceback": [
      "\u001b[0;31m---------------------------------------------------------------------------\u001b[0m",
      "\u001b[0;31mTypeError\u001b[0m                                 Traceback (most recent call last)",
      "Cell \u001b[0;32mIn[19], line 20\u001b[0m\n\u001b[1;32m     18\u001b[0m         centroids\u001b[38;5;241m.\u001b[39mappend(dimensions)\n\u001b[1;32m     19\u001b[0m     \u001b[38;5;28;01mreturn\u001b[39;00m centroids\n\u001b[0;32m---> 20\u001b[0m \u001b[38;5;28mprint\u001b[39m(create_centroids(\u001b[38;5;241m4\u001b[39m,X[[\u001b[38;5;124m'\u001b[39m\u001b[38;5;124mA\u001b[39m\u001b[38;5;124m'\u001b[39m,\u001b[38;5;124m'\u001b[39m\u001b[38;5;124mB\u001b[39m\u001b[38;5;124m'\u001b[39m]]))\n",
      "Cell \u001b[0;32mIn[19], line 15\u001b[0m, in \u001b[0;36mcreate_centroids\u001b[0;34m(K, features)\u001b[0m\n\u001b[1;32m     12\u001b[0m dimensions \u001b[38;5;241m=\u001b[39m []\n\u001b[1;32m     13\u001b[0m \u001b[38;5;28;01mfor\u001b[39;00m f \u001b[38;5;129;01min\u001b[39;00m features:\n\u001b[1;32m     14\u001b[0m     \u001b[38;5;66;03m# create a random number between the minimum and maximum of each feature\u001b[39;00m\n\u001b[0;32m---> 15\u001b[0m     x \u001b[38;5;241m=\u001b[39m np\u001b[38;5;241m.\u001b[39mrandom\u001b[38;5;241m.\u001b[39muniform(\u001b[38;5;28mmin\u001b[39m,\u001b[38;5;28mmax\u001b[39m)\n\u001b[1;32m     16\u001b[0m     dimensions\u001b[38;5;241m.\u001b[39mappend(x)\n\u001b[1;32m     17\u001b[0m \u001b[38;5;66;03m# add all dimensions for the centroids of each cluster\u001b[39;00m\n",
      "File \u001b[0;32mmtrand.pyx:1112\u001b[0m, in \u001b[0;36mnumpy.random.mtrand.RandomState.uniform\u001b[0;34m()\u001b[0m\n",
      "\u001b[0;31mTypeError\u001b[0m: float() argument must be a string or a real number, not 'builtin_function_or_method'"
     ]
    }
   ],
   "source": [
    "## Create some supporting functions\n",
    "\n",
    "\n",
    "\n",
    "# Create new centroids randomly for all the K clusters including all dimensions\n",
    "def create_centroids(K, features):\n",
    "    # start with No centroids\n",
    "    centroids = []\n",
    "    # need one centroid for each cluster\n",
    "    for i in range(K):\n",
    "        # it can be multi-dimensional\n",
    "        dimensions = []\n",
    "        for f in features:\n",
    "            # create a random number between the minimum and maximum of each feature\n",
    "            x = np.random.uniform(min,max)\n",
    "            dimensions.append(x)\n",
    "        # add all dimensions for the centroids of each cluster\n",
    "        centroids.append(dimensions)\n",
    "    return centroids\n",
    "print(create_centroids(4,X[['A','B']]))"
   ]
  },
  {
   "cell_type": "code",
   "execution_count": 15,
   "metadata": {
    "id": "FFa35N4FcDIj"
   },
   "outputs": [],
   "source": [
    "# Identify the closest centroid for a given data point\n",
    "def closest_centroid(x, centroids):\n",
    "    distances = []\n",
    "    # convert x to a numpy.array; x contains all the features of a data point\n",
    "    p = np.array(x)\n",
    "    for c in centroids:\n",
    "        # convert c to a numpy.array; c contains the coordinates for all the features\n",
    "        q = np.array(c)\n",
    "        # calculate the Euclidean distance between data point `x` and centroid `c`\n",
    "        d = np.sqrt((p - q) ** 2).sum()\n",
    "        # add the distance for each centroid\n",
    "        distances.append(d)\n",
    "\n",
    "    # return the position (cluster) which has the smallest distance\n",
    "    return np.array(distances).argmin()"
   ]
  },
  {
   "cell_type": "code",
   "execution_count": 37,
   "metadata": {
    "id": "dVO4L9UVcDIl"
   },
   "outputs": [],
   "source": [
    "# recalculate all the centroids based on the mean of the members of each cluster\n",
    "def update_centroid(X, y, centroids):\n",
    "    c = []\n",
    "    # for each of the existing centroids\n",
    "    for i in range(len(centroids)):\n",
    "        # check if any object was assigned to a cluster\n",
    "        if X[y == i].shape[0]:\n",
    "            dimensions = []\n",
    "            # for all the features\n",
    "            for f in X.columns:\n",
    "                # calculate the mean\n",
    "                x = X[f][y==i].mean()\n",
    "                dimensions.append(x)\n",
    "            c.append(dimensions)\n",
    "        # if a cluster got no members\n",
    "        else:\n",
    "            # keep the previous coordinates\n",
    "            c.append(centroids[i])\n",
    "\n",
    "    return c"
   ]
  },
  {
   "cell_type": "code",
   "execution_count": 35,
   "metadata": {
    "id": "UPfLWXmrcDIo"
   },
   "outputs": [],
   "source": [
    "# plot a chart of the data points and centroids either generic or identifying the clusters\n",
    "# NOTE: for visualisation purposes, only consider the first two features\n",
    "def plot_data(ax, X, y, centroids, show_clusters = True):\n",
    "    # unpack the coordinates of the centroids\n",
    "    a = [z[0] for z in centroids]\n",
    "    b = [z[1] for z in centroids]\n",
    "\n",
    "    # show distinct colours if asked to identify the clusters\n",
    "    if show_clusters:\n",
    "        colours = 'rgbykcm'\n",
    "        for i in range(len(centroids)):\n",
    "            ax.scatter(X[features[0]][y == i], X[features[1]][y == i], c = colours[i], label = 'Cluster %d' % i)\n",
    "    # show data points without cluster identification\n",
    "    else:\n",
    "        ax.scatter(X[features[0]], X[features[1]], label = 'Data Point')\n",
    "\n",
    "    # label the features\n",
    "    ax.set_xlabel(features[0])\n",
    "    ax.set_ylabel(features[1])\n",
    "\n",
    "    # identify the centroids\n",
    "    ax.scatter(a, b, c = 'k', linewidths = 5, marker = 'x', label = 'Centroid')\n",
    "    for i in range(len(a)):\n",
    "        c = colours[i] if show_clusters else 'k'\n",
    "        ax.axvline(x = a[i], color = c, linestyle = '--', linewidth = 1)\n",
    "        ax.axhline(y = b[i], color = c, linestyle = '--', linewidth = 1)\n",
    "\n",
    "    # create a text to show the centroids' coordinates\n",
    "    t = '\\n'.join(['%d: (%.3f, %.3f)' % (i, a, b) for (i, (a, b)) in enumerate(centroids)])\n",
    "    ax.text(0.69, -1.1, t)\n",
    "\n",
    "    ax.legend()"
   ]
  },
  {
   "cell_type": "code",
   "execution_count": 38,
   "metadata": {
    "id": "ZfFtsedtcDIs",
    "scrolled": false
   },
   "outputs": [
    {
     "data": {
      "image/png": "[encoded data removed]",
      "text/plain": [
       "<Figure size 1800x800 with 2 Axes>"
      ]
     },
     "metadata": {},
     "output_type": "display_data"
    }
   ],
   "source": [
    "## K_Means\n",
    "## Note that the comments match the outlined K-Means Algorithm in the presentation\n",
    "\n",
    "# 1. Define the number of clusters `K`\n",
    "K = 1 # choose different values for `K`\n",
    "\n",
    "# list the features to be used\n",
    "features = ['A', 'B']\n",
    "\n",
    "# 2. Select `K` cluster centres randomly\n",
    "centroids = create_centroids(K, features)\n",
    "\n",
    "# plot the data points and initial centroids (the 'Before')\n",
    "fig, axes = plt.subplots(nrows = 1, ncols = 2, figsize = (18, 8))\n",
    "plot_data(axes[0], X[features], None, centroids, False)\n",
    "\n",
    "# repeat util makes no moves\n",
    "while True:\n",
    "    # 3. Calculate the distance between each data point and cluster centres\n",
    "    # 4. Assign the data point to the cluster whose distance from its centre is minimum\n",
    "    y = X[features].apply(lambda x: closest_centroid(x, centroids), axis = 1).values\n",
    "    # move the known assignment be the previous state, for post comparison\n",
    "    old_c = centroids.copy()\n",
    "\n",
    "    # 5. Recalculate all new cluster centres by averaging the objects of each cluster\n",
    "    centroids = update_centroid(X[features], y, centroids)\n",
    "\n",
    "    # 6. Repeat steps 3 to 5 until the centroids do not change\n",
    "    if old_c == centroids:\n",
    "        break\n",
    "\n",
    "# plot the data points identified by cluster and final centroids (the 'After')\n",
    "plot_data(axes[1], X[features], y, centroids)\n",
    "plt.show()"
   ]
  },
  {
   "cell_type": "code",
   "execution_count": null,
   "metadata": {},
   "outputs": [],
   "source": [
    "while True: # 3. Calculate the distance between each data point and cluster centers # 4. Assign the data point to the cluster whose distance from its center is minimum y = X[features].apply(lambda x: closest_centroid(x, centroids), axis=1).values # If this is not the first iteration, calculate the number of assignment changes if previous_assignments is not None: changes = np.sum(previous_assignments != y) assignment_changes.append(changes) print(f\"Iteration {len(assignment_changes)}: {changes} points changed clusters.\") # Store the current assignments for the next iteration's comparison previous_assignments = y.copy() # Move the known assignment to the previous state for post comparison old_c = centroids.copy() # 5. Recalculate all new cluster centers by averaging the objects of each cluster centroids = update_centroid(X[features], y, centroids) centroids_list.append(centroids) # 6. Repeat steps 3 to 5 until the centroids do not change or until no assignments change if np.array_equal(old_c, centroids): break"
   ]
  },
  {
   "cell_type": "markdown",
   "metadata": {
    "id": "0FgcU4k7cDIv"
   },
   "source": [
    "### Question: What happens if the algorithm is run multiple times?\n",
    "### Question: What happens if `K` is changed?"
   ]
  },
  {
   "cell_type": "markdown",
   "metadata": {
    "id": "IS5Tc4z9FoYy"
   },
   "source": [
    ">"
   ]
  },
  {
   "cell_type": "markdown",
   "metadata": {
    "id": "mxI2We9OFpfs"
   },
   "source": [
    ">"
   ]
  },
  {
   "cell_type": "markdown",
   "metadata": {
    "id": "81DoNxN1FqGN"
   },
   "source": [
    ">"
   ]
  },
  {
   "cell_type": "markdown",
   "metadata": {
    "id": "RERADKgNFq9T"
   },
   "source": [
    "\n",
    "\n",
    "---\n",
    "\n",
    "\n",
    "\n",
    "---\n",
    "\n",
    "\n",
    "\n",
    "> > > > > > > > > © 2024 Institute of Data\n",
    "\n",
    "\n",
    "---\n",
    "\n",
    "\n",
    "\n",
    "---\n",
    "\n",
    "\n",
    "\n"
   ]
  }
 ],
 "metadata": {
  "colab": {
   "provenance": []
  },
  "kernelspec": {
   "display_name": "Python 3 (ipykernel)",
   "language": "python",
   "name": "python3"
  },
  "language_info": {
   "codemirror_mode": {
    "name": "ipython",
    "version": 3
   },
   "file_extension": ".py",
   "mimetype": "text/x-python",
   "name": "python",
   "nbconvert_exporter": "python",
   "pygments_lexer": "ipython3",
   "version": "3.11.3"
  }
 },
 "nbformat": 4,
 "nbformat_minor": 1
}
