{
 "cells": [
  {
   "cell_type": "markdown",
   "metadata": {
    "id": "-GdLTXyzcDIE"
   },
   "source": [
    "<div>\n",
    "<img src=https://www.institutedata.com/wp-content/uploads/2019/10/iod_h_tp_primary_c.svg width=\"300\">\n",
    "</div>"
   ]
  },
  {
   "cell_type": "markdown",
   "metadata": {
    "id": "S6YUpexPcDIH"
   },
   "source": [
    "# Lab 6.2: K-Means bad cases\n",
    "\n",
    "INSTRUCTIONS:\n",
    "\n",
    "- Replace the `___` with proper code to run the cells\n",
    "- Observe and understand the results\n",
    "- Answer the questions"
   ]
  },
  {
   "cell_type": "code",
   "execution_count": 1,
   "metadata": {
    "id": "zum-RbNDcDII"
   },
   "outputs": [],
   "source": [
    "## Import Libraries\n",
    "\n",
    "import numpy as np\n",
    "import pandas as pd\n",
    "\n",
    "%matplotlib inline\n",
    "import matplotlib.pyplot as plt\n",
    "\n",
    "# from sklearn import datasets\n",
    "from sklearn.datasets import make_circles\n",
    "import seaborn as sbn"
   ]
  },
  {
   "cell_type": "code",
   "execution_count": 2,
   "metadata": {
    "id": "ZAW0It7ZcDIO"
   },
   "outputs": [],
   "source": [
    "## Create data points (circles)\n",
    "\n",
    "# Make Random Circles\n",
    "X1, _ = make_circles(n_samples = 400, factor = 0.3, noise = 0.05)"
   ]
  },
  {
   "cell_type": "code",
   "execution_count": 3,
   "metadata": {},
   "outputs": [
    {
     "name": "stdout",
     "output_type": "stream",
     "text": [
      "[[-2.10620228e-01  2.46515573e-01]\n",
      " [-3.49707500e-01  2.07549275e-02]\n",
      " [ 3.85540878e-01  8.23575201e-02]\n",
      " [ 1.00160423e+00  2.37919271e-01]\n",
      " [ 2.08311821e-01 -1.50386971e-01]\n",
      " [ 1.97700542e-01 -2.34167472e-01]\n",
      " [-1.58369727e-01 -2.82139786e-01]\n",
      " [-2.76059635e-01 -1.83472214e-01]\n",
      " [-1.37980757e-01 -3.38186739e-01]\n",
      " [-9.05278524e-01  4.93318369e-01]\n",
      " [-1.15182979e-01 -3.16047857e-01]\n",
      " [ 7.65747004e-02 -2.40309562e-01]\n",
      " [ 6.92094911e-01  7.60165985e-01]\n",
      " [ 1.08793975e-01 -2.65999247e-01]\n",
      " [-1.64882414e-01 -9.99204566e-01]\n",
      " [ 9.54995846e-01  3.45185037e-01]\n",
      " [ 4.62059624e-01 -8.35102025e-01]\n",
      " [ 2.61533922e-01  1.97002922e-01]\n",
      " [ 4.45466921e-01  8.91736248e-01]\n",
      " [-3.24763457e-01 -4.06367048e-02]\n",
      " [-1.02773280e+00 -1.33715450e-01]\n",
      " [-4.84898107e-03  2.43784320e-01]\n",
      " [-2.43784451e-01  2.03114885e-01]\n",
      " [ 6.80608532e-02 -2.91361177e-01]\n",
      " [ 4.25492820e-01  8.92963211e-01]\n",
      " [-1.38808086e-01  3.19675507e-01]\n",
      " [ 3.70743506e-01 -8.78093477e-01]\n",
      " [-7.76837769e-03 -2.78224190e-01]\n",
      " [ 2.17307258e-01 -1.70998164e-01]\n",
      " [ 1.04616131e+00 -3.74128427e-01]\n",
      " [-1.01786543e+00 -8.06055215e-02]\n",
      " [ 1.44423277e-01  2.63192913e-01]\n",
      " [-9.37807576e-01  4.69793867e-01]\n",
      " [-9.22300236e-01 -4.88166740e-01]\n",
      " [-2.17846885e-01  9.55136959e-01]\n",
      " [-3.44988013e-01 -1.53611104e-01]\n",
      " [ 9.27679994e-01  3.98108912e-01]\n",
      " [ 1.98193169e-01 -9.85675445e-01]\n",
      " [ 8.29178097e-01  3.23742512e-01]\n",
      " [-9.40065242e-01 -1.59835405e-01]\n",
      " [-2.26879505e-01  2.74929963e-01]\n",
      " [-6.87554400e-01 -6.37986146e-01]\n",
      " [-1.77364118e-01 -1.80444647e-01]\n",
      " [-3.50054267e-01  9.75840270e-02]\n",
      " [-2.05443427e-01 -2.34113310e-01]\n",
      " [ 2.89955008e-01 -1.09564730e-01]\n",
      " [-7.73828653e-03 -1.00801577e+00]\n",
      " [-6.10623238e-01 -7.04883856e-01]\n",
      " [ 1.04794856e+00  4.67198355e-02]\n",
      " [ 3.44328868e-01 -7.43768843e-02]\n",
      " [ 1.94624361e-01 -1.28618863e-01]\n",
      " [-2.48743766e-01  3.40208647e-01]\n",
      " [ 9.80136716e-01 -1.90493064e-02]\n",
      " [-2.93260750e-01  9.77877239e-02]\n",
      " [ 6.15498033e-01 -7.37592137e-01]\n",
      " [ 8.24239472e-01  4.18893770e-01]\n",
      " [-5.43532958e-01  8.39747888e-01]\n",
      " [-8.93685930e-01  2.51364989e-01]\n",
      " [-5.46504660e-01  9.50949155e-01]\n",
      " [ 9.93530858e-02 -2.48545348e-01]\n",
      " [ 5.66643675e-03 -3.06935061e-01]\n",
      " [-9.65402530e-01 -3.16770155e-01]\n",
      " [-1.44618773e-01  3.61863610e-01]\n",
      " [-1.53354936e-01  2.55133539e-01]\n",
      " [-3.06442528e-01 -1.30967356e-01]\n",
      " [-1.01995894e+00  3.98644200e-02]\n",
      " [ 2.77382308e-01  2.19204557e-01]\n",
      " [ 1.01148377e+00 -3.47654651e-01]\n",
      " [-4.07963546e-02  1.01055384e+00]\n",
      " [-1.02288304e+00  4.91163133e-02]\n",
      " [ 9.24189855e-01 -3.66995467e-01]\n",
      " [ 4.12527531e-03 -4.17368988e-01]\n",
      " [ 8.57105926e-01 -5.61633199e-01]\n",
      " [-1.53933508e-01 -2.61502194e-01]\n",
      " [-3.16294179e-02  9.56732337e-01]\n",
      " [ 3.74588944e-01 -9.19487583e-01]\n",
      " [ 1.27917207e-01 -9.11885986e-01]\n",
      " [ 2.90713107e-01  3.93188359e-02]\n",
      " [ 4.80859515e-01  9.25813241e-01]\n",
      " [ 3.11846071e-01  9.50124156e-01]\n",
      " [-8.89775002e-01  5.64026437e-01]\n",
      " [-5.31183151e-03  1.69814691e-01]\n",
      " [ 2.43097264e-01  4.67719093e-03]\n",
      " [-2.37203148e-01  2.15920520e-01]\n",
      " [ 1.33336681e-01 -2.15998285e-01]\n",
      " [-9.28849083e-01 -1.77589409e-01]\n",
      " [-4.67701272e-01  8.31261547e-01]\n",
      " [ 1.73962617e-01 -9.90311235e-01]\n",
      " [ 8.31138056e-01  5.73915529e-01]\n",
      " [ 5.93713261e-01  8.60021800e-01]\n",
      " [ 3.61007895e-01 -9.16134698e-01]\n",
      " [ 1.80988305e-01  8.58436616e-01]\n",
      " [-2.78312088e-01  9.37510341e-02]\n",
      " [ 1.47203320e-01  2.99166560e-01]\n",
      " [-4.64821693e-01 -9.12404331e-01]\n",
      " [ 8.04277612e-01  5.42046358e-01]\n",
      " [ 7.59755148e-02  2.72194433e-01]\n",
      " [ 1.96502496e-01  1.13264764e-01]\n",
      " [ 5.75834175e-01  8.72981383e-01]\n",
      " [ 1.79021567e-01  2.49466858e-01]\n",
      " [-7.32268551e-02  2.25547700e-01]\n",
      " [-3.17114985e-01 -3.44428306e-02]\n",
      " [ 9.23869762e-01 -3.35277606e-01]\n",
      " [-3.01191655e-01  2.14314819e-01]\n",
      " [ 2.58381785e-02 -3.48763978e-01]\n",
      " [-6.52565923e-01 -7.41313218e-01]\n",
      " [ 8.84335002e-02 -3.00889662e-01]\n",
      " [ 2.28525509e-01  1.00334833e+00]\n",
      " [ 2.22259052e-01 -1.99601071e-01]\n",
      " [ 1.94515612e-01 -1.56379065e-01]\n",
      " [ 2.21697990e-01 -1.73473945e-01]\n",
      " [-2.23441639e-01  3.05694785e-01]\n",
      " [ 6.45567858e-01 -5.68235904e-01]\n",
      " [ 3.53843349e-01  8.88931663e-01]\n",
      " [-9.33436421e-02 -1.01305761e+00]\n",
      " [ 1.21221251e-01  2.29752685e-01]\n",
      " [-1.86851860e-01  2.56374209e-02]\n",
      " [ 2.72870098e-01 -6.17605339e-02]\n",
      " [ 3.15257766e-01 -1.97254889e-01]\n",
      " [ 1.93235385e-01 -1.03841875e-01]\n",
      " [ 2.78094605e-01 -6.34115044e-02]\n",
      " [-1.02381567e+00  7.80793351e-02]\n",
      " [ 1.43400839e-01  3.31440689e-01]\n",
      " [-6.23537466e-01 -8.18183359e-01]\n",
      " [ 1.09116389e+00  1.67060077e-02]\n",
      " [-8.62583605e-01  4.68714101e-01]\n",
      " [ 2.48714992e-01  1.30754271e-01]\n",
      " [-5.08787881e-01 -8.96897906e-01]\n",
      " [-1.99530086e-01 -2.39052765e-01]\n",
      " [-7.50538762e-03  2.34375781e-01]\n",
      " [ 4.17977479e-01 -8.76708055e-01]\n",
      " [ 9.41769857e-01  2.94539812e-01]\n",
      " [-7.64154291e-01 -6.92566442e-01]\n",
      " [-1.04236317e+00 -9.10711702e-02]\n",
      " [-1.87811194e-01  1.85851479e-01]\n",
      " [-6.35781929e-02  3.84952526e-01]\n",
      " [-1.59147659e-01 -1.01765270e+00]\n",
      " [ 9.00135657e-01 -5.68170607e-01]\n",
      " [ 2.21816968e-01 -2.01485634e-01]\n",
      " [ 2.00217923e-01  3.12647338e-01]\n",
      " [-8.70734238e-01 -4.48741238e-01]\n",
      " [-5.82688976e-01  8.26075742e-01]\n",
      " [ 4.73793471e-01 -8.14645872e-01]\n",
      " [ 6.42903116e-02  2.10023627e-01]\n",
      " [ 8.40660070e-01 -4.83495660e-01]\n",
      " [ 1.12914825e-01 -2.79184628e-01]\n",
      " [-2.91562295e-01  2.03357721e-01]\n",
      " [ 3.38981105e-01 -8.47519078e-01]\n",
      " [-5.93476399e-01 -8.14085752e-01]\n",
      " [ 9.69287275e-01  2.36589280e-01]\n",
      " [ 9.72357085e-01  3.07478678e-01]\n",
      " [-2.71241382e-01 -1.01635610e+00]\n",
      " [ 3.22525498e-01  1.36519177e-01]\n",
      " [ 2.34757673e-01  1.30304908e-01]\n",
      " [-2.75463334e-01  5.36863828e-02]\n",
      " [ 2.45572239e-01  3.78520890e-01]\n",
      " [ 8.43174213e-01  5.01524554e-01]\n",
      " [ 1.13403705e-01  9.46525376e-01]\n",
      " [-8.41856503e-01  5.64059613e-01]\n",
      " [-7.33685187e-01  7.17125576e-01]\n",
      " [ 1.28785803e-01  2.82766052e-01]\n",
      " [ 2.57076281e-01  8.77032601e-02]\n",
      " [-1.00883191e+00  1.75598252e-01]\n",
      " [ 1.96596536e-01  1.51516547e-01]\n",
      " [-2.67019882e-01  1.28545745e-01]\n",
      " [-1.88554775e-01 -9.98067272e-01]\n",
      " [-2.58675733e-01 -5.79925824e-02]\n",
      " [ 2.62366127e-02  2.98733735e-01]\n",
      " [-1.08608865e+00  2.84736230e-03]\n",
      " [-3.06705082e-01 -1.15021274e-01]\n",
      " [-7.66033163e-02 -2.75960849e-01]\n",
      " [ 2.98062836e-02 -2.50564842e-01]\n",
      " [-2.79553515e-01  1.77055677e-01]\n",
      " [ 2.47686952e-01  2.40215695e-01]\n",
      " [-4.06531723e-02 -2.51022988e-01]\n",
      " [ 3.24664110e-01  2.13038729e-01]\n",
      " [ 1.02442738e+00  2.34145660e-01]\n",
      " [-9.23926049e-01  2.14702612e-01]\n",
      " [-2.32071100e-01  8.06541061e-02]\n",
      " [ 7.99402886e-01 -6.41580750e-01]\n",
      " [ 1.51923828e-01  3.54895793e-01]\n",
      " [-2.68089852e-01 -1.55762148e-01]\n",
      " [ 3.24619965e-01 -2.05930165e-01]\n",
      " [-1.05829172e-01 -2.53175420e-01]\n",
      " [ 2.90662449e-01  1.00374942e+00]\n",
      " [ 2.58924794e-01  9.99012423e-02]\n",
      " [ 6.78357555e-01  7.21027190e-01]\n",
      " [ 7.50279526e-01  7.75394524e-01]\n",
      " [-5.39636213e-01  7.93381455e-01]\n",
      " [-6.87439633e-01 -6.63336824e-01]\n",
      " [-2.86736998e-01 -6.25252497e-02]\n",
      " [-7.23767146e-01 -6.79842349e-01]\n",
      " [-4.89426661e-01  8.60439116e-01]\n",
      " [-9.19381416e-01  5.10023113e-01]\n",
      " [-2.47541575e-01 -6.38974508e-02]\n",
      " [ 2.98681702e-01 -1.17850689e-01]\n",
      " [ 4.36143133e-02  3.32807705e-01]\n",
      " [ 5.25087216e-02 -1.04222012e+00]\n",
      " [-6.20425962e-01  7.68255298e-01]\n",
      " [-8.81473674e-01 -3.98877714e-01]\n",
      " [-9.52891731e-01 -5.74232947e-01]\n",
      " [-9.06399328e-01  1.30683900e-01]\n",
      " [-1.51857119e-01  3.16950934e-01]\n",
      " [ 9.29442646e-01 -4.12874706e-01]\n",
      " [-9.92841197e-01  9.17544307e-02]\n",
      " [-2.62101056e-01 -6.29138412e-02]\n",
      " [ 6.53472770e-02 -2.82879490e-01]\n",
      " [ 3.51403637e-01  3.76052716e-02]\n",
      " [ 7.48767070e-01  6.98149209e-01]\n",
      " [ 9.13476158e-01  3.09311192e-02]\n",
      " [ 1.62898709e-01 -2.95417336e-01]\n",
      " [ 1.02928908e+00 -5.19309885e-02]\n",
      " [-1.54387031e-01 -2.16912446e-01]\n",
      " [-1.26434193e-01  9.70705224e-01]\n",
      " [-8.98768747e-01 -1.76392988e-01]\n",
      " [-7.61355438e-01  5.93470122e-01]\n",
      " [ 2.61841227e-01 -3.47758929e-02]\n",
      " [-7.89383836e-01  6.93537380e-01]\n",
      " [ 7.47021193e-02  3.47465997e-01]\n",
      " [ 9.29090290e-01  4.51895566e-01]\n",
      " [-9.09806059e-02 -4.22554883e-01]\n",
      " [ 6.34093545e-01 -6.91072130e-01]\n",
      " [-3.88867561e-02  3.50452208e-01]\n",
      " [ 8.00593245e-01  6.34980308e-01]\n",
      " [-1.84825696e-01 -2.07076307e-01]\n",
      " [ 1.98461785e-01  1.00039604e+00]\n",
      " [ 1.03701471e+00  7.57214726e-02]\n",
      " [-8.84195001e-02  3.07005471e-01]\n",
      " [ 3.16431110e-01  1.00032798e+00]\n",
      " [-8.78003159e-01  5.56481696e-01]\n",
      " [ 1.15645617e-01 -1.81218878e-01]\n",
      " [ 1.92871133e-01 -1.32198635e-01]\n",
      " [-1.83110410e-01 -2.32618182e-01]\n",
      " [ 2.97914049e-01  4.84168000e-02]\n",
      " [-5.01721919e-01  8.05392528e-01]\n",
      " [-2.06459306e-01 -1.79578483e-01]\n",
      " [ 7.07587858e-01 -7.89498560e-01]\n",
      " [-2.53200493e-01  1.84834716e-01]\n",
      " [ 2.13242228e-01  1.30775691e-01]\n",
      " [-1.98604602e-01 -1.37453431e-01]\n",
      " [ 3.73332318e-01  5.79425829e-02]\n",
      " [-2.93201928e-01 -9.47998281e-01]\n",
      " [ 9.60232304e-01  2.62096254e-01]\n",
      " [ 9.58100606e-02 -9.78532694e-01]\n",
      " [ 1.11006333e+00 -1.85370214e-01]\n",
      " [-1.00831286e+00 -3.13005920e-01]\n",
      " [ 2.74141158e-01 -1.71985421e-01]\n",
      " [-1.21315387e-02  9.41142403e-01]\n",
      " [ 5.92201685e-01  8.97189452e-01]\n",
      " [ 1.55559580e-01 -3.39175828e-01]\n",
      " [-3.93782948e-01 -8.57917945e-02]\n",
      " [ 2.91759833e-01 -7.44994297e-02]\n",
      " [ 3.43573656e-01  1.93428582e-01]\n",
      " [-1.00558221e+00  2.69952490e-01]\n",
      " [ 2.64814837e-01 -1.16459959e-01]\n",
      " [-8.41869845e-01  3.45951148e-01]\n",
      " [ 1.39886522e-01  9.36010118e-01]\n",
      " [-2.27894320e-01 -6.38423033e-02]\n",
      " [-3.35522984e-01  9.47411605e-01]\n",
      " [ 5.92175738e-01 -8.23558016e-01]\n",
      " [-6.54511623e-01 -6.54011867e-01]\n",
      " [ 5.40813287e-01 -7.98978252e-01]\n",
      " [-2.93742241e-01 -2.79030566e-02]\n",
      " [ 1.03538005e+00 -1.16680356e-01]\n",
      " [-2.26149692e-01 -5.24634859e-02]\n",
      " [ 3.28537668e-01  7.13646010e-02]\n",
      " [-2.64806980e-01  2.28223883e-02]\n",
      " [-3.55231570e-01 -6.10345401e-02]\n",
      " [-3.25813020e-01  1.07875909e-02]\n",
      " [-5.38829694e-02 -2.46808349e-01]\n",
      " [-1.64018489e-01  1.02630583e+00]\n",
      " [-7.17166516e-01  7.48314064e-01]\n",
      " [ 2.26672870e-01 -8.87103799e-02]\n",
      " [ 3.26000585e-01  9.81703632e-01]\n",
      " [ 1.26459190e-01 -9.53704544e-01]\n",
      " [-2.98509246e-01 -9.27750164e-01]\n",
      " [-3.11304137e-01  1.51040426e-01]\n",
      " [-6.54692753e-01  7.60021260e-01]\n",
      " [ 5.73356180e-02 -3.33476608e-01]\n",
      " [ 3.90909154e-01  1.32400068e-01]\n",
      " [-5.19861676e-02 -3.24223643e-01]\n",
      " [-9.58333607e-01 -2.19131305e-01]\n",
      " [-9.51309187e-01 -2.91950565e-01]\n",
      " [ 5.79853529e-01  7.39703808e-01]\n",
      " [-2.65981339e-01 -2.35059912e-01]\n",
      " [ 8.04454856e-01  6.35044033e-01]\n",
      " [ 4.45850377e-01 -9.52054003e-01]\n",
      " [-3.62950148e-01  9.67656508e-01]\n",
      " [-1.08070588e+00  1.38926903e-01]\n",
      " [-3.01535890e-01 -8.86991499e-01]\n",
      " [-1.85610608e-01 -2.21667503e-01]\n",
      " [-2.67072713e-01 -9.50507851e-01]\n",
      " [-2.58723475e-01  2.11498628e-01]\n",
      " [ 3.25929557e-01  1.90601703e-01]\n",
      " [-2.86468863e-01  2.01185399e-01]\n",
      " [ 1.04929350e+00 -2.18870346e-01]\n",
      " [ 8.29607644e-01 -4.98653697e-01]\n",
      " [-1.54473219e-01  3.72245929e-01]\n",
      " [-7.56136437e-02 -3.16881755e-01]\n",
      " [-2.85020333e-01  9.61988845e-01]\n",
      " [ 3.18623372e-01  9.84169829e-01]\n",
      " [ 2.78165037e-02  3.21489117e-01]\n",
      " [-1.00434736e+00 -3.74031550e-01]\n",
      " [-2.90044903e-01  8.89581825e-01]\n",
      " [ 6.65558076e-01 -7.38757775e-01]\n",
      " [-3.45093524e-02  2.32087814e-01]\n",
      " [-1.42799181e-01 -1.01579544e+00]\n",
      " [ 2.95156208e-01 -4.18850101e-02]\n",
      " [-1.70954199e-01  2.85431905e-01]\n",
      " [-1.14753122e-01  3.59412081e-01]\n",
      " [ 8.27777856e-01 -5.73093670e-01]\n",
      " [-2.17409089e-01 -5.11027109e-02]\n",
      " [ 1.41025690e-01  1.89517635e-01]\n",
      " [-1.02605756e-03 -2.50566109e-01]\n",
      " [ 1.69338647e-01 -2.39324284e-01]\n",
      " [-3.41440689e-01 -1.17201048e-02]\n",
      " [-9.84903070e-01 -4.88826089e-01]\n",
      " [ 9.68312637e-01 -2.13111776e-01]\n",
      " [-1.68418359e-01  1.56748791e-01]\n",
      " [-2.31951490e-01  2.59422449e-01]\n",
      " [-6.92373920e-01  8.38548880e-01]\n",
      " [-1.05315936e+00  3.13103599e-01]\n",
      " [-5.41494942e-02  2.70143957e-01]\n",
      " [ 1.53307251e-01  2.43036580e-01]\n",
      " [ 4.54725865e-02  2.47677086e-01]\n",
      " [ 1.99492226e-01 -2.56474682e-01]\n",
      " [-1.82212695e-01  2.43018097e-01]\n",
      " [ 9.52595227e-01  7.53861999e-02]\n",
      " [-2.42664811e-01  9.91139266e-01]\n",
      " [-6.71720148e-01 -8.18353964e-01]\n",
      " [ 2.20479334e-01 -1.01180001e+00]\n",
      " [-2.66381863e-01 -9.56917832e-01]\n",
      " [ 1.63282616e-01 -2.91028709e-01]\n",
      " [-1.88599699e-01 -2.60085368e-01]\n",
      " [ 9.19961463e-01 -2.09390171e-02]\n",
      " [-2.37242159e-01 -3.18820591e-01]\n",
      " [ 1.76203942e-01  2.19249508e-01]\n",
      " [-7.92556965e-01  6.31322291e-01]\n",
      " [ 4.89176141e-02 -3.07791361e-01]\n",
      " [ 2.28814996e-01  3.22076649e-02]\n",
      " [ 3.26888046e-01  2.44577635e-01]\n",
      " [ 9.65101322e-01 -3.09568201e-01]\n",
      " [-3.63765151e-01 -9.32448460e-01]\n",
      " [-9.48633891e-01 -4.57632258e-01]\n",
      " [ 2.68955499e-01  2.51010777e-01]\n",
      " [ 4.52547470e-01 -7.95663150e-01]\n",
      " [-2.88850474e-01  1.26261178e-01]\n",
      " [-2.33054147e-01  2.07055577e-01]\n",
      " [-2.79910107e-01 -1.41730007e-01]\n",
      " [-1.66241279e-02 -1.05816418e+00]\n",
      " [-2.81024597e-01  1.30984059e-01]\n",
      " [-2.73152623e-01  6.40698505e-02]\n",
      " [-9.79792292e-02  1.07249388e+00]\n",
      " [ 2.60886116e-01 -4.11710714e-02]\n",
      " [-2.11768597e-01 -2.55309318e-01]\n",
      " [-1.88420826e-02  1.05640669e+00]\n",
      " [ 5.04946707e-03 -3.56241157e-01]\n",
      " [ 3.23378014e-01  8.12754266e-02]\n",
      " [ 8.55845611e-01 -5.62066204e-01]\n",
      " [ 7.45299833e-01 -6.66141013e-01]\n",
      " [-9.55543955e-01  3.68062028e-01]\n",
      " [-1.10877727e-01 -3.05875029e-01]\n",
      " [-7.38600889e-01  6.74527590e-01]\n",
      " [-1.89443517e-01 -7.54731444e-02]\n",
      " [ 3.12388404e-01 -9.38788629e-01]\n",
      " [ 4.43222939e-02 -2.61208802e-01]\n",
      " [-7.99062970e-01 -5.92298589e-01]\n",
      " [ 5.60689917e-01 -7.62259238e-01]\n",
      " [ 2.42976862e-01  2.87647220e-01]\n",
      " [-2.82348542e-01  1.00632044e+00]\n",
      " [-3.05061573e-01  8.74778533e-01]\n",
      " [-4.07282815e-02  9.38811934e-01]\n",
      " [ 1.76489554e-01 -2.36075355e-01]\n",
      " [ 4.92436528e-01  8.00084309e-01]\n",
      " [ 2.02460916e-01  3.39119777e-02]\n",
      " [ 2.91933530e-01 -4.05309909e-02]\n",
      " [ 7.72174202e-02  2.27295199e-01]\n",
      " [-7.12881982e-01 -6.28794200e-01]\n",
      " [ 3.03724194e-01 -2.74130925e-02]\n",
      " [-7.59942225e-01 -6.58544704e-01]\n",
      " [ 1.06037244e+00  9.94625674e-02]\n",
      " [-1.25778988e-02  2.71257604e-01]\n",
      " [-3.90109398e-01 -9.84264094e-01]\n",
      " [ 3.59061443e-01 -1.94726821e-01]\n",
      " [-8.78771749e-01  7.22757434e-01]\n",
      " [-1.21359948e-01  2.20723051e-01]\n",
      " [ 6.64911818e-01  7.55735767e-01]\n",
      " [-3.23693230e-01  4.99401947e-02]\n",
      " [-4.70913819e-01 -8.66219111e-01]\n",
      " [ 8.80830675e-01  4.41623608e-01]\n",
      " [ 2.28609993e-01 -7.07633882e-02]\n",
      " [ 8.41845772e-01 -4.43004343e-01]\n",
      " [-3.82121482e-01 -9.01069502e-01]\n",
      " [ 2.52691059e-01  1.41715080e-01]\n",
      " [ 5.32131550e-01  8.88221631e-01]\n",
      " [-8.67963939e-03  2.46701947e-01]\n",
      " [ 2.32410284e-01 -1.01406831e+00]\n",
      " [ 9.89404747e-01  1.56362785e-01]\n",
      " [-1.20836819e-01  2.62057215e-01]\n",
      " [-1.30130814e-01 -1.44212431e-01]]\n"
     ]
    }
   ],
   "source": [
    "print(X1)"
   ]
  },
  {
   "cell_type": "code",
   "execution_count": 4,
   "metadata": {},
   "outputs": [
    {
     "name": "stdout",
     "output_type": "stream",
     "text": [
      "[1 1 1 0 1 1 1 1 1 0 1 1 0 1 0 0 0 1 0 1 0 1 1 1 0 1 0 1 1 0 0 1 0 0 0 1 0\n",
      " 0 0 0 1 0 1 1 1 1 0 0 0 1 1 1 0 1 0 0 0 0 0 1 1 0 1 1 1 0 1 0 0 0 0 1 0 1\n",
      " 0 0 0 1 0 0 0 1 1 1 1 0 0 0 0 0 0 0 1 1 0 0 1 1 0 1 1 1 0 1 1 0 1 0 1 1 1\n",
      " 1 0 0 0 1 1 1 1 1 1 0 1 0 0 0 1 0 1 1 0 0 0 0 1 1 0 0 1 1 0 0 0 1 0 1 1 0\n",
      " 0 0 0 0 1 1 1 1 0 0 0 0 1 1 0 1 1 0 1 1 0 1 1 1 1 1 1 1 0 0 1 0 1 1 1 1 0\n",
      " 1 0 0 0 0 1 0 0 0 1 1 1 0 0 0 0 0 1 0 0 1 1 1 0 0 1 0 1 0 0 0 1 0 1 0 1 0\n",
      " 1 0 1 0 0 1 0 0 1 1 1 1 0 1 0 1 1 1 1 0 0 0 0 0 1 0 0 1 1 1 1 0 1 0 0 1 0\n",
      " 0 0 0 1 0 1 1 1 1 1 1 0 0 1 0 0 0 1 0 1 1 1 0 0 0 1 0 0 0 0 0 1 0 1 1 1 0\n",
      " 0 1 1 0 0 1 0 0 0 1 0 1 1 1 0 1 1 1 1 1 0 0 1 1 0 0 1 1 1 1 1 0 0 0 0 0 1\n",
      " 1 0 1 1 0 1 1 1 0 0 0 1 0 1 1 1 0 1 1 0 1 1 0 1 1 0 0 0 1 0 1 0 1 0 0 1 0\n",
      " 0 0 1 0 1 1 1 0 1 0 0 1 0 1 0 1 0 1 0 0 1 0 0 1 0 1 0 0 1 1]\n"
     ]
    }
   ],
   "source": [
    "print(_)"
   ]
  },
  {
   "cell_type": "code",
   "execution_count": 5,
   "metadata": {
    "id": "sdtBepK7cDIT"
   },
   "outputs": [],
   "source": [
    "## Convert data into a DataFrame\n",
    "\n",
    "# Declare the column names\n",
    "columns = 'A B'.split()\n",
    "\n",
    "# Load the dataset as a pandas data frame\n",
    "X = pd.DataFrame(X1, columns = columns)"
   ]
  },
  {
   "cell_type": "code",
   "execution_count": 6,
   "metadata": {},
   "outputs": [
    {
     "name": "stdout",
     "output_type": "stream",
     "text": [
      "['A', 'B']\n"
     ]
    }
   ],
   "source": [
    "print(columns)"
   ]
  },
  {
   "cell_type": "code",
   "execution_count": null,
   "metadata": {},
   "outputs": [],
   "source": []
  },
  {
   "cell_type": "code",
   "execution_count": 7,
   "metadata": {},
   "outputs": [
    {
     "data": {
      "text/html": [
       "<div>\n",
       "<style scoped>\n",
       "    .dataframe tbody tr th:only-of-type {\n",
       "        vertical-align: middle;\n",
       "    }\n",
       "\n",
       "    .dataframe tbody tr th {\n",
       "        vertical-align: top;\n",
       "    }\n",
       "\n",
       "    .dataframe thead th {\n",
       "        text-align: right;\n",
       "    }\n",
       "</style>\n",
       "<table border=\"1\" class=\"dataframe\">\n",
       "  <thead>\n",
       "    <tr style=\"text-align: right;\">\n",
       "      <th></th>\n",
       "      <th>A</th>\n",
       "      <th>B</th>\n",
       "    </tr>\n",
       "  </thead>\n",
       "  <tbody>\n",
       "    <tr>\n",
       "      <th>0</th>\n",
       "      <td>-0.210620</td>\n",
       "      <td>0.246516</td>\n",
       "    </tr>\n",
       "    <tr>\n",
       "      <th>1</th>\n",
       "      <td>-0.349708</td>\n",
       "      <td>0.020755</td>\n",
       "    </tr>\n",
       "    <tr>\n",
       "      <th>2</th>\n",
       "      <td>0.385541</td>\n",
       "      <td>0.082358</td>\n",
       "    </tr>\n",
       "    <tr>\n",
       "      <th>3</th>\n",
       "      <td>1.001604</td>\n",
       "      <td>0.237919</td>\n",
       "    </tr>\n",
       "    <tr>\n",
       "      <th>4</th>\n",
       "      <td>0.208312</td>\n",
       "      <td>-0.150387</td>\n",
       "    </tr>\n",
       "  </tbody>\n",
       "</table>\n",
       "</div>"
      ],
      "text/plain": [
       "          A         B\n",
       "0 -0.210620  0.246516\n",
       "1 -0.349708  0.020755\n",
       "2  0.385541  0.082358\n",
       "3  1.001604  0.237919\n",
       "4  0.208312 -0.150387"
      ]
     },
     "execution_count": 7,
     "metadata": {},
     "output_type": "execute_result"
    }
   ],
   "source": [
    "X.head()"
   ]
  },
  {
   "cell_type": "code",
   "execution_count": 8,
   "metadata": {
    "id": "gIBRCis9cDIX"
   },
   "outputs": [
    {
     "name": "stdout",
     "output_type": "stream",
     "text": [
      "X is a <class 'pandas.core.frame.DataFrame'>\n",
      "X has 400 rows and 2 columns\n",
      "Basic Statistics about X__________________________________________________\n",
      "                A           B\n",
      "count  400.000000  400.000000\n",
      "mean     0.000115    0.005709\n",
      "std      0.529212    0.524754\n",
      "min     -1.086089   -1.058164\n",
      "25%     -0.286536   -0.291112\n",
      "50%     -0.006409    0.018730\n",
      "75%      0.298106    0.289370\n",
      "max      1.110063    1.072494\n",
      "\n",
      "Sample of X__________________________________________________\n",
      "          A         B\n",
      "0 -0.210620  0.246516\n",
      "1 -0.349708  0.020755\n",
      "2  0.385541  0.082358\n",
      "3  1.001604  0.237919\n",
      "4  0.208312 -0.150387\n"
     ]
    }
   ],
   "source": [
    "## Check data\n",
    "\n",
    "# About X\n",
    "print('X is a %s' % type(X))\n",
    "print('X has %d rows and %d columns' % X.shape)\n",
    "print('Basic Statistics about X%s' % ('_'*50))\n",
    "print(X.describe())\n",
    "print('')\n",
    "print('Sample of X%s' % ('_'*50))\n",
    "print(X.head())"
   ]
  },
  {
   "cell_type": "code",
   "execution_count": 9,
   "metadata": {
    "id": "7FE7qadJcDIa"
   },
   "outputs": [
    {
     "data": {
      "image/png": "[encoded data removed]",
      "text/plain": [
       "<Figure size 500x500 with 6 Axes>"
      ]
     },
     "metadata": {},
     "output_type": "display_data"
    }
   ],
   "source": [
    "sbn.pairplot(X)\n",
    "plt.show()"
   ]
  },
  {
   "cell_type": "markdown",
   "metadata": {
    "id": "DGuCuMLhcDIf"
   },
   "source": [
    "### Question: What are other important things to know about the data? Comment on:\n",
    "- Types\n",
    "- Availability\n",
    "- Dispersion and Distribution\n",
    "\n",
    "### Question: Which features could/should be used to cluster the data points?"
   ]
  },
  {
   "cell_type": "code",
   "execution_count": 10,
   "metadata": {},
   "outputs": [
    {
     "data": {
      "text/html": [
       "<div>\n",
       "<style scoped>\n",
       "    .dataframe tbody tr th:only-of-type {\n",
       "        vertical-align: middle;\n",
       "    }\n",
       "\n",
       "    .dataframe tbody tr th {\n",
       "        vertical-align: top;\n",
       "    }\n",
       "\n",
       "    .dataframe thead th {\n",
       "        text-align: right;\n",
       "    }\n",
       "</style>\n",
       "<table border=\"1\" class=\"dataframe\">\n",
       "  <thead>\n",
       "    <tr style=\"text-align: right;\">\n",
       "      <th></th>\n",
       "      <th>A</th>\n",
       "      <th>B</th>\n",
       "    </tr>\n",
       "  </thead>\n",
       "  <tbody>\n",
       "    <tr>\n",
       "      <th>count</th>\n",
       "      <td>400.000000</td>\n",
       "      <td>400.000000</td>\n",
       "    </tr>\n",
       "    <tr>\n",
       "      <th>mean</th>\n",
       "      <td>0.000115</td>\n",
       "      <td>0.005709</td>\n",
       "    </tr>\n",
       "    <tr>\n",
       "      <th>std</th>\n",
       "      <td>0.529212</td>\n",
       "      <td>0.524754</td>\n",
       "    </tr>\n",
       "    <tr>\n",
       "      <th>min</th>\n",
       "      <td>-1.086089</td>\n",
       "      <td>-1.058164</td>\n",
       "    </tr>\n",
       "    <tr>\n",
       "      <th>25%</th>\n",
       "      <td>-0.286536</td>\n",
       "      <td>-0.291112</td>\n",
       "    </tr>\n",
       "    <tr>\n",
       "      <th>50%</th>\n",
       "      <td>-0.006409</td>\n",
       "      <td>0.018730</td>\n",
       "    </tr>\n",
       "    <tr>\n",
       "      <th>75%</th>\n",
       "      <td>0.298106</td>\n",
       "      <td>0.289370</td>\n",
       "    </tr>\n",
       "    <tr>\n",
       "      <th>max</th>\n",
       "      <td>1.110063</td>\n",
       "      <td>1.072494</td>\n",
       "    </tr>\n",
       "  </tbody>\n",
       "</table>\n",
       "</div>"
      ],
      "text/plain": [
       "                A           B\n",
       "count  400.000000  400.000000\n",
       "mean     0.000115    0.005709\n",
       "std      0.529212    0.524754\n",
       "min     -1.086089   -1.058164\n",
       "25%     -0.286536   -0.291112\n",
       "50%     -0.006409    0.018730\n",
       "75%      0.298106    0.289370\n",
       "max      1.110063    1.072494"
      ]
     },
     "execution_count": 10,
     "metadata": {},
     "output_type": "execute_result"
    }
   ],
   "source": [
    "X.describe()"
   ]
  },
  {
   "cell_type": "code",
   "execution_count": 11,
   "metadata": {},
   "outputs": [
    {
     "name": "stdout",
     "output_type": "stream",
     "text": [
      "<class 'pandas.core.frame.DataFrame'>\n",
      "RangeIndex: 400 entries, 0 to 399\n",
      "Data columns (total 2 columns):\n",
      " #   Column  Non-Null Count  Dtype  \n",
      "---  ------  --------------  -----  \n",
      " 0   A       400 non-null    float64\n",
      " 1   B       400 non-null    float64\n",
      "dtypes: float64(2)\n",
      "memory usage: 6.4 KB\n"
     ]
    }
   ],
   "source": [
    "X.info()"
   ]
  },
  {
   "cell_type": "code",
   "execution_count": 12,
   "metadata": {},
   "outputs": [
    {
     "name": "stdout",
     "output_type": "stream",
     "text": [
      "maxA= 1.1100633280015884 minA= -1.0860886479677276 maxB= 1.0724938846272967 minB= -1.0581641823720063\n"
     ]
    }
   ],
   "source": [
    "maxA=X['A'].max()\n",
    "minA=X['A'].min()\n",
    "minB=X['B'].min()\n",
    "maxB=X['B'].max()\n",
    "\n",
    "print('maxA=',maxA,\"minA=\", minA,\"maxB=\",maxB,\"minB=\",minB)"
   ]
  },
  {
   "cell_type": "code",
   "execution_count": 13,
   "metadata": {},
   "outputs": [
    {
     "name": "stdout",
     "output_type": "stream",
     "text": [
      "-1.0860886479677276 1.0724938846272967\n"
     ]
    }
   ],
   "source": [
    "if minA>minB:\n",
    "    min=minB\n",
    "else:\n",
    "    min=minA\n",
    "\n",
    "if maxA>maxB:\n",
    "    max=maxB\n",
    "else:\n",
    "    mmax=maxA\n",
    "print(min,max)"
   ]
  },
  {
   "cell_type": "code",
   "execution_count": 14,
   "metadata": {
    "id": "ff-KC1BjcDIg"
   },
   "outputs": [
    {
     "name": "stdout",
     "output_type": "stream",
     "text": [
      "[[-0.544256216572798, -0.3917438763788438], [0.6643634063073232, -0.12016357853883419], [0.4934105372048425, -0.01306231169240668], [-0.568175697205728, -0.7910490062278079]]\n"
     ]
    }
   ],
   "source": [
    "## Create some supporting functions\n",
    "\n",
    "\n",
    "\n",
    "# Create new centroids randomly for all the K clusters including all dimensions\n",
    "def create_centroids(K, features):\n",
    "    # start with No centroids\n",
    "    centroids = []\n",
    "    # need one centroid for each cluster\n",
    "    for i in range(K):\n",
    "        # it can be multi-dimensional\n",
    "        dimensions = []\n",
    "        for f in features:\n",
    "            # create a random number between the minimum and maximum of each feature\n",
    "            x = np.random.uniform(min,max)\n",
    "            dimensions.append(x)\n",
    "        # add all dimensions for the centroids of each cluster\n",
    "        centroids.append(dimensions)\n",
    "    return centroids\n",
    "print(create_centroids(4,X[['A','B']]))"
   ]
  },
  {
   "cell_type": "code",
   "execution_count": 15,
   "metadata": {
    "id": "FFa35N4FcDIj"
   },
   "outputs": [],
   "source": [
    "# Identify the closest centroid for a given data point\n",
    "def closest_centroid(x, centroids):\n",
    "    distances = []\n",
    "    # convert x to a numpy.array; x contains all the features of a data point\n",
    "    p = np.array(x)\n",
    "    for c in centroids:\n",
    "        # convert c to a numpy.array; c contains the coordinates for all the features\n",
    "        q = np.array(c)\n",
    "        # calculate the Euclidean distance between data point `x` and centroid `c`\n",
    "        d = np.sqrt((p - q) ** 2).sum()\n",
    "        # add the distance for each centroid\n",
    "        distances.append(d)\n",
    "\n",
    "    # return the position (cluster) which has the smallest distance\n",
    "    return np.array(distances).argmin()"
   ]
  },
  {
   "cell_type": "code",
   "execution_count": 37,
   "metadata": {
    "id": "dVO4L9UVcDIl"
   },
   "outputs": [],
   "source": [
    "# recalculate all the centroids based on the mean of the members of each cluster\n",
    "def update_centroid(X, y, centroids):\n",
    "    c = []\n",
    "    # for each of the existing centroids\n",
    "    for i in range(len(centroids)):\n",
    "        # check if any object was assigned to a cluster\n",
    "        if X[y == i].shape[0]:\n",
    "            dimensions = []\n",
    "            # for all the features\n",
    "            for f in X.columns:\n",
    "                # calculate the mean\n",
    "                x = X[f][y==i].mean()\n",
    "                dimensions.append(x)\n",
    "            c.append(dimensions)\n",
    "        # if a cluster got no members\n",
    "        else:\n",
    "            # keep the previous coordinates\n",
    "            c.append(centroids[i])\n",
    "\n",
    "    return c"
   ]
  },
  {
   "cell_type": "code",
   "execution_count": 35,
   "metadata": {
    "id": "UPfLWXmrcDIo"
   },
   "outputs": [],
   "source": [
    "# plot a chart of the data points and centroids either generic or identifying the clusters\n",
    "# NOTE: for visualisation purposes, only consider the first two features\n",
    "def plot_data(ax, X, y, centroids, show_clusters = True):\n",
    "    # unpack the coordinates of the centroids\n",
    "    a = [z[0] for z in centroids]\n",
    "    b = [z[1] for z in centroids]\n",
    "\n",
    "    # show distinct colours if asked to identify the clusters\n",
    "    if show_clusters:\n",
    "        colours = 'rgbykcm'\n",
    "        for i in range(len(centroids)):\n",
    "            ax.scatter(X[features[0]][y == i], X[features[1]][y == i], c = colours[i], label = 'Cluster %d' % i)\n",
    "    # show data points without cluster identification\n",
    "    else:\n",
    "        ax.scatter(X[features[0]], X[features[1]], label = 'Data Point')\n",
    "\n",
    "    # label the features\n",
    "    ax.set_xlabel(features[0])\n",
    "    ax.set_ylabel(features[1])\n",
    "\n",
    "    # identify the centroids\n",
    "    ax.scatter(a, b, c = 'k', linewidths = 5, marker = 'x', label = 'Centroid')\n",
    "    for i in range(len(a)):\n",
    "        c = colours[i] if show_clusters else 'k'\n",
    "        ax.axvline(x = a[i], color = c, linestyle = '--', linewidth = 1)\n",
    "        ax.axhline(y = b[i], color = c, linestyle = '--', linewidth = 1)\n",
    "\n",
    "    # create a text to show the centroids' coordinates\n",
    "    t = '\\n'.join(['%d: (%.3f, %.3f)' % (i, a, b) for (i, (a, b)) in enumerate(centroids)])\n",
    "    ax.text(0.69, -1.1, t)\n",
    "\n",
    "    ax.legend()"
   ]
  },
  {
   "cell_type": "code",
   "execution_count": 38,
   "metadata": {
    "id": "ZfFtsedtcDIs",
    "scrolled": false
   },
   "outputs": [
    {
     "data": {
      "image/png": "[encoded data removed]",
      "text/plain": [
       "<Figure size 1800x800 with 2 Axes>"
      ]
     },
     "metadata": {},
     "output_type": "display_data"
    }
   ],
   "source": [
    "## K_Means\n",
    "## Note that the comments match the outlined K-Means Algorithm in the presentation\n",
    "\n",
    "# 1. Define the number of clusters `K`\n",
    "K = 1 # choose different values for `K`\n",
    "\n",
    "# list the features to be used\n",
    "features = ['A', 'B']\n",
    "\n",
    "# 2. Select `K` cluster centres randomly\n",
    "centroids = create_centroids(K, features)\n",
    "\n",
    "# plot the data points and initial centroids (the 'Before')\n",
    "fig, axes = plt.subplots(nrows = 1, ncols = 2, figsize = (18, 8))\n",
    "plot_data(axes[0], X[features], None, centroids, False)\n",
    "\n",
    "# repeat util makes no moves\n",
    "while True:\n",
    "    # 3. Calculate the distance between each data point and cluster centres\n",
    "    # 4. Assign the data point to the cluster whose distance from its centre is minimum\n",
    "    y = X[features].apply(lambda x: closest_centroid(x, centroids), axis = 1).values\n",
    "    # move the known assignment be the previous state, for post comparison\n",
    "    old_c = centroids.copy()\n",
    "\n",
    "    # 5. Recalculate all new cluster centres by averaging the objects of each cluster\n",
    "    centroids = update_centroid(X[features], y, centroids)\n",
    "\n",
    "    # 6. Repeat steps 3 to 5 until the centroids do not change\n",
    "    if old_c == centroids:\n",
    "        break\n",
    "\n",
    "# plot the data points identified by cluster and final centroids (the 'After')\n",
    "plot_data(axes[1], X[features], y, centroids)\n",
    "plt.show()"
   ]
  },
  {
   "cell_type": "code",
   "execution_count": null,
   "metadata": {},
   "outputs": [],
   "source": [
    "while True: # 3. Calculate the distance between each data point and cluster centers # 4. Assign the data point to the cluster whose distance from its center is minimum y = X[features].apply(lambda x: closest_centroid(x, centroids), axis=1).values # If this is not the first iteration, calculate the number of assignment changes if previous_assignments is not None: changes = np.sum(previous_assignments != y) assignment_changes.append(changes) print(f\"Iteration {len(assignment_changes)}: {changes} points changed clusters.\") # Store the current assignments for the next iteration's comparison previous_assignments = y.copy() # Move the known assignment to the previous state for post comparison old_c = centroids.copy() # 5. Recalculate all new cluster centers by averaging the objects of each cluster centroids = update_centroid(X[features], y, centroids) centroids_list.append(centroids) # 6. Repeat steps 3 to 5 until the centroids do not change or until no assignments change if np.array_equal(old_c, centroids): break"
   ]
  },
  {
   "cell_type": "markdown",
   "metadata": {
    "id": "0FgcU4k7cDIv"
   },
   "source": [
    "### Question: What happens if the algorithm is run multiple times?\n",
    "### Question: What happens if `K` is changed?"
   ]
  },
  {
   "cell_type": "markdown",
   "metadata": {
    "id": "IS5Tc4z9FoYy"
   },
   "source": [
    ">"
   ]
  },
  {
   "cell_type": "markdown",
   "metadata": {
    "id": "mxI2We9OFpfs"
   },
   "source": [
    ">"
   ]
  },
  {
   "cell_type": "markdown",
   "metadata": {
    "id": "81DoNxN1FqGN"
   },
   "source": [
    ">"
   ]
  },
  {
   "cell_type": "markdown",
   "metadata": {
    "id": "RERADKgNFq9T"
   },
   "source": [
    "\n",
    "\n",
    "---\n",
    "\n",
    "\n",
    "\n",
    "---\n",
    "\n",
    "\n",
    "\n",
    "> > > > > > > > > © 2024 Institute of Data\n",
    "\n",
    "\n",
    "---\n",
    "\n",
    "\n",
    "\n",
    "---\n",
    "\n",
    "\n",
    "\n"
   ]
  }
 ],
 "metadata": {
  "colab": {
   "provenance": []
  },
  "kernelspec": {
   "display_name": "Python 3 (ipykernel)",
   "language": "python",
   "name": "python3"
  },
  "language_info": {
   "codemirror_mode": {
    "name": "ipython",
    "version": 3
   },
   "file_extension": ".py",
   "mimetype": "text/x-python",
   "name": "python",
   "nbconvert_exporter": "python",
   "pygments_lexer": "ipython3",
   "version": "3.11.3"
  }
 },
 "nbformat": 4,
 "nbformat_minor": 1
}
