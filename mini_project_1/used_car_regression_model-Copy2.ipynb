{
 "cells": [
  {
   "cell_type": "code",
   "execution_count": 1,
   "id": "c7099d30",
   "metadata": {},
   "outputs": [],
   "source": [
    "#A national used car dealership wants to know how much the should price their used cars at\n",
    "#to do this we will run a linear regression model on used car data. \n",
    "#We will create a model that can take in multiple attributes of a car and return "
   ]
  },
  {
   "cell_type": "code",
   "execution_count": 2,
   "id": "0cbfc197",
   "metadata": {},
   "outputs": [],
   "source": [
    "#import libraries\n",
    "import numpy as np\n",
    "import pandas as pd\n",
    "import matplotlib.pyplot as plt\n",
    "\n",
    "from sklearn.linear_model import LinearRegression\n",
    "from sklearn.model_selection import train_test_split\n",
    "\n",
    "import re\n",
    "\n"
   ]
  },
  {
   "cell_type": "code",
   "execution_count": 3,
   "id": "98772fc6",
   "metadata": {},
   "outputs": [],
   "source": [
    "#import csv\n",
    "df=pd.read_csv(\"vehicles.csv\")"
   ]
  },
  {
   "cell_type": "code",
   "execution_count": 4,
   "id": "4dfe7afd",
   "metadata": {},
   "outputs": [
    {
     "data": {
      "text/html": [
       "<div>\n",
       "<style scoped>\n",
       "    .dataframe tbody tr th:only-of-type {\n",
       "        vertical-align: middle;\n",
       "    }\n",
       "\n",
       "    .dataframe tbody tr th {\n",
       "        vertical-align: top;\n",
       "    }\n",
       "\n",
       "    .dataframe thead th {\n",
       "        text-align: right;\n",
       "    }\n",
       "</style>\n",
       "<table border=\"1\" class=\"dataframe\">\n",
       "  <thead>\n",
       "    <tr style=\"text-align: right;\">\n",
       "      <th></th>\n",
       "      <th>id</th>\n",
       "      <th>url</th>\n",
       "      <th>region</th>\n",
       "      <th>region_url</th>\n",
       "      <th>price</th>\n",
       "      <th>year</th>\n",
       "      <th>manufacturer</th>\n",
       "      <th>model</th>\n",
       "      <th>condition</th>\n",
       "      <th>cylinders</th>\n",
       "      <th>...</th>\n",
       "      <th>size</th>\n",
       "      <th>type</th>\n",
       "      <th>paint_color</th>\n",
       "      <th>image_url</th>\n",
       "      <th>description</th>\n",
       "      <th>county</th>\n",
       "      <th>state</th>\n",
       "      <th>lat</th>\n",
       "      <th>long</th>\n",
       "      <th>posting_date</th>\n",
       "    </tr>\n",
       "  </thead>\n",
       "  <tbody>\n",
       "    <tr>\n",
       "      <th>0</th>\n",
       "      <td>7222695916</td>\n",
       "      <td>https://prescott.craigslist.org/cto/d/prescott...</td>\n",
       "      <td>prescott</td>\n",
       "      <td>https://prescott.craigslist.org</td>\n",
       "      <td>6000</td>\n",
       "      <td>NaN</td>\n",
       "      <td>NaN</td>\n",
       "      <td>NaN</td>\n",
       "      <td>NaN</td>\n",
       "      <td>NaN</td>\n",
       "      <td>...</td>\n",
       "      <td>NaN</td>\n",
       "      <td>NaN</td>\n",
       "      <td>NaN</td>\n",
       "      <td>NaN</td>\n",
       "      <td>NaN</td>\n",
       "      <td>NaN</td>\n",
       "      <td>az</td>\n",
       "      <td>NaN</td>\n",
       "      <td>NaN</td>\n",
       "      <td>NaN</td>\n",
       "    </tr>\n",
       "    <tr>\n",
       "      <th>1</th>\n",
       "      <td>7218891961</td>\n",
       "      <td>https://fayar.craigslist.org/ctd/d/bentonville...</td>\n",
       "      <td>fayetteville</td>\n",
       "      <td>https://fayar.craigslist.org</td>\n",
       "      <td>11900</td>\n",
       "      <td>NaN</td>\n",
       "      <td>NaN</td>\n",
       "      <td>NaN</td>\n",
       "      <td>NaN</td>\n",
       "      <td>NaN</td>\n",
       "      <td>...</td>\n",
       "      <td>NaN</td>\n",
       "      <td>NaN</td>\n",
       "      <td>NaN</td>\n",
       "      <td>NaN</td>\n",
       "      <td>NaN</td>\n",
       "      <td>NaN</td>\n",
       "      <td>ar</td>\n",
       "      <td>NaN</td>\n",
       "      <td>NaN</td>\n",
       "      <td>NaN</td>\n",
       "    </tr>\n",
       "    <tr>\n",
       "      <th>2</th>\n",
       "      <td>7221797935</td>\n",
       "      <td>https://keys.craigslist.org/cto/d/summerland-k...</td>\n",
       "      <td>florida keys</td>\n",
       "      <td>https://keys.craigslist.org</td>\n",
       "      <td>21000</td>\n",
       "      <td>NaN</td>\n",
       "      <td>NaN</td>\n",
       "      <td>NaN</td>\n",
       "      <td>NaN</td>\n",
       "      <td>NaN</td>\n",
       "      <td>...</td>\n",
       "      <td>NaN</td>\n",
       "      <td>NaN</td>\n",
       "      <td>NaN</td>\n",
       "      <td>NaN</td>\n",
       "      <td>NaN</td>\n",
       "      <td>NaN</td>\n",
       "      <td>fl</td>\n",
       "      <td>NaN</td>\n",
       "      <td>NaN</td>\n",
       "      <td>NaN</td>\n",
       "    </tr>\n",
       "    <tr>\n",
       "      <th>3</th>\n",
       "      <td>7222270760</td>\n",
       "      <td>https://worcester.craigslist.org/cto/d/west-br...</td>\n",
       "      <td>worcester / central MA</td>\n",
       "      <td>https://worcester.craigslist.org</td>\n",
       "      <td>1500</td>\n",
       "      <td>NaN</td>\n",
       "      <td>NaN</td>\n",
       "      <td>NaN</td>\n",
       "      <td>NaN</td>\n",
       "      <td>NaN</td>\n",
       "      <td>...</td>\n",
       "      <td>NaN</td>\n",
       "      <td>NaN</td>\n",
       "      <td>NaN</td>\n",
       "      <td>NaN</td>\n",
       "      <td>NaN</td>\n",
       "      <td>NaN</td>\n",
       "      <td>ma</td>\n",
       "      <td>NaN</td>\n",
       "      <td>NaN</td>\n",
       "      <td>NaN</td>\n",
       "    </tr>\n",
       "    <tr>\n",
       "      <th>4</th>\n",
       "      <td>7210384030</td>\n",
       "      <td>https://greensboro.craigslist.org/cto/d/trinit...</td>\n",
       "      <td>greensboro</td>\n",
       "      <td>https://greensboro.craigslist.org</td>\n",
       "      <td>4900</td>\n",
       "      <td>NaN</td>\n",
       "      <td>NaN</td>\n",
       "      <td>NaN</td>\n",
       "      <td>NaN</td>\n",
       "      <td>NaN</td>\n",
       "      <td>...</td>\n",
       "      <td>NaN</td>\n",
       "      <td>NaN</td>\n",
       "      <td>NaN</td>\n",
       "      <td>NaN</td>\n",
       "      <td>NaN</td>\n",
       "      <td>NaN</td>\n",
       "      <td>nc</td>\n",
       "      <td>NaN</td>\n",
       "      <td>NaN</td>\n",
       "      <td>NaN</td>\n",
       "    </tr>\n",
       "  </tbody>\n",
       "</table>\n",
       "<p>5 rows × 26 columns</p>\n",
       "</div>"
      ],
      "text/plain": [
       "           id                                                url  \\\n",
       "0  7222695916  https://prescott.craigslist.org/cto/d/prescott...   \n",
       "1  7218891961  https://fayar.craigslist.org/ctd/d/bentonville...   \n",
       "2  7221797935  https://keys.craigslist.org/cto/d/summerland-k...   \n",
       "3  7222270760  https://worcester.craigslist.org/cto/d/west-br...   \n",
       "4  7210384030  https://greensboro.craigslist.org/cto/d/trinit...   \n",
       "\n",
       "                   region                         region_url  price  year  \\\n",
       "0                prescott    https://prescott.craigslist.org   6000   NaN   \n",
       "1            fayetteville       https://fayar.craigslist.org  11900   NaN   \n",
       "2            florida keys        https://keys.craigslist.org  21000   NaN   \n",
       "3  worcester / central MA   https://worcester.craigslist.org   1500   NaN   \n",
       "4              greensboro  https://greensboro.craigslist.org   4900   NaN   \n",
       "\n",
       "  manufacturer model condition cylinders  ... size  type paint_color  \\\n",
       "0          NaN   NaN       NaN       NaN  ...  NaN   NaN         NaN   \n",
       "1          NaN   NaN       NaN       NaN  ...  NaN   NaN         NaN   \n",
       "2          NaN   NaN       NaN       NaN  ...  NaN   NaN         NaN   \n",
       "3          NaN   NaN       NaN       NaN  ...  NaN   NaN         NaN   \n",
       "4          NaN   NaN       NaN       NaN  ...  NaN   NaN         NaN   \n",
       "\n",
       "  image_url description county state lat long posting_date  \n",
       "0       NaN         NaN    NaN    az NaN  NaN          NaN  \n",
       "1       NaN         NaN    NaN    ar NaN  NaN          NaN  \n",
       "2       NaN         NaN    NaN    fl NaN  NaN          NaN  \n",
       "3       NaN         NaN    NaN    ma NaN  NaN          NaN  \n",
       "4       NaN         NaN    NaN    nc NaN  NaN          NaN  \n",
       "\n",
       "[5 rows x 26 columns]"
      ]
     },
     "execution_count": 4,
     "metadata": {},
     "output_type": "execute_result"
    }
   ],
   "source": [
    "#eda\n",
    "df.head()\n"
   ]
  },
  {
   "cell_type": "code",
   "execution_count": 5,
   "id": "acac1ce4",
   "metadata": {},
   "outputs": [
    {
     "name": "stdout",
     "output_type": "stream",
     "text": [
      "<class 'pandas.core.frame.DataFrame'>\n",
      "RangeIndex: 426880 entries, 0 to 426879\n",
      "Data columns (total 26 columns):\n",
      " #   Column        Non-Null Count   Dtype  \n",
      "---  ------        --------------   -----  \n",
      " 0   id            426880 non-null  int64  \n",
      " 1   url           426880 non-null  object \n",
      " 2   region        426880 non-null  object \n",
      " 3   region_url    426880 non-null  object \n",
      " 4   price         426880 non-null  int64  \n",
      " 5   year          425675 non-null  float64\n",
      " 6   manufacturer  409234 non-null  object \n",
      " 7   model         421603 non-null  object \n",
      " 8   condition     252776 non-null  object \n",
      " 9   cylinders     249202 non-null  object \n",
      " 10  fuel          423867 non-null  object \n",
      " 11  odometer      422480 non-null  float64\n",
      " 12  title_status  418638 non-null  object \n",
      " 13  transmission  424324 non-null  object \n",
      " 14  VIN           265838 non-null  object \n",
      " 15  drive         296313 non-null  object \n",
      " 16  size          120519 non-null  object \n",
      " 17  type          334022 non-null  object \n",
      " 18  paint_color   296677 non-null  object \n",
      " 19  image_url     426812 non-null  object \n",
      " 20  description   426810 non-null  object \n",
      " 21  county        0 non-null       float64\n",
      " 22  state         426880 non-null  object \n",
      " 23  lat           420331 non-null  float64\n",
      " 24  long          420331 non-null  float64\n",
      " 25  posting_date  426812 non-null  object \n",
      "dtypes: float64(5), int64(2), object(19)\n",
      "memory usage: 84.7+ MB\n"
     ]
    }
   ],
   "source": [
    "df.info()"
   ]
  },
  {
   "cell_type": "code",
   "execution_count": 6,
   "id": "0f983ba3",
   "metadata": {},
   "outputs": [],
   "source": [
    "df = df.drop(columns=['url', 'region_url','image_url','VIN','id','county']) \n",
    "#drop url columns no value from these columns"
   ]
  },
  {
   "cell_type": "code",
   "execution_count": 7,
   "id": "f9af18e1",
   "metadata": {},
   "outputs": [
    {
     "name": "stdout",
     "output_type": "stream",
     "text": [
      "<class 'pandas.core.frame.DataFrame'>\n",
      "RangeIndex: 426880 entries, 0 to 426879\n",
      "Data columns (total 20 columns):\n",
      " #   Column        Non-Null Count   Dtype  \n",
      "---  ------        --------------   -----  \n",
      " 0   region        426880 non-null  object \n",
      " 1   price         426880 non-null  int64  \n",
      " 2   year          425675 non-null  float64\n",
      " 3   manufacturer  409234 non-null  object \n",
      " 4   model         421603 non-null  object \n",
      " 5   condition     252776 non-null  object \n",
      " 6   cylinders     249202 non-null  object \n",
      " 7   fuel          423867 non-null  object \n",
      " 8   odometer      422480 non-null  float64\n",
      " 9   title_status  418638 non-null  object \n",
      " 10  transmission  424324 non-null  object \n",
      " 11  drive         296313 non-null  object \n",
      " 12  size          120519 non-null  object \n",
      " 13  type          334022 non-null  object \n",
      " 14  paint_color   296677 non-null  object \n",
      " 15  description   426810 non-null  object \n",
      " 16  state         426880 non-null  object \n",
      " 17  lat           420331 non-null  float64\n",
      " 18  long          420331 non-null  float64\n",
      " 19  posting_date  426812 non-null  object \n",
      "dtypes: float64(4), int64(1), object(15)\n",
      "memory usage: 65.1+ MB\n"
     ]
    }
   ],
   "source": [
    "df.info()"
   ]
  },
  {
   "cell_type": "code",
   "execution_count": 8,
   "id": "d71c9f83",
   "metadata": {},
   "outputs": [
    {
     "data": {
      "text/plain": [
       "20"
      ]
     },
     "execution_count": 8,
     "metadata": {},
     "output_type": "execute_result"
    }
   ],
   "source": [
    "df.duplicated().sum()"
   ]
  },
  {
   "cell_type": "code",
   "execution_count": 9,
   "id": "c8f52b88",
   "metadata": {},
   "outputs": [],
   "source": [
    "df= df.drop_duplicates(keep= 'first')"
   ]
  },
  {
   "cell_type": "code",
   "execution_count": 10,
   "id": "ba1d1298",
   "metadata": {},
   "outputs": [
    {
     "data": {
      "text/plain": [
       "title_status\n",
       "clean         405108\n",
       "rebuilt         7219\n",
       "salvage         3868\n",
       "lien            1422\n",
       "missing          814\n",
       "parts only       198\n",
       "Name: count, dtype: int64"
      ]
     },
     "execution_count": 10,
     "metadata": {},
     "output_type": "execute_result"
    }
   ],
   "source": [
    "df[\"title_status\"].value_counts()\n"
   ]
  },
  {
   "cell_type": "code",
   "execution_count": 11,
   "id": "444197fd",
   "metadata": {},
   "outputs": [],
   "source": [
    "df = df[df.title_status == \"clean\"]\n",
    "#drop all rows that are not \"clean\"as it was less than 1% of data model will now only handle \"clean titled vehicles\""
   ]
  },
  {
   "cell_type": "code",
   "execution_count": 12,
   "id": "469086b1",
   "metadata": {},
   "outputs": [],
   "source": [
    "df=df.drop(columns=['title_status'])\n",
    "#drop column now that all values are \"clean\""
   ]
  },
  {
   "cell_type": "code",
   "execution_count": 13,
   "id": "8d80cc12",
   "metadata": {},
   "outputs": [
    {
     "name": "stdout",
     "output_type": "stream",
     "text": [
      "<class 'pandas.core.frame.DataFrame'>\n",
      "Index: 405108 entries, 27 to 426879\n",
      "Data columns (total 19 columns):\n",
      " #   Column        Non-Null Count   Dtype  \n",
      "---  ------        --------------   -----  \n",
      " 0   region        405108 non-null  object \n",
      " 1   price         405108 non-null  int64  \n",
      " 2   year          404325 non-null  float64\n",
      " 3   manufacturer  388681 non-null  object \n",
      " 4   model         400231 non-null  object \n",
      " 5   condition     237672 non-null  object \n",
      " 6   cylinders     232555 non-null  object \n",
      " 7   fuel          403346 non-null  object \n",
      " 8   odometer      401355 non-null  float64\n",
      " 9   transmission  403241 non-null  object \n",
      " 10  drive         282725 non-null  object \n",
      " 11  size          114330 non-null  object \n",
      " 12  type          317539 non-null  object \n",
      " 13  paint_color   285687 non-null  object \n",
      " 14  description   405106 non-null  object \n",
      " 15  state         405108 non-null  object \n",
      " 16  lat           398654 non-null  float64\n",
      " 17  long          398654 non-null  float64\n",
      " 18  posting_date  405108 non-null  object \n",
      "dtypes: float64(4), int64(1), object(14)\n",
      "memory usage: 61.8+ MB\n"
     ]
    }
   ],
   "source": [
    "df.info()"
   ]
  },
  {
   "cell_type": "code",
   "execution_count": 14,
   "id": "f6458d75",
   "metadata": {},
   "outputs": [
    {
     "data": {
      "text/plain": [
       "description\n",
       "35 VEHICLES PRICED UNDER $3000!!!  BIG TIME! TAX TIME! SALE TIME!  CALL US NOW!!! 321-242-0328  30TH YEAR IN BUSINESS!!!!  OUR ADDRESS:  1900 AURORA RD. MELBOURNE, FL 32935  321-242-0328  Call us or visit us now we have a huge selection of honda accord and civic and pilot in stock at all times! we specialize in Toyota Camry and Corolla and Sienna and 3RD Row Suv. We also stock Domestics like Ford Fusion Explorer and Escape and the really nice Edge. if you care looking for Chevy Traverse or Chevrolet Malibu or Impala and Cruze for gas saving we have those as well, including Buick Enclave we always have em! Lacrosse and Regal are here too! Encore is available just call first. We stock Luxury Brands like Acura Lexus and German brands BMW Mercedes Benz and Audi. Dont get us started on Jeep! We love to sell Grand Cherokee and Patriot and Compass! Want a Really Nice Minivan!?! We got Chrysler Town and Country Dodge Grand Caravan and Honda Odyssey Always Here!! Sporty? Charger Challanger Mustang and Camro can be located for you! Are you Hip? Kia Soul and Optima are your bag, we got em!!!! Mazda is here too!! 3 and 6 and CX9. Our Number one seller for 3RD Row is the Dodge Journey and Durango, we always have a bunch in stock, back up camera and push button start bluetooth panoramic sunroof. Cadillac SRX for the luxury driver is here too! Ever driven a Nissan Altima or Sentra or Pathfinder or Rogue, come drive one today and feel the sporty drive!                                                                                                                                                                                                                                                                                                                                                                                                                                                                                                                                                                                                                                                                                                                                                                                                                                                                                                                                                                                                                                                                                                                                                                                                                                                                                                                                                                                                                                                                                                                                                                                                                                                                                                                                                                                                                                                                                                                                                                                                                                                                                                                                                                                                                                                                                                                                                                                                                                                                                                                                                                                                                                                                                                                                                                                                                                                                                                                                                                                                                                                                                                                                                                                                                                                                                                                                                                                                                                                                                                                                                                                                                                                                                                                                                                                                                                                                                                                                                                                                                                                                                                                                                                                                                                                                                                                                                                                                                                                                                                                                                                                                                                                                                                                                                                                                                                                                                                                                                                                                                                                                                                                                                                                                                                                                                                                                                                                                                                                                                                                                                                                                                                                                                                                                                                                                                                                                                                                                                                                                                                                                                                                                                                                                                                                                                                                                                                                                                                                                                                                                                                                                                                                                                                                                                                                                                                                                                                                                                                                                                                                                                                                                                                                                                                                                                                                                                                                                                                                                                                                                                                                                                                                                                                                                                                                                                                                                                                                                                                                                                                                                                                                                                                                                                                                                                                                                                                                                                                                                                                                                                                                                            231\n",
       "Call or text today to find out more. (602) 620-6525 Calls only landline (406) 245-1785  Available at Standard Auto Sales 1503 Broadwater Ave. Billings, MT 59102 standardautosales.net   Need help with financing? We have options for most credit situations. We never charge a doc fee! Extended service contracts available. We buy cars and take consignments! Call or text Mike today to find out more. (602) 620-6525  Welcome to Standard Auto Sales, located in Billings, MT, where quality service and customer satisfaction come first. We are here to help you find a vehicle that fits your lifestyle from our wide selection of used cars, trucks, and SUVs. We pride ourselves on a hassle-free car buying experience where your needs come first. Swing by to let us exceed your expectations while finding the perfect vehicle! Do you need financing for your next used vehicle purchase? Do you have a good credit, bad credit or no credit history situation? We work with a variety of financial institutions and we will work hard to get you approved quickly and easily, at the best rate possible! Apply now or call us at (406) 245-1785 or text (602) 620-6525 to schedule a test drive today!                                                                                                                                                                                                                                                                                                                                                                                                                                                                                                                                                                                                                                                                                                                                                                                                                                                                                                                                                                                                                                                                                                                                                                                                                                                                                                                                                                                                                                                                                                                                                                                                                                                                                                                                                                                                                                                                                                                                                                                                                                                                                                                                                                                                                                                                                                                                                                                                                                                                                                                                                                                                                                                                                                                                                                                                                                                                                                                                                                                                                                                                                                                                                                                                                                                                                                                                                                                                                                                                                                                                                                                                                                                                                                                                                                                                                                                                                                                                                                                                                                                                                                                                                                                                                                                                                                                                                                                                                                                                                                                                                                                                                                                                                                                                                                                                                                                                                                                                                                                                                                                                                                                                                                                                                                                                                                                                                                                                                                                                                                                                                                                                                                                                                                                                                                                                                                                                                                                                                                                                                                                                                                                                                                                                                                                                                                                                                                                                                                                                                                                                                                                                                                                                                                                                                                                                                                                                                                                                                                                                                                                                                                                                                                                                                                                                                                                                                                                                                                                                                                                                                                                                                                                                                                                                                                                                                                                                                                                                                                                                                                                                                                                                                                                                                                                                                                                                                                                                                                                                                                                                                                                                                                                                                                                                                                                                                                                                                                        197\n",
       "This truck has sold, but we buy trucks like this. If you know of one of these trucks for sale, we pay a finders fee.  Call Bobby! (636) 587 - 0660    7.3 7.3l 6.6 6.6l 5.9 5.9 6.7 6.7l powerstroke power stroke duramax cummins diesel lly lbz dmax pstroke big block small block big block smallblock sbf sbc bbf bbc efi 302 460 351 6.0 6.0L 5.0L 5.0 5.8L 5.8 7.5L 7.5 496 454 stroker 8.1 8.1L 12v 24v 4x4 four wheel drive 4wd laramie SLT Lariat lt lt1 lt2 lt3 ls club quad single crew cab clubcab quadcab singlecab crewcab cclb long bed longbed short shortbed  ccsb sclb scsb rustfree rust free clean 4door 2-door 2door 4-door ford dodge chevrolet chevy gmc sierra silverado f-250 f-350 f250 f350 ram 2500 3500 1st gen first gen firstgen 2nd gen 2ndgen second gen secondgen 3rd gen 3rdgen third gen thirdgen OBS superduty excursion supercrew supercab super duty 5-speed 6-speed stick shift stickshift manual transmission clutch intercooled inter cooled turbocharged turbo charged lonestar bighorn lone star big horn longhorn long horn low mile lowmile puller camper camp haul hauling hauler tow towing rig gooseneck goose neck 5th wheel fifth wheel 5thwheel fifthwheel hitch                                                                                                                                                                                                                                                                                                                                                                                                                                                                                                                                                                                                                                                                                                                                                                                                                                                                                                                                                                                                                                                                                                                                                                                                                                                                                                                                                                                                                                                                                                                                                                                                                                                                                                                                                                                                                                                                                                                                                                                                                                                                                                                                                                                                                                                                                                                                                                                                                                                                                                                                                                                                                                                                                                                                                                                                                                                                                                                                                                                                                                                                                                                                                                                                                                                                                                                                                                                                                                                                                                                                                                                                                                                                                                                                                                                                                                                                                                                                                                                                                                                                                                                                                                                                                                                                                                                                                                                                                                                                                                                                                                                                                                                                                                                                                                                                                                                                                                                                                                                                                                                                                                                                                                                                                                                                                                                                                                                                                                                                                                                                                                                                                                                                                                                                                                                                                                                                                                                                                                                                                                                                                                                                                                                                                                                                                                                                                                                                                                                                                                                                                                                                                                                                                                                                                                                                                                                                                                                                                                                                                                                                                                                                                                                                                                                                                                                                                                                                                                                                                                                                                                                                                                                                                                                                                                                                                                                                                                                                                                                                                                                                                                                                                                                                                                                                                                                                                                                                                                                                                                                                                                                                                                                                                                                                                                                                                                                                                                             154\n",
       "CREDIT CARS- $700.00 DOWN- RIGHT ON THE CORNER, RIGHT ON THE CREDIT!!  CALL US TODAY @ 352-204-2923 OR 352-204-2137. $700 DOWN!!!!!  CREDIT CHALLENGES??- NO PROBLEM- COME SEE US TODAY!  WE USE YOUR JOB AS YOUR CREDIT! ALL YOU NEED IS INCOME, PROOF OF INSURANCE, DRIVERS LICENSE, AND $700.00!!!  COME SEE US TODAY AT 320 NE 23RD AVENUE GAINESVILLE, FL 32609  WE ARE OPEN MONDAY- FRIDAY 9:00AM TO 7:00PM AND SATURDAY 9:00AM- 5:00PM  352-204-2137 OR 352-204-2137 CALL US TODAY TO SCHEDULE APPT!!  ⭐ Great Financing Options Available ⭐  ✅ Bad Credit? ✅ No Credit? ✅ First Time Buyer? ✅ We Work With Dozens Of Dealers To Get You Approved Fast Regardless Of Your Credit Situation.  🚘 Ready To Get Behind The Wheel Of Your New Car 🚘  100% APPROVAL! We use your job as your credit!  We Guarantee It! No matter your financial situation, you will drive off the lot in a new car, today.  ✅ Bad Credit ✅ No Credit ✅ Repossession ✅ Foreclosure ✅ SSI ✅ Disability ✅ Government Assistance  YOU'RE APPROVED!  🚘 🚘  ✅ Huge Selection Of Quality Pre-Owned Cars ✅ Leave With Confidence ✅ Trade-In Your Car Today For A Great Discount   📍 Stop By Today                                                                                                                                                                                                                                                                                                                                                                                                                                                                                                                                                                                                                                                                                                                                                                                                                                                                                                                                                                                                                                                                                                                                                                                                                                                                                                                                                                                                                                                                                                                                                                                                                                                                                                                                                                                                                                                                                                                                                                                                                                                                                                                                                                                                                                                                                                                                                                                                                                                                                                                                                                                                                                                                                                                                                                                                                                                                                                                                                                                                                                                                                                                                                                                                                                                                                                                                                                                                                                                                                                                                                                                                                                                                                                                                                                                                                                                                                                                                                                                                                                                                                                                                                                                                                                                                                                                                                                                                                                                                                                                                                                                                                                                                                                                                                                                                                                                                                                                                                                                                                                                                                                                                                                                                                                                                                                                                                                                                                                                                                                                                                                                                                                                                                                                                                                                                                                                                                                                                                                                                                                                                                                                                                                                                                                                                                                                                                                                                                                                                                                                                                                                                                                                                                                                                                                                                                                                                                                                                                                                                                                                                                                                                                                                                                                                                                                                                                                                                                                                                                                                                                                                                                                                                                                                                                                                                                                                                                                                                                                                                                                                                                                                                                                                                                                                                                                                                                                                                                                                                                                                                                                                                                                                                                                                                                                                                                                                                                                                                                       148\n",
       "HEC LEASING, LLC Call Gary, Russ or Clay at 888-366-1571  Down payment includes Factory Warranty with each truck!  AVAILABLE TRUCKS    2018 FREIGHTLINER CASCADIA 72\" CONDOS Detroit DD13 450HP @ 1800RPM with Engine Brake Eaton Fuller FOM-15E310C-LAS Ultrashift Plus Automatic Transmission  \\tDetroit DA-RT-4.0.0-4 HT 40,000 lb. R-Series Tandem Rear Axel \\t3.42 RatioAirliner Plus 40,000-lb. Load Transfer Rear Suspension w/Dump Valve \\tFontaine 6ATB Air Slide 5th Wheel w/Dash Mounted Control Valve \\t22.5 Low Profile Tires w/Polished Outer Aluminum Wheels \\t228\" Wheelbase \\tDual 100 Gallon Aluminum Fuel Tanks \\tPremium High Back Air Seats \\tPower Windows & Mirrors \\tAdjustable Tilt and Telescoping Steering Column \\tDelphi AM/FM/WB/Sirius Radio w/CD & Bluetooth \\tParkSmart HVAC System w/Espar Aux Heater in Sleeper \\t40\" Lower Bunk w/Foldable Upper Bunk   HEC LEASING, LLC Call Gary, Russ or Clay at 888-366-1571  2018 KENWORTH T680 76” CONDO Balance of Manufactures Warranty Engine Make PACCAR Engine Model MX-13 Engine HP 455 Engine Brake YES Transmission Make Eaton-Fuller Transmission Model FAOM -16810S-EP3 Transmission Speed 10 Speed Auto Paccar 40,000 lb. Rear Axle Ratio 2.64 Kenworth Air Glide 40,000  \\tRear Suspension w/ Dump Value \\tFontaine Air Slide Fifth Wheelires w/ Polished Outer Aluminum Wheels \\tDual 100 Gallon Aluminum Fuel Tanks \\tPower Windows and Mirrors \\tPremium High Back Air Seats \\tKW Idle HVAC System w/Espar \\tAux Heater in Sleeper \\tKW Radio W/AM/WB/CB/USB w/ Bluetooth \\t76” Condo Double Bunk Sleeper   HEC LEASING, LLC Call Gary, Russ or Clay at 888-366-1571  2016 PETERBILT 579 80 INCH DOUBLE BUNKS 2 Year / 250,000 Mile Peterbilt Factory Engine Warranty Engine Make PACCAR Engine Model MX-13 Engine HP 455 Engine Brake YES Transmission Make Eaton-Fuller Transmission Model FAOM -15810S-EP3 Transmission Speed Auto Sleeper 80 Inch Suspension Peterbilt Low Air Leaf Front Axle Cap 12300 Rear Axle Cap 40000 Rear End 2.64 Wheelbase 228 Front Wheels Aluminum Rear Wheels Aluminum Tire Size Low Pro 22.5 A/C Yes Powersteering Yes Cab Configuration  Conventional Color Red Interior Premier Frame  Steel Fifth Wheel Air Slide Rear Axles 2 Tank 1 100 Tank 2 100 Engine Serial Y072947 RPM 1700 Identification Vinyl Stickers  HEC LEASING, LLC Call Gary, Russ or Clay at 888-366-1571  AUTOMATIC TRANSMISSIONS!!!  We make financing decisions IN HOUSE! Low weekly rates! We make equipment acquisition easy & affordable. We offer flexible financing, and it is our mission to provide you with a transportation solution that meets your hauling needs and fits within your budget. Our lease-to-own arrangements are designed to making acquiring a truck as painless as possible. We are a small, family-oriented company that provides the personalized service you need to ensure you are acquiring the right truck under the right terms. Leasing is a great way to get your small business off the ground or quickly add capacity to your current operations.  To learn more about our truck leasing and financing services, contact us today.  To learn more about our truck leasing and financing services, contact us today  call one of our Salesman – Gary Carrigan, Russ Carrigan or Clay Britt at 888-366-1571!                                                       *DUMP TRUCK* *dump trucks* *dump* *volteo* dump truck, volteo, Freightliner International Ford Peterbilt Kenworth Mack trucks, tandem axle tri quad 5 , trucks for sale, Dumps, Tipper earth moving dumper, dumper truck business, financing, financing with bad credit, warren ox body dumps, local sale near me, Spanish dump, Volteo, mack volquete, volteo en venta, camion para movimiento de tierra, volquetes camiones tierraen mover volteos, VOLTEO, a la volteos volquetas, remolque, remolques, basculante, escombors Categories of sleeper semi 18 wheeler heavy duty Cab & Chassis Trucks, Conventional Trucks Sleeper, without Crane Dump Flatbed Garbage Glider Kit Tank Asphalt tank Gasoline Fuel Septic Vacuum Water Roll-Offs, Roll-Off Truck, Roll off Off Pumper SPANISH con dormitorio, camiones, carretera, camabajas, agua, petroleo, uso, florida, miami, exportacion importacion, importacion exportacion, usa, Camiones volvo mack, volvo, dealer camioneros, venta tracto tractomulas, mulas, bolteos, bolteo, se vende Septicos septico, septicos, tanques septico For Sleeper pump vacuum bomba, succion, septic Roll-Offs Truck Models, 108SD, 114SD, 122SD, ARGOSY, BUSINESS CLASS M2 106, 106V, 112, CASCADIA 113, 125, COLUMBIA 120, CORONADO 114, 122, 122 SD, FL60, FL70, FL80, FL106, FL112, FLC112, FLC120, FLD112, FLD120, FLD120 CLASSIC, FLD132 CLASSIC XL, 900, 1854, 1910, 1954, 1955, 2254, 2350G, 2500, 2524, 2554, 2574, 2574S, 2575, 2674, 2674SF, 4200, 4300, 4300 EAGLE, SBA, 4400, 4400 4600, 4700, 4800, 4900, 4900DT, 4954, 5000, 5500i, 5600, 5600i, 5900, 5900i, 5900i 7300, 7400, 7400 SFA, 7500, 7500 7600, 7600 7700, 8100, 8200, 8300, 8500, 8600, 8600 9000, 9100, 9200, 9200i, 9200i 9300, 9300 9370, 9400, 9400 9400i, 9900 9900i, ACCO 1850D, DURASTAR F1954, F2070A, F2375, F2554, F2574, F2575, F2674, F4370, F5070, F9370, FLEETSTAR 2000, G2604, HX515, HX520, HX615, HX620, LOADSTAR 1600, PAYSTAR 5500, PROSTAR, PROSTAR+, S1600, S1754, S1900, S1954, S2500, S2574, S2600, TRANSTAR, TRANSTAR WORKSTAR C500, C510, C550, K123, T270, T300, T330, T359, T370, T404, T440, T470, T600, T600A, T660, T800, T800B, T800W, T880, W900, W900A, W900B, W900L, W900S, W923, 300, 330, 335, 337, 340, 348, 357, 357SB, 358, 359, 359A, 359EXHD, 359S, 365, 367, 375, 377, 378, 378SB, 379, 379EXHD, 382, 384, 385, 386, 388, 389, 567, 579, 587, Volvo ACL64, ACL64B, ACL64BT, F12, FH500, FL626, FM7, FM9, FM12, FM380, FM440, FM480, FMX460, N1225, NH12, VHD42B200, VHD62B200, VHD62F200, VHD64B200, VHD64BT430, VHD64F200, VHD64FT200, VHD84B200, VHD84F200, VHD86B200, VHD104B200, VHD124F200, VNL64300, VNL64T300, VNL64T430, VNM42T200, VNM64T200, WCA64, WG42, WG64, WG64F, WG64T, WG64B, WIA64, WIA64T, WX42, Western Star 490, 3864S, 4700SB, 4700SF, 4764T, 4800FX, 4842, 4864F, 4900EX, 4900FA, 4900FX, 4900SA, 4900SB, 4900SF, 4964, 4964EX, 4964F, 4964FX, 4964SA, 5964S, 6900XD, 600, B60LS, B75, CH600, CH612, CH613, CH688R, CHN613, CL613, CL700, CL713, CL733, CL753, DM60, DM237, DM600, DM600GK, DM607S, DM685, DM685S, DM685SX, DM686, DM686S, DM686SX, DM688, DM688S, DM688SX, DM690, DM690S, DM800, DM809SX, DMM685, GRANITE, GRANITE CT713, CTP713, CTP713B, CU713, CV513, CV533, CV703, CV712, CV713, GU432, GU433, GU533, GU703, GU712, GU713, GU813, GU813E, METRO LINER, MIDLINER, MIDLINER CS200, CS200P, CS250P, CS300P, MS300, MRU613, PINNACLE, PINNACLE CHU613, CXP612, CXP613, CXU612, CXU613, R68ST, R487P, R600, R609, R685, R685ST, R685T, R686, R686LST, R686ST, R686SX R686T, R688, R688LST, R688S, R688ST, R690, R690S, R719S, R747ST, RB600, RB688, RB688S, RB688SX RB690S, RB690SX,Mack RD600, RD600GK RD668ST, RD685, RD685S, RD685ST, RD686, RD686 RD686LS, RD686S, RD686SX, RD688, RD688D, RD688P, RD688S RD688ST, RD688SX RD690, RD690P,Mack RD690S, RD690ST, RD822SX, RD854, RD890SX, RD960S, RM6864X, RS686, SUPERLINER, SUPERLINER RW613, RW633, RW713, RWS786LST, TRIDENT, VISION, VISION CX612, CX613, CXN612 CXN613, Used used Volteo usado, volquete usados, tierra Freightliner, International, Peterbilt, Kenworth, Mack, Sterling, Star, Freightliners, Internationals, Peterbilts, Kenworths, Sterlings, Stars, Sterling Mixer Concrete Sewer Rodder Tow Roll-Back pumper grapple bomba succion tipper freightliners macks Peterbilts kenworths internationals sewer cleaning, liquid waste disposal, tanks, tanker septic, FINANCING tractor trailer buy here pay here, in house trucker day cab terrible credit no check zero Financiamiento financiamiento sin documentos, visa, ilegales, venezolanos documentos Porta potty, hydroexcavation equipment, waste, pumper, water recycling, jetters, rodder, rodding guzzler, jet/vac, loader, wet/dry tank, industrial, services, plumbing industrial portable sanitation disposal grease 1500 gallon 2000 2500 2600 2650 3400 4000 5000 steel magazine, craigslist, com, magazine classifieds, vac by owner, Keywords:lifted rough country treadwright ford, f150 f 150 f-150 f250 250 f-250 f350 350 f-350 f450 450 f-450 f550 550 f-550, f650 F eseries e-series e series cargo van extended SB SMALL BED LB LONG XL XLT Super Duty Lariat King Ranch Sierra Denali,escalade Silverado expedition excursion tahoe Yukon LT SLT 2500HD 1500HD 3500 3500HD Power Stroke 5.7 6.0 6.4 6.7 7.3 Hemi Turbo Diesel, Diesel duramax lifted offroad, freedomway, freedomway trailers flatbed flat bed stepdeck step deck dropdeck drop ,trucks lowboy big rig kenworth kw t660 t680 t700 t600 t800 t880 t2000 w900 w990 w900l ,t660 t300, international prostar lonestar 9200 9900i ,vnl630 ,vnl660 vnl670 vnl780 vnl730 freightliner fld112 fld120 fld132 fld132xl cl120 flc120 columbia, century, coronado cascadia evolution classic classicxl condo peterbilt 379 378 387 377 386 388 389 348 cx613 ch613 vision midroof flattop utility ,Freightliner, Owner, Operator, Over the Road, Trucking, Drivers, Semi, Day Cab, Cascadia, Pete, KW, Peterbuilt, Classic Semi Tractors, 579 578 Cummins, Detroit, Detroit CAT, C15, C13 C12 Caterpillar, Cabs, Day-cab, Raised Roof, Midroof, Box Tandem axle, Semi-tractor, Drive Tandem, VNL670, VNL780, VNL630, VNL730, VNL430, Century, Columbia, Coronado 12.7 Cummins n14 d12 d13, isx, t2000, t600, t660, t680, t700,t800, Cascadia classic, Coronado,freightliner fld, m2, isx cummins ism swap 4x4 diesel dd15 detroit litter 60, dd13, manual transmission, auto, automatic, dt12, ishift, i-shift integrated powertrain, DT12 pete ken worth w900, M2, DD15, UD 2600, T680 Volvo, liftgate lift gate, d13 reefer dry car hauler, box transmission auto automatic dt12 ishift powertrain    133\n",
       "                                                                                                                                                                                                                                                                                                                                                                                                                                                                                                                                                                                                                                                                                                                                                                                                                                                                                                                                                                                                                                                                                                                                                                                                                                                                                                                                                                                                                                                                                                                                                                                                                                                                                                                                                                                                                                                                                                                                                                                                                                                                                                                                                                                                                                                                                                                                                                                                                                                                                                                                                                                                                                                                                                                                                                                                                                                                                                                                                                                                                                                                                                                                                                                                                                                                                                                                                                                                                                                                                                                                                                                                                                                                                                                                                                                                                                                                                                                                                                                                                                                                                                                                                                                                                                                                                                                                                                                                                                                                                                                                                                                                                                                                                                                                                                                                                                                                                                                                                                                                                                                                                                                                                                                                                                                                                                                                                                                                                                                                                                                                                                                                                                                                                                                                                                                                                                                                                                                                                                                                                                                                                                                                                                                                                                                                                                                                                                                                                                                                                                                                                                                                                                                                                                                                                                                                                                                                                                                                                                                                                                                                                                                                                                                                                                                                                                                                                                                                                                                                                                                                                                                                                                                                                                                                                                                                                                                                                                                                                                                                                                                                                                                                                                                                                                                                                                                                                                                                                                                                                                                                                                                                                                                                                                                                                                                                                                                                                                                                                                                                                                                                                                                                                                                                                                                                                                                                                                                                                                                                                                                                                                                                                                                                                                                                                                                                                                                                                                                                                                                                                                                                                                                               ... \n",
       "No Money Down Auto Loans!Answer 5 easy questions at www.guaranteed-auto-credit.comBAD CREDIT OK - PAST REPO OKNO CREDIT? NO COSIGNER?NO PROBLEM0 Money Down + ID or License + Your Pay Stub = a 2014-2020 car or truck for you todayLike this: 2018 Nissan AltimaVEHICLE INFORMATIONYear: 2018Make: NissanModel: AltimaBody Style: 4D Sedan  Exterior: Super Black ClearcoatDrivetrain: FWDTrans: CVT with XtronicEngine: 2.5L 4-Cylinder DOHC 16VMonthly Payment: $228To Get Approved Now Answer 5 Simple Questions. www.guaranteed-auto-credit.com-If not clickable, please copy and place website above into your browser-MATRICULA, ITIN, MAL O NO CREDITOwww.ManejeHoyMismo.com=================================Zeigler Automotive2501 Ogden AveDowners Grove, Illinois 60515CALL or TEXT 630-934-6525We can help everybody get a NO MONEY DOWN AUTO LOAN TODAY, even if you have made past mistakes. Answer 5 Easy Questions at  www.guaranteed-auto-credit.com to get approved today!We specialize in helping with:•Bad Credit •Good Credit •No Credit •Repossession •Low Income •Cash Job •Unemployment •Dissability •Bankruptcy •SSI Income •Forclosures •JudgementsLocated 15 miles or less from the following cities and zip codes:LISLE 60532WESTMONT 60559CLARENDON HILLS 60514GLEN ELLYN 60137DOWNERS GROVE 60516OAK BROOK 60523LOMBARD 60148FOX VALLEY 60599HINSDALE 60522GLEN ELLYN 60138DARIEN 60561WOODRIDGE 60517HINSDALE 60521WHEATON 60189VILLA PARK 60181WHEATON 60187NAPERVILLE 60540NAPERVILLE 60567NAPERVILLE 60566WESTERN SPRINGS 60558WILLOWBROOK 60527ELMHURST 60126NAPERVILLE 60565NAPERVILLE 60563HILLSIDE 60162WESTCHESTER 60154GLENDALE HEIGHTS 60139WINFIELD 60190CAROL STREAM 60199BERKELEY 60163BOLINGBROOK 60440ADDISON 60101LA GRANGE PARK 60526CAROL STREAM 60188CAROL STREAM 60197CAROL STREAM 60128CAROL STREAM 60132CAROL STREAM 60116WARRENVILLE 60555BELLWOOD 60104LEMONT 60439LA GRANGE 60525BROOKFIELD 60513BROADVIEW 60155BLOOMINGDALE 60117WILLOW SPRINGS 60480STONE PARK 60165BLOOMINGDALE 60108MELROSE PARK 60164WEST CHICAGO 60186AURORA 60598RIVERSIDE 60546SUMMIT ARGO 60501MELROSE PARK 60160HINES 60141MAYWOOD 60153LYONS 60534JUSTICE 60458MELROSE PARK 60161BOLINGBROOK 60490WOOD DALE 60399BENSENVILLE 60105WOOD DALE 60191ITASCA 60143WEST CHICAGO 60185EOLA 60519MEDINAH 60157BENSENVILLE 60106FRANKLIN PARK 60131NAPERVILLE 60564FOREST PARK 60130AURORA 60572CHICAGO 60682ROSELLE 60172AURORA 60504HICKORY HILLS 60457AURORA 60502RIVER FOREST 60305SCHAUMBURG 60196BERWYN 60402RIVER GROVE 60171ROMEOVILLE 60446BRIDGEVIEW 60455PLAINFIELD 60585HANOVER PARK 60133PALOS HILLS 60465PALOS PARK 60464OAK PARK 60301OAK PARK 60304SCHILLER PARK 60176*Payments are based on approved credit with 6.9 APR for 84 months plus tax, title, & license. Offer ends May 31st, 2021. See dealer for additional details.                                                                                                                                                                                                                                                                                                                                                                                                                                                                                                                                                                                                                                                                                                                                                                                                                                                                                                                                                                                                                                                                                                                                                                                                                                                                                                                                                                                                                                                                                                                                                                                                                                                                                                                                                                                                                                                                                                                                                                                                                                                                                                                                                                                                                                                                                                                                                                                                                                                                                                                                                                                                                                                                                                                                                                                                                                                                                                                                                                                                                                                                                                                                                                                                                                                                                                                                                                                                                                                                                                                                                                                                                                                                                                                                                                                                                                                                                                                                                                                                                                                                                                                                                                                                                                                                                                                                                                                                                                                                                                                                                                                                                                                                                                                                                                                                                                                                                                                                                                                                                                                                                                                                                                                                                                                                                                                                                                                                                                                                                                                                                                                                                                                                                                                                                                                                                                                                                                                                                                                                                                                                                                                                                                                                                                                                                                                                                                                                                                                                                                                                                                                                                                                                                                                                                                                                                                                                                                                                                                                                                                                                                                                                                                                                                                                       1\n",
       "Why Buy From Sherman Dodge?At Sherman Dodge we strive to provide outstanding professional service in all areas of our Skokie Chrysler Dodge Jeep RAM dealership. We are proud to present new models and are confident we can find the new car, truck, van, or SUV of your dreams. If you are in the market for a used car in Skokie, look no further! At Sherman Dodge Chrysler Jeep, we stock a large amount of high quality used cars to serve the Chicago, Evanston, Park Ridge, Niles and Arlington Heights region. We are proud to have certified and pre-owned vehicles ready for you to test drive today. Stock# 201458815-332-0491 - Call now for your best deal!For all details on this vehicle, visit:http://cardetails.manmarketing.com/6528847-77546 Vehicle OverviewTrim: SE van Mileage: 10 Exterior Color: White Knuckle Clearcoat Interior Color: Black/Light Graystone Engine: 3.6L V6 24V VVT Drive:  Transmission: 6-Speed Automatic VIN:  2C4RDGBG3LR248784Seller Comments: Welcome to SHERMAN MOBILITY SUPERSTORE where family comes first.At Sherman Dodge, we have a department that specializes in Special Needs Mobility Vehicles.Our staff is specially trained on the needs of individuals who have physical disabilities, or limited mobility.We have over 20 years of experience serving each customers unique situation, and we are proud to be a part of making your life easier and more convenient, with a Special Needs Mobility Vehicle.We are also proud to share that Sherman Dodge is recommended by the Spinal Cord Association Illinois.This tells you that we adhere to the absolute highest standards in safety in this industry..We offer a variety of Mobility Vehicles to allow more freedom and a HIGHER QUALITY OF LIFE.Come in and see our Mobility Specialists for a complete analysis of your needs.Sherman Dodge Chrysler Jeep RAM prides itself in exceeding all customer expectations! We are located at: 7601 N.Cicero Ave, Skokie, IL 60077.Or Call 866-594-4000White Knuckle Clearcoat 2020 Dodge Grand Caravan SE Mobility Rear Entry FWD 6-Speed Automatic 3.6L V6 24V VVT MOBILITY EQUIPPED.At Sherman Dodge Chrysler Jeep RAM ProMaster.We help customers get vehicle loans that fit their budget, enabling them to drive away with a new or used vehicle.Regardless of your credit status, we can help.No credit or bad credit? No problem !! Come to 7601 N Skokie Blvd, and meet with our financial professionals.An affordable car loan or lease is within reach at Sherman Dodge Chrysler Jeep RAM ProMaster.Sherman Dodge Chrysler Jeep RAM ProMaster, Proudly Serving Skokie, Chicago, Arlington Heights, Park Ridge, Evanston and Niles, Offers More Than Just Friendly Service. By appointment only. To request a price quote, visit:http://cardetails.manmarketing.com/6528847-77546 *CALL* or *TEXT* us to see how we can help you finance this Dodge Grand Caravan!Mention you saw STOCK #201458 on Craigslist for a great deal: 815-332-0491Standard Features115V Auxiliary Power Outlet17&quotWheel Covers2-stage unlocking doors2nd Row Bench w/Rear Stow &039N Go 60/402nd Row Overhead 9&quotVGA Video Screen2nd Row Overhead DVD Console3.16 Axle Ratio3rd row seats: split-bench4-Wheel Disc Brakes40GB Hard Drive w/28GB Available6 Speakers6.5&quotTouchscreen DisplayABS (4-wheel)ABS brakesAM/FM radio Disclaimer: While every reasonable effort is made to ensure the accuracy of the information for this Dodge Grand Caravan, we are not responsible for any errors or omissions contained in this ad. Please verify any information in question with Sherman Dodge at 815-332-0491*Dodge* *Grand* *Caravan* *VP* *Dodge* *Grand* *Caravan* *SE* *Dodge* *Grand* *Caravan* *SXT* *Dodge* *Grand* *Caravan* *Crew* *Dodge* *Grand* *Caravan* *R/T* *Dodge* *Grand* *Caravan* *Base* *Dodge* *Grand* *Caravan* *EX* *Dodge* *Grand* *Caravan* *LE* *Dodge* *Grand* *Caravan* *C/V* *Dodge* *Grand* *Caravan* *ES* *AWD* *Dodge* *Grand* *Caravan* *Caravan* *Sport* *Dodge* *Grand* *Caravan* *Caravan* *Mainstreet* *Mini* *Van* 2022  2021  2020  2019  2018  2017  2016  2015  2014  2013  2012  2011  2010  2009  2008  2007  2006  2005  2004  2003  2002  2001  2000   22  21    19  18  17  16  15  14  13  12  11  10  09  08  07  06  05  04  03  02  01  00                                                                                                                                                                                                                                                                                                                                                                                                                                                                                                                                                                                                                                                                                                                                                                                                                                                                                                                                                                                                                                                                                                                                                                                                                                                                                                                                                                                                                                                                                                                                                                                                                                                                                                                                                                                                                                                                                                                                                                                                                                                                                                                                                                                                                                                                                                                                                                                                                                                                                                                                                                                                                                                                                                                                                                                                                                                                                                                                                                                                                                                                                                                                                                                                                                                                                                                                                                                                                                                                                                                                                                                                                                                                                                                                                                                                                                                                                                                                                                                                                                                                                                                                                                                                                                                                                                                                                                                                                                                                                                                                                                                                                                                                                                                                                                                                                                                                                                                                                                                                                                                                                                                                                                                                                                                                                                                                                                                                                                                                                                                                                                                                                                                                                                                                                                         1\n",
       "Signature Truck CenterAsk for: Craigslist Sales Team☎ (815) 310-3324970 Pyott Rd Crystal Lake, IL 60014Enter this link to see more images plus all other inventory we have available: http://lyv.cc/DMJPR2010 Ford E-450 16 Passenger Paratransit Shuttle BusPrice: $13,900.00Description:2010 Ford E-450 16 Passenger Paratransit Shuttle Bus with 133,427 Miles, V8 Diesel Engine, Automatic Transmission. AC/Heat Works, Tilt Steering Wheel, Powered Passenger Entry Doors, Wheelchair Lift, Handrails, Back-Up Alarm, Dual Rear Wheels.If you have any questions please contact us! Ask about our Finance Options! Trades Welcome!! Contact our Sales Team today at 815-310-3320.Stock #16437Signature Truck Center970 Pyott RdCrystal Lake, IL 60014Ask for: Craigslist Sales TeamMain: (815) 310-3324A27FBAFAEA464DBBB650D168074EE06C 30471068 9398640                                                                                                                                                                                                                                                                                                                                                                                                                                                                                                                                                                                                                                                                                                                                                                                                                                                                                                                                                                                                                                                                                                                                                                                                                                                                                                                                                                                                                                                                                                                                                                                                                                                                                                                                                                                                                                                                                                                                                                                                                                                                                                                                                                                                                                                                                                                                                                                                                                                                                                                                                                                                                                                                                                                                                                                                                                                                                                                                                                                                                                                                                                                                                                                                                                                                                                                                                                                                                                                                                                                                                                                                                                                                                                                                                                                                                                                                                                                                                                                                                                                                                                                                                                                                                                                                                                                                                                                                                                                                                                                                                                                                                                                                                                                                                                                                                                                                                                                                                                                                                                                                                                                                                                                                                                                                                                                                                                                                                                                                                                                                                                                                                                                                                                                                                                                                                                                                                                                                                                                                                                                                                                                                                                                                                                                                                                                                                                                                                                                                                                                                                                                                                                                                                                                                                                                                                                                                                                                                                                                                                                                                                                                                                                                                                                                                                                                                                                                                                                                                                                                                                                                                                                                                                                                                                                                                                                                                                                                                                                                                                                                                                                                                                                                                                                                                                                                                                                                                                                                                                                                                                                                                                                                                                                                                                                                                                                                                                                                                                                                                                                                                                                                                                                                                                                                                     1\n",
       "2018 ★Ford Focus★ *Sedan* For Updated Price Sent To Your Phone Please Text Stock Number   📱   43043A2  To   847-752-0042   or Visit this dealer's vehicle link.           http://carx.me/v178  For more information on this vehicle, please call Our Used Car Department at:  ☎ 847-752-0042  Vehicle Info: 2018 Ford Focus  Exterior Color:    Green  Interior Color:     Charcoal Black  Engine:    EcoBoost 1.0L I3 GTDi DOHC Turbocharged VCT  Transmission: Automatic  Miles: 42120  Stock #: 43043A2  For more information on this car, please call us at:  847-752-0042  or visit the url listed below into a new browser: Test Drive Incentive While Supplies Last Hurry And Call - Paste Below Link To Find Out <b For even more details, pictures and Financing Options, Paste the link below into your browser:  http://carx.me/v178 Follow Link For Test Drive Incentive - We would love to make an offer on your used vehicle.  Please bring it in.  Even if you owe more than what it is worth.  We can get that deal done all day long.  For Updated Price Sent To Your Phone Please Text Stock Number   📱   43043A2  To   847-752-0042     Equipment on this vehicle:  4D Sedan 6-Speed Automatic FWD EcoBoost 1.0L I3 GTDi DOHC Turbocharged VCT SE SE HABLA ESPANOL   WE TRY TO FINANCE EVERYONE - GOOD/BAD/NO CREDIT - NO PROBLEM!  Financiamos a todos. Buen crédito mal crédito no hay problema    WE HAVE A PROGRAM FOR EVERY CREDIT SITUATION - APPROVED!   Tenemos programas de financiamiento para cualquier tipo de crédito. Estas aprobado.    COMPETITIVE RATES - LOW DOWN PAYMENTS - LOW MONTHLY PAYMENTS!   Tasas de interés competitivas, muy poco dinero de entrada, pagos mensuales muy bajos!    SECOND-CHANCE FINANCING - FOR LESS THAN PERFECT CREDIT!   Segunda oportunidad de financiamiento, no importa que tu crédito esté perfecto!    FIRST TIME BUYER'S PROGRAM - FOR PEOPLE WITH NO CREDIT!   Programa de financiamiento para compradores de 1ra vez. Compradores con cero crédito.    HAND PICKED, LOW MILEAGE, CLEAN VEHICLES - SAVE THOUSANDS!   Autos escogidos de primera mano un solo dueño, autos súper limpios, título limpio, baja millas, los mejores precios de la ciudad.    EXTENDED WARRANTIES AVAILABLE! TRADE-INS WELCOME! WE BUY USED CARS!   Ofrecemos garantías extendidas. Compramos carros usados.    NOW TAKING APPLICATIONS ONLINE  TOMAMOS APLICACIONES POR INTERNET   WE ACCEPT TRADE-INS  ACEPTAMOS Tu carro en forma de pago  Camionetas para uber luxury Carros para uber Camionetas de trabajo Carros deportivos  Carros de lujos     Vehicle Description: FIND OUT WHY WE HAVE A 4.6 GOOGLE RATING AND WHY WE HAVE OVER 10,000 REVIEWS ONLINE!!!   Buyer is responsible for Tax, Title, License and Doc Fee. All advertised vehicles are subject to actual dealer availability. Options and pricing are subject to change. We are not liable for pricing errors. See dealer for details. *Pit Stop service- At no charge, we will inspect and top of all our vehicles fluids anytime during service hours. You'll be in and out in 5 minutes or less. *TechTeam Specialists- Visit us or we'll go to you anytime. As vehicle technology evolves make sure you completely understand all the features of your vehicle. Our TechTeam is here to help with set up and to troubleshoot any issues.  We buy hundreds of vehicles direct from private sellers every month.....many don't even buy from us....please stop in and let us make an offer for cash on your vehicle! Example Monthly Payment Program Details  Follow Link To Apply See Dealer Use Your Trade Here - We Buy Cars For Cash$20 down. 2.9% APR for 75 months. $ 349.27 total amount financed.  Inludes  $169.37 dealer doc fee. 75 monthly payments of  $14.59 for each $1,000 borrowed.  Plus government  fees and taxes, any finace charge, any electronic  filing charge, and any emission testing charge.  APR available from select lenders as of today.   Not all buyers will qualify.  Please contact  dealer for complete details. Options:  Disclaimer: Vehicle availability subject to prior sale. Dealer reserves the right to make changes without notice, and is not responsible for errors or omissions. All prices exclude government fees and taxes, any finance charges, any emissions test charges and any doc fees. Financing is subject to credit approval.  This vehicle is located at: Ray Chevrolet & Suzuki39 N Route 12  Fox Lake, IL 60020   Phone:  877-403-0115 For more information on this car, please call us at: 877-403-0115 or visit this url into a new browser: www.raychevrolet.com/en/VehicleSearch?t=Used&utm_source=CL        (\"➨*****POST M A N A G E D   B Y&#160ΝΑDΑSEO.COM*****\"\")                   Bassett,Benet Lake,Bristol,Burlington,Camp Lake,Delavan,East Troy,Elkhorn,Fontana,Franksville,Genoa City,Honey Creek,Kansasville,Kenosha,Lake Geneva,Lyons,New Munster,Pell Lake,Pleasant Prairie,Powers Lake,Rochester,Salem,Silver Lake,Somers,Springfield,Sturtevant,Trevor,Twin Lakes,Union Grove,Walworth,Waterford,Williams Bay,Wilmot,Woodworth,Zenda,Racine,Sharon,Alden,Antioch,Arlington Heights,Elk Grove Village,Rolling Meadows,Barrington,Crystal Lake,Cary,Deerfield,Des Plaines,Fox Lake,Fox River Grove,Glencoe,Glenview,Golf,Grayslake,Gurnee,Harvard,Hebron,Highland Park,Fort Sheridan,Palatine,Highwood,Ingleside,Island Lake,Lake Bluff,Lake Forest,Lake Villa,Lake Zurich,Libertyville,Mchenry,Mount Prospect,Mundelein,Vernon Hills,Northbrook,North Chicago,Lincolnshire,Prospect Heights,Richmond,Ringwood,Round Lake,Russell,Waukegan,Spring Grove,Techny,Wadsworth,Wauconda,Great Lakes,Buffalo Grove,Wheeling,Winnetka,Winthrop Harbor,Wonder Lake,Woodstock,Zion,Algonquin,Bartlett,Streamwood,Bloomingdale,Carpentersville,Dundee,Elgin,Carol Stream,Hanover Park,Gilberts,Hampshire,Huntley,Itasca,Marengo,Lake In The Hills,Medinah,Schaumburg,Hoffman Estates,Roselle,South Elgin,Union,Wayne,Capron,Garden Prairie, Chicago, Milwaukee, Madison, Janesville, Bad Credit,  Rockford,53101, Push Pull Drag, Same Day Cash For Trade, Bhph, Racine, {2018 Ford Focus  / * 2018 FORD FOCUS * / ** Ford ** / ** Focus ** / Sedan SE / Poor Credit / Approval / No Credit / *Bad Credit* / Approve / Internet / Online / Financing / Finance / Bad Credit Car Loan / **Bad Credit** / For Sale / Clean / Used / Like New / *BAD* / *Credit* / *Finance* / *bad credit* / *Financing* / *Loan* / *BAD CREDIT OK* }    _BAD_CREDIT_ok _BAD_CREDIT_ok _BAD_CREDIT_ok _BAD_CREDIT_ok _BAD_CREDIT_ok _BAD_CREDIT_ok _BAD_CREDIT_ok _BAD_CREDIT_ok _BAD_CREDIT_ok _BAD_CREDIT_ok _BAD_CREDIT_ok _BAD_CREDIT_ok _BAD_CREDIT_ok _BAD_CREDIT_ok _BAD_CREDIT_ok _BAD_CREDIT_ok _BAD_CREDIT_ok _BAD_CREDIT_ok _BAD_CREDIT_ok _BAD_CREDIT_ok Options: Visiting this Website, texting, or sending emails to us constitutes electronic communications. You consent to receive electronic communications from us and agree to notify us of any changes in your telephone number or email address. Except as otherwise required under applicable law, you agree that all agreements, notices, and other communications that we provide to you electronically, via email, text or on the Website, satisfy any legal requirement that such communications be in writing.  Text Messages and Other Communications to a Telephone You authorize us to contact you, including by sending text messages directly or through a conduit text messaging service and other communications to a cell phone using an automatic telephone dialing system or an artificial or prerecorded voice message, at any number you provide. You acknowledge that any text messages or prerecorded messages sent by us may contain sales or marketing content. You may revoke your consent for us to contact you at a specified telephone number by communicating your revocation to us through any reasonable means.  Phone Calls with Us through this Website You agree and knowingly accept that any call you make to us through this Website may be recorded for business purposes by us with recording technology powered by Carsforsale.com. Additionally, you agree and consent that any call that you accept from us may be recorded for business purposes. To cease additional recording, you can end your telephone call at any time. Voice recordings may be stored for an indefinite period of time.  Links, Widgets, Embeds, Social Media, and Other Third Party Features This Website may provide links to other websites for the convenience of Website users. The Website may also make use of widgets, embeds, social media, or other third party features that are hosted by a third party or hosted directly on the Website. Your interactions with any link or third party widget, embed, social media, or other feature are governed by the terms and conditions of use of the third party providing the widget, embed, social media, or other third party feature, or the terms and conditions of use of the linked website. The terms and conditions of use of third parties may be substantially different than these Terms. We neither own nor control third party websites, widgets, embeds, social media, or other features that are accessible through this Website. Therefore, before visiting the website of a third party, or making use of a third party feature on the Website, whether by means of widget, embed, social media feature, or otherwise, you should first consult that third party's terms and conditions of use (if any) and inform yourself of the terms applicable to that third party's website, feature, or services (if any). We are not responsible for any dealings with third parties you may have through a third party website, link, widget, embed, social media, or other third party feature.                                                                                                                                                                                       1\n",
       "Carvana is the safer way to buy a car During these uncertain times, Carvana is dedicated to ensuring safety for all of our customers. In addition to our 100% online shopping and selling experience that allows all customers to buy and trade their cars without ever leaving the safety of their house, we’re providing touchless delivery that make all aspects of our process even safer. Now, you can get the car you want, and trade in your old one, while avoiding person-to-person contact with our friendly advocates. There are some things that can’t be put off. And if buying a car is one of them, know that we’re doing everything we can to keep you keep moving while continuing to put your health safety, and happiness first. Vehicle Stock# 2000909942📱 Want to instantly check this car’s availability? Call us at  307-215-1645Just text that stock number to 855-976-4304 or head to http://www.carvanaauto.com/6827369-75173 and plug it into the search bar!Get PRE-QUALIFIED for your auto loan in 2 minutes - no hit to your credit:http://finance.carvanaauto.com/6827369-75173Looking for more cars like this one? We have 115 BMW 4 Series in stock for as low as $17990!Why buy with Carvana? We have one standard: the highest. Take a look at just some of the qualifications all of our cars must meet before we list them.150-POINT INSPECTION: We put each vehicle through a 150-point inspection so that you can be 100% confident in its quality and safety. See everything that goes into our inspections at:http://www.carvanaauto.com/6827369-75173NO REPORTED ACCIDENTS: We do not sell cars that have been in a reported accident or have a frame or structural damage.7 DAY TEST OWN MONEY BACK GUARANTEE: Every Carvana car comes with a 7-day money-back guarantee. Why? It takes more than 15-minutes to make a decision on your next car. Learn more about test owning at http://about.carvanaauto.comFLEXIBLE FINANCING, TRADE INS WELCOME: We’re all about real-time financing without the middle man. Need financing? Pick a combination of down and monthly payments that work for you. Have a trade-in? We’ll give you a value in 2 minutes. Check out everything about our financing at:http://finance.carvanaauto.com/6827369-75173COST SAVINGS: Carvana's business model has fewer expenses and no bloated fees compared to your local dealership. See how much we can save you at http://about.carvanaauto.comPREMIUM DETAIL: We go the extra mile so that your car is looking as good as new. There are a lot of specifics that we won’t list here (we wash, clean, buff, paint, polish, wax, seal), but trust us that when your car arrives, it’s going to look sweet.Vehicle Info for Stock# 2000909942Trim: 430i Gran Coupe Sedan 4D coupeMileage: 22k milesExterior Color: GrayInterior Color: BLACKEngine: 2.0L Turbo I4 248hp 258ft. lbs.Drive: rwdTransmission: VIN: WBA4J1C58KBM14708Dealer Disclosure: Price excludes tax, title, and registration (which we handle for you).Disclaimer: You agree that by providing your phone number, Carvana, or Carvana’s authorized representatives*, may call and/or send text messages (including by using equipment to automatically dial telephone numbers) about your interest in a purchase, for marketing/sales purposes, or for any other servicing or informational purpose related to your account. You do not have to consent to receiving calls or texts to purchase from Carvana. While every reasonable effort is made to ensure the accuracy of the information for this BMW 4 Series, we are not responsible for any errors or omissions contained in this ad. Please verify any information in question with Carvana at 307-215-1645*Including, but not limited to, Bridgecrest Credit Company, GO Financial and SilverRock Automotive.*BMW* *4* *Series* *i* *2* *BMW* *4* *Series* *i2* *BMW* *4* *Series* *ix* *BMW* *4* *Series* *i* *x* *Rear* *Wheel* *drive* *Coupe* *BMW* *4* *Series* *All-* *Wheel* *Drive* *Convertible* 2022  2021  2020  2019  2018  2017  2016  2015  2014  2013  2012  2011  2010  2009  2008  2007  2006  2005  2004  2003  2002  2001  2000   22  21    19  18  17  16  15  14  13  12  11  10  09  08  07  06  05  04  03  02  01  00                                                                                                                                                                                                                                                                                                                                                                                                                                                                                                                                                                                                                                                                                                                                                                                                                                                                                                                                                                                                                                                                                                                                                                                                                                                                                                                                                                                                                                                                                                                                                                                                                                                                                                                                                                                                                                                                                                                                                                                                                                                                                                                                                                                                                                                                                                                                                                                                                                                                                                                                                                                                                                                                                                                                                                                                                                                                                                                                                                                                                                                                                                                                                                                                                                                                                                                                                                                                                                                                                                                                                                                                                                                                                                                                                                                                                                                                                                                                                                                                                                                                                                                                                                                                                                                                                                                                                                                                                                                                                                                                                                                                                                                                                                                                                                                                                                                                                                                                                                                                                                                                                                                                                                                                                                                                                                                                                                                                                                                                                                                                                                                                                                                                                                                                                                                                                               1\n",
       "Name: count, Length: 342666, dtype: int64"
      ]
     },
     "execution_count": 14,
     "metadata": {},
     "output_type": "execute_result"
    }
   ],
   "source": [
    "df[\"description\"].value_counts()"
   ]
  },
  {
   "cell_type": "code",
   "execution_count": 15,
   "id": "cd14e87f",
   "metadata": {},
   "outputs": [],
   "source": [
    "#description has valuable info but unsure how to extract it. "
   ]
  },
  {
   "cell_type": "code",
   "execution_count": 16,
   "id": "aabad647",
   "metadata": {},
   "outputs": [
    {
     "data": {
      "text/plain": [
       "condition\n",
       "good         118461\n",
       "excellent     91734\n",
       "like new      19870\n",
       "fair           6156\n",
       "new            1226\n",
       "salvage         225\n",
       "Name: count, dtype: int64"
      ]
     },
     "execution_count": 16,
     "metadata": {},
     "output_type": "execute_result"
    }
   ],
   "source": [
    "df[\"condition\"].value_counts()"
   ]
  },
  {
   "cell_type": "code",
   "execution_count": null,
   "id": "36e82cfd",
   "metadata": {},
   "outputs": [],
   "source": []
  },
  {
   "cell_type": "code",
   "execution_count": 17,
   "id": "4f637b31",
   "metadata": {},
   "outputs": [
    {
     "data": {
      "text/html": [
       "<div>\n",
       "<style scoped>\n",
       "    .dataframe tbody tr th:only-of-type {\n",
       "        vertical-align: middle;\n",
       "    }\n",
       "\n",
       "    .dataframe tbody tr th {\n",
       "        vertical-align: top;\n",
       "    }\n",
       "\n",
       "    .dataframe thead th {\n",
       "        text-align: right;\n",
       "    }\n",
       "</style>\n",
       "<table border=\"1\" class=\"dataframe\">\n",
       "  <thead>\n",
       "    <tr style=\"text-align: right;\">\n",
       "      <th></th>\n",
       "      <th>region</th>\n",
       "      <th>price</th>\n",
       "      <th>year</th>\n",
       "      <th>manufacturer</th>\n",
       "      <th>model</th>\n",
       "      <th>condition</th>\n",
       "      <th>cylinders</th>\n",
       "      <th>fuel</th>\n",
       "      <th>odometer</th>\n",
       "      <th>transmission</th>\n",
       "      <th>drive</th>\n",
       "      <th>size</th>\n",
       "      <th>type</th>\n",
       "      <th>paint_color</th>\n",
       "      <th>description</th>\n",
       "      <th>state</th>\n",
       "      <th>lat</th>\n",
       "      <th>long</th>\n",
       "      <th>posting_date</th>\n",
       "    </tr>\n",
       "  </thead>\n",
       "  <tbody>\n",
       "    <tr>\n",
       "      <th>426875</th>\n",
       "      <td>wyoming</td>\n",
       "      <td>23590</td>\n",
       "      <td>2019.0</td>\n",
       "      <td>nissan</td>\n",
       "      <td>maxima s sedan 4d</td>\n",
       "      <td>good</td>\n",
       "      <td>6 cylinders</td>\n",
       "      <td>gas</td>\n",
       "      <td>32226.0</td>\n",
       "      <td>other</td>\n",
       "      <td>fwd</td>\n",
       "      <td>NaN</td>\n",
       "      <td>sedan</td>\n",
       "      <td>NaN</td>\n",
       "      <td>Carvana is the safer way to buy a car During t...</td>\n",
       "      <td>wy</td>\n",
       "      <td>33.786500</td>\n",
       "      <td>-84.445400</td>\n",
       "      <td>2021-04-04T03:21:31-0600</td>\n",
       "    </tr>\n",
       "    <tr>\n",
       "      <th>426876</th>\n",
       "      <td>wyoming</td>\n",
       "      <td>30590</td>\n",
       "      <td>2020.0</td>\n",
       "      <td>volvo</td>\n",
       "      <td>s60 t5 momentum sedan 4d</td>\n",
       "      <td>good</td>\n",
       "      <td>NaN</td>\n",
       "      <td>gas</td>\n",
       "      <td>12029.0</td>\n",
       "      <td>other</td>\n",
       "      <td>fwd</td>\n",
       "      <td>NaN</td>\n",
       "      <td>sedan</td>\n",
       "      <td>red</td>\n",
       "      <td>Carvana is the safer way to buy a car During t...</td>\n",
       "      <td>wy</td>\n",
       "      <td>33.786500</td>\n",
       "      <td>-84.445400</td>\n",
       "      <td>2021-04-04T03:21:29-0600</td>\n",
       "    </tr>\n",
       "    <tr>\n",
       "      <th>426877</th>\n",
       "      <td>wyoming</td>\n",
       "      <td>34990</td>\n",
       "      <td>2020.0</td>\n",
       "      <td>cadillac</td>\n",
       "      <td>xt4 sport suv 4d</td>\n",
       "      <td>good</td>\n",
       "      <td>NaN</td>\n",
       "      <td>diesel</td>\n",
       "      <td>4174.0</td>\n",
       "      <td>other</td>\n",
       "      <td>NaN</td>\n",
       "      <td>NaN</td>\n",
       "      <td>hatchback</td>\n",
       "      <td>white</td>\n",
       "      <td>Carvana is the safer way to buy a car During t...</td>\n",
       "      <td>wy</td>\n",
       "      <td>33.779214</td>\n",
       "      <td>-84.411811</td>\n",
       "      <td>2021-04-04T03:21:17-0600</td>\n",
       "    </tr>\n",
       "    <tr>\n",
       "      <th>426878</th>\n",
       "      <td>wyoming</td>\n",
       "      <td>28990</td>\n",
       "      <td>2018.0</td>\n",
       "      <td>lexus</td>\n",
       "      <td>es 350 sedan 4d</td>\n",
       "      <td>good</td>\n",
       "      <td>6 cylinders</td>\n",
       "      <td>gas</td>\n",
       "      <td>30112.0</td>\n",
       "      <td>other</td>\n",
       "      <td>fwd</td>\n",
       "      <td>NaN</td>\n",
       "      <td>sedan</td>\n",
       "      <td>silver</td>\n",
       "      <td>Carvana is the safer way to buy a car During t...</td>\n",
       "      <td>wy</td>\n",
       "      <td>33.786500</td>\n",
       "      <td>-84.445400</td>\n",
       "      <td>2021-04-04T03:21:11-0600</td>\n",
       "    </tr>\n",
       "    <tr>\n",
       "      <th>426879</th>\n",
       "      <td>wyoming</td>\n",
       "      <td>30590</td>\n",
       "      <td>2019.0</td>\n",
       "      <td>bmw</td>\n",
       "      <td>4 series 430i gran coupe</td>\n",
       "      <td>good</td>\n",
       "      <td>NaN</td>\n",
       "      <td>gas</td>\n",
       "      <td>22716.0</td>\n",
       "      <td>other</td>\n",
       "      <td>rwd</td>\n",
       "      <td>NaN</td>\n",
       "      <td>coupe</td>\n",
       "      <td>NaN</td>\n",
       "      <td>Carvana is the safer way to buy a car During t...</td>\n",
       "      <td>wy</td>\n",
       "      <td>33.779214</td>\n",
       "      <td>-84.411811</td>\n",
       "      <td>2021-04-04T03:21:07-0600</td>\n",
       "    </tr>\n",
       "  </tbody>\n",
       "</table>\n",
       "</div>"
      ],
      "text/plain": [
       "         region  price    year manufacturer                     model  \\\n",
       "426875  wyoming  23590  2019.0       nissan         maxima s sedan 4d   \n",
       "426876  wyoming  30590  2020.0        volvo  s60 t5 momentum sedan 4d   \n",
       "426877  wyoming  34990  2020.0     cadillac          xt4 sport suv 4d   \n",
       "426878  wyoming  28990  2018.0        lexus           es 350 sedan 4d   \n",
       "426879  wyoming  30590  2019.0          bmw  4 series 430i gran coupe   \n",
       "\n",
       "       condition    cylinders    fuel  odometer transmission drive size  \\\n",
       "426875      good  6 cylinders     gas   32226.0        other   fwd  NaN   \n",
       "426876      good          NaN     gas   12029.0        other   fwd  NaN   \n",
       "426877      good          NaN  diesel    4174.0        other   NaN  NaN   \n",
       "426878      good  6 cylinders     gas   30112.0        other   fwd  NaN   \n",
       "426879      good          NaN     gas   22716.0        other   rwd  NaN   \n",
       "\n",
       "             type paint_color  \\\n",
       "426875      sedan         NaN   \n",
       "426876      sedan         red   \n",
       "426877  hatchback       white   \n",
       "426878      sedan      silver   \n",
       "426879      coupe         NaN   \n",
       "\n",
       "                                              description state        lat  \\\n",
       "426875  Carvana is the safer way to buy a car During t...    wy  33.786500   \n",
       "426876  Carvana is the safer way to buy a car During t...    wy  33.786500   \n",
       "426877  Carvana is the safer way to buy a car During t...    wy  33.779214   \n",
       "426878  Carvana is the safer way to buy a car During t...    wy  33.786500   \n",
       "426879  Carvana is the safer way to buy a car During t...    wy  33.779214   \n",
       "\n",
       "             long              posting_date  \n",
       "426875 -84.445400  2021-04-04T03:21:31-0600  \n",
       "426876 -84.445400  2021-04-04T03:21:29-0600  \n",
       "426877 -84.411811  2021-04-04T03:21:17-0600  \n",
       "426878 -84.445400  2021-04-04T03:21:11-0600  \n",
       "426879 -84.411811  2021-04-04T03:21:07-0600  "
      ]
     },
     "execution_count": 17,
     "metadata": {},
     "output_type": "execute_result"
    }
   ],
   "source": [
    "df.tail()"
   ]
  },
  {
   "cell_type": "code",
   "execution_count": 18,
   "id": "dcb8d261",
   "metadata": {},
   "outputs": [
    {
     "data": {
      "text/plain": [
       "manufacturer\n",
       "ford               67831\n",
       "chevrolet          52413\n",
       "toyota             32368\n",
       "honda              19709\n",
       "jeep               18064\n",
       "nissan             17539\n",
       "ram                17495\n",
       "gmc                16099\n",
       "bmw                14195\n",
       "dodge              12834\n",
       "mercedes-benz      11387\n",
       "hyundai             9803\n",
       "volkswagen          8911\n",
       "subaru              8701\n",
       "kia                 8085\n",
       "lexus               7948\n",
       "audi                7332\n",
       "cadillac            6526\n",
       "acura               5745\n",
       "chrysler            5669\n",
       "buick               5198\n",
       "mazda               5122\n",
       "infiniti            4602\n",
       "lincoln             4025\n",
       "volvo               3274\n",
       "mitsubishi          3119\n",
       "mini                2289\n",
       "pontiac             2155\n",
       "rover               2008\n",
       "jaguar              1902\n",
       "porsche             1332\n",
       "mercury             1133\n",
       "saturn              1048\n",
       "alfa-romeo           892\n",
       "tesla                821\n",
       "fiat                 760\n",
       "harley-davidson      150\n",
       "ferrari               89\n",
       "datsun                60\n",
       "aston-martin          24\n",
       "land rover            21\n",
       "morgan                 3\n",
       "Name: count, dtype: int64"
      ]
     },
     "execution_count": 18,
     "metadata": {},
     "output_type": "execute_result"
    }
   ],
   "source": [
    "df['manufacturer'].value_counts()"
   ]
  },
  {
   "cell_type": "code",
   "execution_count": 19,
   "id": "d8d9f523",
   "metadata": {},
   "outputs": [],
   "source": [
    "#df['manufacturer'].unique()"
   ]
  },
  {
   "cell_type": "code",
   "execution_count": 20,
   "id": "89d3e9fb",
   "metadata": {},
   "outputs": [],
   "source": [
    "#manufacturer = df['manufacturer'].unique()"
   ]
  },
  {
   "cell_type": "code",
   "execution_count": 21,
   "id": "d92b6a8e",
   "metadata": {},
   "outputs": [],
   "source": [
    "#manufacturer"
   ]
  },
  {
   "cell_type": "code",
   "execution_count": 22,
   "id": "35a86fd4",
   "metadata": {},
   "outputs": [],
   "source": [
    "#condition = df['condition'].unique().tolist()\n",
    "#condition"
   ]
  },
  {
   "cell_type": "code",
   "execution_count": 23,
   "id": "83e5f9c6",
   "metadata": {},
   "outputs": [],
   "source": [
    "#size = df['size'].unique().tolist()\n",
    "#paint_color = df['paint_color'].unique().tolist()\n",
    "#fuel = df[\"fuel\"].unique().tolist()\n",
    "#drive = df['drive'].unique().tolist()\n",
    "#condition = df['condition'].unique().tolist()\n",
    "#cylinders = df['cylinders'].unique().tolist()\n",
    "#transmission = df[\"transmission\"].unique().tolist()\n",
    "#manufacturer = df['manufacturer'].unique().tolist\n",
    "#fuel = [str(value).strip() for value in fuel if pd.notnull(value)]\n",
    "#fuel= set(fuel)\n",
    "#print(fuel)"
   ]
  },
  {
   "cell_type": "code",
   "execution_count": 24,
   "id": "73c3f3bd",
   "metadata": {},
   "outputs": [],
   "source": [
    "columns = [\"size\",\"paint_color\",\"fuel\",\"drive\",\"condition\",\"manufacturer\",\"cylinders\",\"condition\",\"transmission\"]"
   ]
  },
  {
   "cell_type": "code",
   "execution_count": null,
   "id": "f8f9af0d",
   "metadata": {},
   "outputs": [],
   "source": []
  },
  {
   "cell_type": "markdown",
   "id": "bd5fe5f5",
   "metadata": {},
   "source": [
    "def get_unique_values(df, column_name):\n",
    "    try:\n",
    "        unique_values = df[column_name].unique()\n",
    "        return unique_values\n",
    "    except KeyError:\n",
    "        print(f\"Column '{column_name}' not found in DataFrame.\")\n",
    "        return []\n",
    "drive=get_unique_values(df, \"drive\")\n",
    "print(drive)"
   ]
  },
  {
   "cell_type": "markdown",
   "id": "3120391b",
   "metadata": {},
   "source": [
    "def list_to_regex_pattern(lst):\n",
    "    \n",
    "    # Clean the list (remove None values and NaN)\n",
    "    cleaned_list = [value for value in lst if pd.notnull(value)]\n",
    "    \n",
    "    # Escape special characters and strip whitespace\n",
    "    escaped_values = [re.escape(str(value).strip()) for value in cleaned_list]\n",
    "    \n",
    "    # Join values with ' | ' for regex OR operation and enclose in parentheses\n",
    "    pattern = '(' + ' | '.join(escaped_values) + ')'\n",
    "    \n",
    "    return pattern\n",
    "drive=list_to_regex_pattern(drive)\n",
    "print(drive)"
   ]
  },
  {
   "cell_type": "code",
   "execution_count": 25,
   "id": "db8d5d9b",
   "metadata": {},
   "outputs": [
    {
     "name": "stdout",
     "output_type": "stream",
     "text": [
      "(full\\-size | mid\\-size | compact | sub\\-compact)\n",
      "(white | blue | red | black | silver | grey | brown | yellow | orange | green | custom | purple)\n",
      "(gas | other | diesel | hybrid | electric)\n",
      "(rwd | 4wd | fwd)\n",
      "(good | excellent | fair | like\\ new | new | salvage)\n",
      "(gmc | chevrolet | toyota | ford | jeep | nissan | ram | mazda | cadillac | honda | lexus | jaguar | buick | chrysler | volvo | audi | infiniti | lincoln | alfa\\-romeo | subaru | acura | hyundai | mercedes\\-benz | bmw | mitsubishi | volkswagen | porsche | kia | dodge | rover | ferrari | mini | pontiac | fiat | tesla | saturn | mercury | harley\\-davidson | datsun | aston\\-martin | land\\ rover | morgan)\n",
      "(8\\ cylinders | 6\\ cylinders | 4\\ cylinders | 5\\ cylinders | other | 3\\ cylinders | 10\\ cylinders | 12\\ cylinders)\n",
      "(good | excellent | fair | like\\ new | new | salvage)\n",
      "(other | automatic | manual)\n"
     ]
    }
   ],
   "source": [
    "def get_unique_values_and_convert_to_regex(df, column_name):\n",
    "    try:\n",
    "        # Get unique values from the column\n",
    "        unique_values = df[column_name].dropna().unique().tolist()\n",
    "        \n",
    "        # Clean the list (remove None values and NaN)\n",
    "        cleaned_list = [value for value in unique_values if pd.notnull(value)]\n",
    "        \n",
    "        # Escape special characters and strip whitespace\n",
    "        escaped_values = [re.escape(str(value).strip()) for value in cleaned_list]\n",
    "        \n",
    "        # Join values with ' | ' for regex OR operation and enclose in parentheses\n",
    "        pattern = '(' + ' | '.join(escaped_values) + ')'\n",
    "        \n",
    "        return pattern\n",
    "    except KeyError:\n",
    "        print(f\"Column '{column_name}' not found in DataFrame.\")\n",
    "        return None\n",
    "size=get_unique_values_and_convert_to_regex(df,\"size\")\n",
    "paint_color=get_unique_values_and_convert_to_regex(df,\"paint_color\")\n",
    "fuel=get_unique_values_and_convert_to_regex(df,\"fuel\")\n",
    "drive=get_unique_values_and_convert_to_regex(df,\"drive\")\n",
    "condition=get_unique_values_and_convert_to_regex(df,\"condition\")\n",
    "manufacturer=get_unique_values_and_convert_to_regex(df,\"manufacturer\")\n",
    "cylinders=get_unique_values_and_convert_to_regex(df,\"cylinders\")\n",
    "condition=get_unique_values_and_convert_to_regex(df,\"condition\")\n",
    "transmission=get_unique_values_and_convert_to_regex(df,\"transmission\")\n",
    "\n",
    "print(size)\n",
    "print(paint_color)\n",
    "print(fuel)\n",
    "print(drive)\n",
    "print(condition)\n",
    "print(manufacturer)\n",
    "print(cylinders)\n",
    "print(condition)\n",
    "print(transmission)"
   ]
  },
  {
   "cell_type": "markdown",
   "id": "f071df1a",
   "metadata": {},
   "source": [
    "size = '(mid-size | full-size | compact | sub-compact)'\n",
    "paint_color = '(red | grey | blue | white | custom | silver | brown | black | purple | green | orange | yellow)'\n",
    "fuel = '(gas | hybrid | diesel | electric)'\n",
    "drive = '(4x4 | awd | fwd | rwd | 4wd)'\n",
    "condition = '(excellent | good | fair | like new | salvage | new)'\n",
    "manufacturer = '(gmc | hyundai | toyota | mitsubishi | ford | chevrolet | ram | buick | jeep | dodge | subaru | nissan | audi | rover  | lexus | honda | chrysler | mini | pontiac | mercedes-benz | cadillac | bmw | kia | volvo | volkswagen | jaguar | acura | saturn | mazda | mercury | lincoln | infiniti | ferrari | fiat | tesla | land rover | harley-davidson | datsun | alfa-romeo | morgan | aston-martin | porche | hennessey)'\n",
    "cylinders = '(\\s[1-9] cylinders? |\\s1[0-6]? cylinders?)'\n",
    "transmission = '(automatic | manual)'"
   ]
  },
  {
   "cell_type": "code",
   "execution_count": 26,
   "id": "cd97f602",
   "metadata": {},
   "outputs": [],
   "source": [
    "keylist=['size','paint_color','fuel','drive','condition', 'manufacturer','cylinders','condition',\"transmission\"]\n",
    "columns = [ size,paint_color,fuel,drive,condition,manufacturer,cylinders,condition,transmission]"
   ]
  },
  {
   "cell_type": "code",
   "execution_count": 27,
   "id": "6bdc2953",
   "metadata": {},
   "outputs": [],
   "source": [
    "import re\n",
    "\n",
    "for i,column in zip(keylist,columns):\n",
    "    df[i] = df[i].fillna(\n",
    "      df['description'].str.extract(column, flags=re.IGNORECASE, expand=False)).str.lower()\n",
    "\n"
   ]
  },
  {
   "cell_type": "code",
   "execution_count": 28,
   "id": "a4a07195",
   "metadata": {},
   "outputs": [
    {
     "name": "stdout",
     "output_type": "stream",
     "text": [
      "<class 'pandas.core.frame.DataFrame'>\n",
      "Index: 405108 entries, 27 to 426879\n",
      "Data columns (total 19 columns):\n",
      " #   Column        Non-Null Count   Dtype  \n",
      "---  ------        --------------   -----  \n",
      " 0   region        405108 non-null  object \n",
      " 1   price         405108 non-null  int64  \n",
      " 2   year          404325 non-null  float64\n",
      " 3   manufacturer  393725 non-null  object \n",
      " 4   model         400231 non-null  object \n",
      " 5   condition     322125 non-null  object \n",
      " 6   cylinders     288055 non-null  object \n",
      " 7   fuel          403864 non-null  object \n",
      " 8   odometer      401355 non-null  float64\n",
      " 9   transmission  403845 non-null  object \n",
      " 10  drive         298529 non-null  object \n",
      " 11  size          131220 non-null  object \n",
      " 12  type          317539 non-null  object \n",
      " 13  paint_color   329048 non-null  object \n",
      " 14  description   405106 non-null  object \n",
      " 15  state         405108 non-null  object \n",
      " 16  lat           398654 non-null  float64\n",
      " 17  long          398654 non-null  float64\n",
      " 18  posting_date  405108 non-null  object \n",
      "dtypes: float64(4), int64(1), object(14)\n",
      "memory usage: 61.8+ MB\n"
     ]
    }
   ],
   "source": [
    "df.info()"
   ]
  },
  {
   "cell_type": "code",
   "execution_count": null,
   "id": "a3df31aa",
   "metadata": {},
   "outputs": [],
   "source": []
  },
  {
   "cell_type": "code",
   "execution_count": 29,
   "id": "cf3a6b7f",
   "metadata": {},
   "outputs": [],
   "source": [
    "def clean_unique_values(df, column_name):\n",
    "    try:\n",
    "        # Get unique values from the column\n",
    "        unique_values = df[column_name].dropna().unique().tolist()\n",
    "        \n",
    "        # Clean the list (strip whitespace and convert to string)\n",
    "        cleaned_values = [str(value).strip() for value in unique_values if pd.notnull(value)]\n",
    "        \n",
    "        # Remove duplicates using set and convert back to list\n",
    "        unique_cleaned_values = list(set(cleaned_values))\n",
    "        \n",
    "        return unique_cleaned_values\n",
    "    except KeyError:\n",
    "        print(f\"Column '{column_name}' not found in DataFrame.\")\n",
    "        return []\n",
    "\n",
    "# Example usage:\n",
    "\n",
    "# Assuming df is your DataFrame containing the column 'fuel'\n",
    "# Replace df with your actual DataFrame\n",
    "\n",
    "# Call the function to clean and get unique values for 'fuel'\n",
    "\n",
    "# Print the resulting list of unique, cleaned values for 'fuel'\n",
    "size = clean_unique_values(df,\"size\")\n",
    "paint_color = clean_unique_values(df,\"paint_color\")\n",
    "fuel = clean_unique_values(df,\"fuel\")\n",
    "drive = clean_unique_values(df,\"drive\")\n",
    "condition = clean_unique_values(df,\"condition\")\n",
    "manufacturer = clean_unique_values(df,\"manufacturer\")\n",
    "cylinders = clean_unique_values(df,\"cylinders\")\n",
    "condition = clean_unique_values(df,\"condition\")\n",
    "drive = clean_unique_values(df,\"drive\")\n",
    "transmission = drive = clean_unique_values(df,\"transmission\")"
   ]
  },
  {
   "cell_type": "code",
   "execution_count": 32,
   "id": "daa45560",
   "metadata": {},
   "outputs": [
    {
     "name": "stdout",
     "output_type": "stream",
     "text": [
      "<class 'pandas.core.frame.DataFrame'>\n",
      "Index: 405108 entries, 27 to 426879\n",
      "Data columns (total 19 columns):\n",
      " #   Column        Non-Null Count   Dtype  \n",
      "---  ------        --------------   -----  \n",
      " 0   region        405108 non-null  object \n",
      " 1   price         405108 non-null  int64  \n",
      " 2   year          404325 non-null  float64\n",
      " 3   manufacturer  397763 non-null  object \n",
      " 4   model         400231 non-null  object \n",
      " 5   condition     337128 non-null  object \n",
      " 6   cylinders     295905 non-null  object \n",
      " 7   fuel          404443 non-null  object \n",
      " 8   odometer      401355 non-null  float64\n",
      " 9   transmission  403904 non-null  object \n",
      " 10  drive         368757 non-null  object \n",
      " 11  size          135295 non-null  object \n",
      " 12  type          317539 non-null  object \n",
      " 13  paint_color   377200 non-null  object \n",
      " 14  description   405106 non-null  object \n",
      " 15  state         405108 non-null  object \n",
      " 16  lat           398654 non-null  float64\n",
      " 17  long          398654 non-null  float64\n",
      " 18  posting_date  405108 non-null  object \n",
      "dtypes: float64(4), int64(1), object(14)\n",
      "memory usage: 61.8+ MB\n"
     ]
    }
   ],
   "source": [
    "keylists = [(size,\"size\"),(paint_color,\"paint_color\"),(fuel,\"fuel\"),(drive,\"drive\"),(condition,\"condition\"),(manufacturer,\"manufacturer\"),(cylinders,\"cylinders\"),(transmission,\"transmission\")]\n",
    "#fuel_keywords = ['gas', 'petrol', 'electric', 'hybrid']\n",
    "#transmission_keywords = ['automatic', 'manual']\n",
    "# List of keywords lists and corresponding column names\n",
    "#keylists = [(fuel_keywords, 'fuel'), (transmission_keywords, 'transmission')]\n",
    "# Function to extract and fill keywords\n",
    "def fill_na_with_keywords(row, keylists):\n",
    "    description = row['description']\n",
    "    if pd.isna(description):\n",
    "        return row\n",
    "    for keywords, col in keylists:\n",
    "        if pd.isna(row[col]):\n",
    "            for keyword in keywords:\n",
    "                if keyword in description.lower():\n",
    "                    row[col] = keyword\n",
    "                    break\n",
    "    return row\n",
    "# Apply the function to each row\n",
    "df = df.apply(lambda row: fill_na_with_keywords(row, keylists), axis=1)\n",
    "df.info()"
   ]
  },
  {
   "cell_type": "code",
   "execution_count": null,
   "id": "d35435d0",
   "metadata": {},
   "outputs": [],
   "source": [
    "0   region        405108 non-null  object \n",
    " 1   price         405108 non-null  int64  \n",
    " 2   year          404325 non-null  float64\n",
    " 3   manufacturer  388681 non-null  object \n",
    " 4   model         400231 non-null  object \n",
    " 5   condition     237672 non-null  object \n",
    " 6   cylinders     232555 non-null  object \n",
    " 7   fuel          403346 non-null  object \n",
    " 8   odometer      401355 non-null  float64\n",
    " 9   transmission  403241 non-null  object \n",
    " 10  drive         282725 non-null  object \n",
    " 11  size          114330 non-null  object \n",
    " 12  type          317539 non-null  object \n",
    " 13  paint_color   285687 non-null  object \n",
    " 14  description   405106 non-null  object \n",
    " 15  state         405108 non-null  object \n",
    " 16  lat           398654 non-null  float64\n",
    " 17  long          398654 non-null  float64\n",
    " 18  posting_date  405108 non-null  object"
   ]
  },
  {
   "cell_type": "code",
   "execution_count": null,
   "id": "09267ce2",
   "metadata": {},
   "outputs": [],
   "source": [
    " 0   region        426880 non-null  object \n",
    " 1   price         426880 non-null  int64  \n",
    " 2   year          425675 non-null  float64\n",
    " 3   manufacturer  409234 non-null  object \n",
    " 4   model         421603 non-null  object \n",
    " 5   condition     252776 non-null  object \n",
    " 6   cylinders     249202 non-null  object \n",
    " 7   fuel          423867 non-null  object \n",
    " 8   odometer      422480 non-null  float64\n",
    " 9   title_status  418638 non-null  object \n",
    " 10  transmission  424324 non-null  object \n",
    " 11  drive         296313 non-null  object \n",
    " 12  size          120519 non-null  object \n",
    " 13  type          334022 non-null  object \n",
    " 14  paint_color   296677 non-null  object \n",
    " 15  description   426810 non-null  object \n",
    " 16  county        0 non-null       float64\n",
    " 17  state         426880 non-null  object \n",
    " 18  lat           420331 non-null  float64\n",
    " 19  long          420331 non-null  float64\n",
    " 20  posting_date  426812 non-null  object\n",
    "    "
   ]
  },
  {
   "cell_type": "code",
   "execution_count": null,
   "id": "b15ce563",
   "metadata": {},
   "outputs": [],
   "source": [
    "<class 'pandas.core.frame.DataFrame'>\n",
    "Index: 405108 entries, 27 to 426879\n",
    "Data columns (total 19 columns):\n",
    " #   Column        Non-Null Count   Dtype  \n",
    "---  ------        --------------   -----  \n",
    " 0   region        405108 non-null  object \n",
    " 1   price         405108 non-null  int64  \n",
    " 2   year          404325 non-null  float64\n",
    " 3   manufacturer  393685 non-null  object \n",
    " 4   model         400231 non-null  object \n",
    " 5   condition     324880 non-null  object \n",
    " 6   cylinders     241882 non-null  object \n",
    " 7   fuel          403629 non-null  object \n",
    " 8   odometer      401355 non-null  float64\n",
    " 9   transmission  403571 non-null  object \n",
    " 10  drive         313674 non-null  object \n",
    " 11  size          131119 non-null  object \n",
    " 12  type          317539 non-null  object \n",
    " 13  paint_color   357318 non-null  object \n",
    " 14  description   405106 non-null  object \n",
    " 15  state         405108 non-null  object \n",
    " 16  lat           398654 non-null  float64\n",
    " 17  long          398654 non-null  float64\n",
    " 18  posting_date  405108 non-null  object \n",
    "dtypes: float64(4), int64(1), object(14)\n",
    "memory usage: 61.8+ MB"
   ]
  },
  {
   "cell_type": "code",
   "execution_count": null,
   "id": "18da2b42",
   "metadata": {},
   "outputs": [],
   "source": []
  },
  {
   "cell_type": "code",
   "execution_count": null,
   "id": "1f9047fd",
   "metadata": {},
   "outputs": [],
   "source": []
  },
  {
   "cell_type": "code",
   "execution_count": null,
   "id": "963260b0",
   "metadata": {},
   "outputs": [],
   "source": []
  },
  {
   "cell_type": "code",
   "execution_count": null,
   "id": "f000b1bc",
   "metadata": {},
   "outputs": [],
   "source": []
  },
  {
   "cell_type": "code",
   "execution_count": null,
   "id": "b767704f",
   "metadata": {},
   "outputs": [],
   "source": []
  },
  {
   "cell_type": "code",
   "execution_count": null,
   "id": "9c041407",
   "metadata": {},
   "outputs": [],
   "source": []
  },
  {
   "cell_type": "code",
   "execution_count": null,
   "id": "f4d607c7",
   "metadata": {},
   "outputs": [],
   "source": []
  },
  {
   "cell_type": "code",
   "execution_count": null,
   "id": "19c7f1cd",
   "metadata": {},
   "outputs": [],
   "source": [
    "#train_test_split"
   ]
  },
  {
   "cell_type": "markdown",
   "id": "91a5cb05",
   "metadata": {},
   "source": [
    "#feature selection\n",
    "\n",
    "Feature selector\n",
    "from sklearn.feature_selection import SequentialFeatureSelector\n",
    "# Perform forward feature selection\n",
    "forward_selector = SequentialFeatureSelector(model, direction='forward', n_features_to_select='auto')\n",
    "forward_selector.fit(X_train, y_train)\n",
    "\n",
    "# Get the selected features\n",
    "selected_features_forward = X.columns[forward_selector.get_support()]\n",
    "print(\"Selected features (Forward Selection):\", selected_features_forward)\n",
    "# Perform backward feature elimination\n",
    "backward_selector = SequentialFeatureSelector(model, direction='backward', n_features_to_select='auto')\n",
    "backward_selector.fit(X_train, y_train)\n",
    "\n"
   ]
  },
  {
   "cell_type": "code",
   "execution_count": null,
   "id": "d671f816",
   "metadata": {},
   "outputs": [],
   "source": [
    "#input function"
   ]
  },
  {
   "cell_type": "code",
   "execution_count": null,
   "id": "6ec1d751",
   "metadata": {},
   "outputs": [],
   "source": []
  },
  {
   "cell_type": "code",
   "execution_count": null,
   "id": "4f72b59b",
   "metadata": {},
   "outputs": [],
   "source": []
  },
  {
   "cell_type": "code",
   "execution_count": null,
   "id": "bdd65bbd",
   "metadata": {},
   "outputs": [],
   "source": []
  }
 ],
 "metadata": {
  "kernelspec": {
   "display_name": "Python 3 (ipykernel)",
   "language": "python",
   "name": "python3"
  },
  "language_info": {
   "codemirror_mode": {
    "name": "ipython",
    "version": 3
   },
   "file_extension": ".py",
   "mimetype": "text/x-python",
   "name": "python",
   "nbconvert_exporter": "python",
   "pygments_lexer": "ipython3",
   "version": "3.11.3"
  }
 },
 "nbformat": 4,
 "nbformat_minor": 5
}
