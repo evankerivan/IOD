{
 "cells": [
  {
   "cell_type": "code",
   "execution_count": 1,
   "id": "a2ac09ed",
   "metadata": {},
   "outputs": [],
   "source": [
    "import sqlite3\n",
    "sqlite_db = 'test_db.sqlite'\n",
    "conn = sqlite3.connect(sqlite_db)\n",
    "c = conn.cursor()"
   ]
  },
  {
   "cell_type": "code",
   "execution_count": 19,
   "id": "505ee8f9",
   "metadata": {},
   "outputs": [],
   "source": [
    "c.execute('CREATE TABLE students (student_id INTEGER PRIMARY KEY, name TEXT, age INTEGER, major TEXT);')\n",
    "conn.commit()"
   ]
  },
  {
   "cell_type": "code",
   "execution_count": 18,
   "id": "4d40ff90",
   "metadata": {},
   "outputs": [
    {
     "data": {
      "text/plain": [
       "<sqlite3.Cursor at 0x1053831c0>"
      ]
     },
     "execution_count": 18,
     "metadata": {},
     "output_type": "execute_result"
    }
   ],
   "source": [
    "c.execute('DROP TABLE students;')\n"
   ]
  },
  {
   "cell_type": "code",
   "execution_count": 20,
   "id": "07cd653d",
   "metadata": {},
   "outputs": [],
   "source": [
    "student1 = (1, 'mary', 15, 'science')\n",
    "\n",
    "# Execute Command\n",
    "c.execute('INSERT INTO students VALUES (?,?,?,?)',student1)\n",
    "\n",
    "# Remember to commit the changes\n",
    "conn.commit()"
   ]
  },
  {
   "cell_type": "code",
   "execution_count": 21,
   "id": "fe0b470e",
   "metadata": {},
   "outputs": [
    {
     "data": {
      "text/plain": [
       "[('mary',)]"
      ]
     },
     "execution_count": 21,
     "metadata": {},
     "output_type": "execute_result"
    }
   ],
   "source": [
    "all_students=c.execute(\"SELECT name FROM students\")\n",
    "all_students.fetchall()"
   ]
  },
  {
   "cell_type": "code",
   "execution_count": 22,
   "id": "00d317bf",
   "metadata": {},
   "outputs": [
    {
     "name": "stdout",
     "output_type": "stream",
     "text": [
      "<sqlite3.Cursor object at 0x1053831c0>\n"
     ]
    }
   ],
   "source": []
  },
  {
   "cell_type": "code",
   "execution_count": 24,
   "id": "5ec02217",
   "metadata": {},
   "outputs": [],
   "source": [
    "c.execute('CREATE TABLE enrollments (enrollment_id INTEGER PRIMARY KEY, student_id integer FOREIGN_KEY, course_id INTERGER FORIEGN_KEY);')\n",
    "conn.commit()"
   ]
  },
  {
   "cell_type": "code",
   "execution_count": 25,
   "id": "7873f89f",
   "metadata": {},
   "outputs": [],
   "source": [
    "c.execute('CREATE TABLE exams (exam_id INTEGER PRIMARY KEY, enrollment_id INTEGER FOREIGN_KEY, score INTEGER);')\n",
    "conn.commit()"
   ]
  },
  {
   "cell_type": "code",
   "execution_count": 34,
   "id": "97f103a9",
   "metadata": {},
   "outputs": [
    {
     "data": {
      "text/plain": [
       "<function Connection.commit()>"
      ]
     },
     "execution_count": 34,
     "metadata": {},
     "output_type": "execute_result"
    }
   ],
   "source": [
    "values = [(5,'Rachel',22, \"geometry\"),(6,'JAnet',25, \"english\"),(7,'Jim',22, \"cartography\")]\n",
    "c.executemany(\"INSERT INTO students (student_id, name, age, major) VALUES (?, ?, ?, ?)\", values)\n",
    "conn.commit"
   ]
  },
  {
   "cell_type": "code",
   "execution_count": 37,
   "id": "119c306c",
   "metadata": {},
   "outputs": [
    {
     "data": {
      "text/plain": [
       "[(15,), (22,), (25,), (21,), (22,), (25,), (22,)]"
      ]
     },
     "execution_count": 37,
     "metadata": {},
     "output_type": "execute_result"
    }
   ],
   "source": [
    "all_students=c.execute(\"SELECT age FROM students\")\n",
    "all_students.fetchall()"
   ]
  },
  {
   "cell_type": "code",
   "execution_count": null,
   "id": "b1852665",
   "metadata": {},
   "outputs": [],
   "source": []
  }
 ],
 "metadata": {
  "kernelspec": {
   "display_name": "Python 3 (ipykernel)",
   "language": "python",
   "name": "python3"
  },
  "language_info": {
   "codemirror_mode": {
    "name": "ipython",
    "version": 3
   },
   "file_extension": ".py",
   "mimetype": "text/x-python",
   "name": "python",
   "nbconvert_exporter": "python",
   "pygments_lexer": "ipython3",
   "version": "3.11.3"
  }
 },
 "nbformat": 4,
 "nbformat_minor": 5
}
